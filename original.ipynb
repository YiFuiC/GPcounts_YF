{
 "cells": [
  {
   "cell_type": "code",
   "execution_count": 1,
   "metadata": {},
   "outputs": [],
   "source": [
    "import scanpy as sc\n",
    "\n",
    "import scanpy as sc\n",
    "import simstpy as sim\n",
    "adata = sc.read_h5ad(r\"C:\\Users\\User\\GPcounts\\GPcounts\\demo_notebooks\\benchmark.h5ad\")\n",
    "data = adata"
   ]
  },
  {
   "cell_type": "code",
   "execution_count": 2,
   "metadata": {},
   "outputs": [],
   "source": [
    "sc.pp.normalize_total(data, target_sum=1e4)\n",
    "sc.pp.log1p(adata)"
   ]
  },
  {
   "cell_type": "code",
   "execution_count": 3,
   "metadata": {},
   "outputs": [
    {
     "name": "stderr",
     "output_type": "stream",
     "text": [
      "c:\\Users\\User\\GPcounts\\.venv\\lib\\site-packages\\statsmodels\\genmod\\families\\links.py:13: FutureWarning: The identity link alias is deprecated. Use Identity instead. The identity link alias will be removed after the 0.15.0 release.\n",
      "  warnings.warn(\n",
      "c:\\Users\\User\\GPcounts\\.venv\\lib\\site-packages\\statsmodels\\genmod\\families\\family.py:1367: ValueWarning: Negative binomial dispersion parameter alpha not set. Using default value alpha=1.0.\n",
      "  warnings.warn(\"Negative binomial dispersion parameter alpha not \"\n",
      "c:\\Users\\User\\GPcounts\\.venv\\lib\\site-packages\\statsmodels\\genmod\\generalized_linear_model.py:308: DomainWarning: The identity link function does not respect the domain of the NegativeBinomial family.\n",
      "  warnings.warn((f\"The {type(family.link).__name__} link function \"\n",
      "C:\\Users\\User\\AppData\\Local\\Temp\\ipykernel_3908\\863504745.py:19: FutureWarning: Series.__getitem__ treating keys as positions is deprecated. In a future version, integer keys will always be treated as labels (consistent with DataFrame behavior). To access a value by position, use `ser.iloc[pos]`\n",
      "  res = model.params[0]*spatial_locations['total_counts']\n",
      "c:\\Users\\User\\GPcounts\\.venv\\lib\\site-packages\\statsmodels\\genmod\\families\\links.py:13: FutureWarning: The identity link alias is deprecated. Use Identity instead. The identity link alias will be removed after the 0.15.0 release.\n",
      "  warnings.warn(\n",
      "c:\\Users\\User\\GPcounts\\.venv\\lib\\site-packages\\statsmodels\\genmod\\families\\family.py:1367: ValueWarning: Negative binomial dispersion parameter alpha not set. Using default value alpha=1.0.\n",
      "  warnings.warn(\"Negative binomial dispersion parameter alpha not \"\n",
      "c:\\Users\\User\\GPcounts\\.venv\\lib\\site-packages\\statsmodels\\genmod\\generalized_linear_model.py:308: DomainWarning: The identity link function does not respect the domain of the NegativeBinomial family.\n",
      "  warnings.warn((f\"The {type(family.link).__name__} link function \"\n",
      "C:\\Users\\User\\AppData\\Local\\Temp\\ipykernel_3908\\863504745.py:19: FutureWarning: Series.__getitem__ treating keys as positions is deprecated. In a future version, integer keys will always be treated as labels (consistent with DataFrame behavior). To access a value by position, use `ser.iloc[pos]`\n",
      "  res = model.params[0]*spatial_locations['total_counts']\n",
      "c:\\Users\\User\\GPcounts\\.venv\\lib\\site-packages\\statsmodels\\genmod\\families\\links.py:13: FutureWarning: The identity link alias is deprecated. Use Identity instead. The identity link alias will be removed after the 0.15.0 release.\n",
      "  warnings.warn(\n",
      "c:\\Users\\User\\GPcounts\\.venv\\lib\\site-packages\\statsmodels\\genmod\\families\\family.py:1367: ValueWarning: Negative binomial dispersion parameter alpha not set. Using default value alpha=1.0.\n",
      "  warnings.warn(\"Negative binomial dispersion parameter alpha not \"\n",
      "c:\\Users\\User\\GPcounts\\.venv\\lib\\site-packages\\statsmodels\\genmod\\generalized_linear_model.py:308: DomainWarning: The identity link function does not respect the domain of the NegativeBinomial family.\n",
      "  warnings.warn((f\"The {type(family.link).__name__} link function \"\n",
      "C:\\Users\\User\\AppData\\Local\\Temp\\ipykernel_3908\\863504745.py:19: FutureWarning: Series.__getitem__ treating keys as positions is deprecated. In a future version, integer keys will always be treated as labels (consistent with DataFrame behavior). To access a value by position, use `ser.iloc[pos]`\n",
      "  res = model.params[0]*spatial_locations['total_counts']\n",
      "c:\\Users\\User\\GPcounts\\.venv\\lib\\site-packages\\statsmodels\\genmod\\families\\links.py:13: FutureWarning: The identity link alias is deprecated. Use Identity instead. The identity link alias will be removed after the 0.15.0 release.\n",
      "  warnings.warn(\n",
      "c:\\Users\\User\\GPcounts\\.venv\\lib\\site-packages\\statsmodels\\genmod\\families\\family.py:1367: ValueWarning: Negative binomial dispersion parameter alpha not set. Using default value alpha=1.0.\n",
      "  warnings.warn(\"Negative binomial dispersion parameter alpha not \"\n",
      "c:\\Users\\User\\GPcounts\\.venv\\lib\\site-packages\\statsmodels\\genmod\\generalized_linear_model.py:308: DomainWarning: The identity link function does not respect the domain of the NegativeBinomial family.\n",
      "  warnings.warn((f\"The {type(family.link).__name__} link function \"\n",
      "C:\\Users\\User\\AppData\\Local\\Temp\\ipykernel_3908\\863504745.py:19: FutureWarning: Series.__getitem__ treating keys as positions is deprecated. In a future version, integer keys will always be treated as labels (consistent with DataFrame behavior). To access a value by position, use `ser.iloc[pos]`\n",
      "  res = model.params[0]*spatial_locations['total_counts']\n",
      "c:\\Users\\User\\GPcounts\\.venv\\lib\\site-packages\\statsmodels\\genmod\\families\\links.py:13: FutureWarning: The identity link alias is deprecated. Use Identity instead. The identity link alias will be removed after the 0.15.0 release.\n",
      "  warnings.warn(\n",
      "c:\\Users\\User\\GPcounts\\.venv\\lib\\site-packages\\statsmodels\\genmod\\families\\family.py:1367: ValueWarning: Negative binomial dispersion parameter alpha not set. Using default value alpha=1.0.\n",
      "  warnings.warn(\"Negative binomial dispersion parameter alpha not \"\n",
      "c:\\Users\\User\\GPcounts\\.venv\\lib\\site-packages\\statsmodels\\genmod\\generalized_linear_model.py:308: DomainWarning: The identity link function does not respect the domain of the NegativeBinomial family.\n",
      "  warnings.warn((f\"The {type(family.link).__name__} link function \"\n",
      "C:\\Users\\User\\AppData\\Local\\Temp\\ipykernel_3908\\863504745.py:19: FutureWarning: Series.__getitem__ treating keys as positions is deprecated. In a future version, integer keys will always be treated as labels (consistent with DataFrame behavior). To access a value by position, use `ser.iloc[pos]`\n",
      "  res = model.params[0]*spatial_locations['total_counts']\n",
      "c:\\Users\\User\\GPcounts\\.venv\\lib\\site-packages\\statsmodels\\genmod\\families\\links.py:13: FutureWarning: The identity link alias is deprecated. Use Identity instead. The identity link alias will be removed after the 0.15.0 release.\n",
      "  warnings.warn(\n",
      "c:\\Users\\User\\GPcounts\\.venv\\lib\\site-packages\\statsmodels\\genmod\\families\\family.py:1367: ValueWarning: Negative binomial dispersion parameter alpha not set. Using default value alpha=1.0.\n",
      "  warnings.warn(\"Negative binomial dispersion parameter alpha not \"\n",
      "c:\\Users\\User\\GPcounts\\.venv\\lib\\site-packages\\statsmodels\\genmod\\generalized_linear_model.py:308: DomainWarning: The identity link function does not respect the domain of the NegativeBinomial family.\n",
      "  warnings.warn((f\"The {type(family.link).__name__} link function \"\n",
      "C:\\Users\\User\\AppData\\Local\\Temp\\ipykernel_3908\\863504745.py:19: FutureWarning: Series.__getitem__ treating keys as positions is deprecated. In a future version, integer keys will always be treated as labels (consistent with DataFrame behavior). To access a value by position, use `ser.iloc[pos]`\n",
      "  res = model.params[0]*spatial_locations['total_counts']\n",
      "c:\\Users\\User\\GPcounts\\.venv\\lib\\site-packages\\statsmodels\\genmod\\families\\links.py:13: FutureWarning: The identity link alias is deprecated. Use Identity instead. The identity link alias will be removed after the 0.15.0 release.\n",
      "  warnings.warn(\n",
      "c:\\Users\\User\\GPcounts\\.venv\\lib\\site-packages\\statsmodels\\genmod\\families\\family.py:1367: ValueWarning: Negative binomial dispersion parameter alpha not set. Using default value alpha=1.0.\n",
      "  warnings.warn(\"Negative binomial dispersion parameter alpha not \"\n",
      "c:\\Users\\User\\GPcounts\\.venv\\lib\\site-packages\\statsmodels\\genmod\\generalized_linear_model.py:308: DomainWarning: The identity link function does not respect the domain of the NegativeBinomial family.\n",
      "  warnings.warn((f\"The {type(family.link).__name__} link function \"\n",
      "C:\\Users\\User\\AppData\\Local\\Temp\\ipykernel_3908\\863504745.py:19: FutureWarning: Series.__getitem__ treating keys as positions is deprecated. In a future version, integer keys will always be treated as labels (consistent with DataFrame behavior). To access a value by position, use `ser.iloc[pos]`\n",
      "  res = model.params[0]*spatial_locations['total_counts']\n",
      "c:\\Users\\User\\GPcounts\\.venv\\lib\\site-packages\\statsmodels\\genmod\\families\\links.py:13: FutureWarning: The identity link alias is deprecated. Use Identity instead. The identity link alias will be removed after the 0.15.0 release.\n",
      "  warnings.warn(\n",
      "c:\\Users\\User\\GPcounts\\.venv\\lib\\site-packages\\statsmodels\\genmod\\families\\family.py:1367: ValueWarning: Negative binomial dispersion parameter alpha not set. Using default value alpha=1.0.\n",
      "  warnings.warn(\"Negative binomial dispersion parameter alpha not \"\n",
      "c:\\Users\\User\\GPcounts\\.venv\\lib\\site-packages\\statsmodels\\genmod\\generalized_linear_model.py:308: DomainWarning: The identity link function does not respect the domain of the NegativeBinomial family.\n",
      "  warnings.warn((f\"The {type(family.link).__name__} link function \"\n",
      "C:\\Users\\User\\AppData\\Local\\Temp\\ipykernel_3908\\863504745.py:19: FutureWarning: Series.__getitem__ treating keys as positions is deprecated. In a future version, integer keys will always be treated as labels (consistent with DataFrame behavior). To access a value by position, use `ser.iloc[pos]`\n",
      "  res = model.params[0]*spatial_locations['total_counts']\n",
      "c:\\Users\\User\\GPcounts\\.venv\\lib\\site-packages\\statsmodels\\genmod\\families\\links.py:13: FutureWarning: The identity link alias is deprecated. Use Identity instead. The identity link alias will be removed after the 0.15.0 release.\n",
      "  warnings.warn(\n",
      "c:\\Users\\User\\GPcounts\\.venv\\lib\\site-packages\\statsmodels\\genmod\\families\\family.py:1367: ValueWarning: Negative binomial dispersion parameter alpha not set. Using default value alpha=1.0.\n",
      "  warnings.warn(\"Negative binomial dispersion parameter alpha not \"\n",
      "c:\\Users\\User\\GPcounts\\.venv\\lib\\site-packages\\statsmodels\\genmod\\generalized_linear_model.py:308: DomainWarning: The identity link function does not respect the domain of the NegativeBinomial family.\n",
      "  warnings.warn((f\"The {type(family.link).__name__} link function \"\n",
      "C:\\Users\\User\\AppData\\Local\\Temp\\ipykernel_3908\\863504745.py:19: FutureWarning: Series.__getitem__ treating keys as positions is deprecated. In a future version, integer keys will always be treated as labels (consistent with DataFrame behavior). To access a value by position, use `ser.iloc[pos]`\n",
      "  res = model.params[0]*spatial_locations['total_counts']\n",
      "c:\\Users\\User\\GPcounts\\.venv\\lib\\site-packages\\statsmodels\\genmod\\families\\links.py:13: FutureWarning: The identity link alias is deprecated. Use Identity instead. The identity link alias will be removed after the 0.15.0 release.\n",
      "  warnings.warn(\n",
      "c:\\Users\\User\\GPcounts\\.venv\\lib\\site-packages\\statsmodels\\genmod\\families\\family.py:1367: ValueWarning: Negative binomial dispersion parameter alpha not set. Using default value alpha=1.0.\n",
      "  warnings.warn(\"Negative binomial dispersion parameter alpha not \"\n",
      "c:\\Users\\User\\GPcounts\\.venv\\lib\\site-packages\\statsmodels\\genmod\\generalized_linear_model.py:308: DomainWarning: The identity link function does not respect the domain of the NegativeBinomial family.\n",
      "  warnings.warn((f\"The {type(family.link).__name__} link function \"\n",
      "C:\\Users\\User\\AppData\\Local\\Temp\\ipykernel_3908\\863504745.py:19: FutureWarning: Series.__getitem__ treating keys as positions is deprecated. In a future version, integer keys will always be treated as labels (consistent with DataFrame behavior). To access a value by position, use `ser.iloc[pos]`\n",
      "  res = model.params[0]*spatial_locations['total_counts']\n",
      "c:\\Users\\User\\GPcounts\\.venv\\lib\\site-packages\\statsmodels\\genmod\\families\\links.py:13: FutureWarning: The identity link alias is deprecated. Use Identity instead. The identity link alias will be removed after the 0.15.0 release.\n",
      "  warnings.warn(\n",
      "c:\\Users\\User\\GPcounts\\.venv\\lib\\site-packages\\statsmodels\\genmod\\families\\family.py:1367: ValueWarning: Negative binomial dispersion parameter alpha not set. Using default value alpha=1.0.\n",
      "  warnings.warn(\"Negative binomial dispersion parameter alpha not \"\n",
      "c:\\Users\\User\\GPcounts\\.venv\\lib\\site-packages\\statsmodels\\genmod\\generalized_linear_model.py:308: DomainWarning: The identity link function does not respect the domain of the NegativeBinomial family.\n",
      "  warnings.warn((f\"The {type(family.link).__name__} link function \"\n",
      "C:\\Users\\User\\AppData\\Local\\Temp\\ipykernel_3908\\863504745.py:19: FutureWarning: Series.__getitem__ treating keys as positions is deprecated. In a future version, integer keys will always be treated as labels (consistent with DataFrame behavior). To access a value by position, use `ser.iloc[pos]`\n",
      "  res = model.params[0]*spatial_locations['total_counts']\n",
      "c:\\Users\\User\\GPcounts\\.venv\\lib\\site-packages\\statsmodels\\genmod\\families\\links.py:13: FutureWarning: The identity link alias is deprecated. Use Identity instead. The identity link alias will be removed after the 0.15.0 release.\n",
      "  warnings.warn(\n",
      "c:\\Users\\User\\GPcounts\\.venv\\lib\\site-packages\\statsmodels\\genmod\\families\\family.py:1367: ValueWarning: Negative binomial dispersion parameter alpha not set. Using default value alpha=1.0.\n",
      "  warnings.warn(\"Negative binomial dispersion parameter alpha not \"\n",
      "c:\\Users\\User\\GPcounts\\.venv\\lib\\site-packages\\statsmodels\\genmod\\generalized_linear_model.py:308: DomainWarning: The identity link function does not respect the domain of the NegativeBinomial family.\n",
      "  warnings.warn((f\"The {type(family.link).__name__} link function \"\n",
      "C:\\Users\\User\\AppData\\Local\\Temp\\ipykernel_3908\\863504745.py:19: FutureWarning: Series.__getitem__ treating keys as positions is deprecated. In a future version, integer keys will always be treated as labels (consistent with DataFrame behavior). To access a value by position, use `ser.iloc[pos]`\n",
      "  res = model.params[0]*spatial_locations['total_counts']\n",
      "c:\\Users\\User\\GPcounts\\.venv\\lib\\site-packages\\statsmodels\\genmod\\families\\links.py:13: FutureWarning: The identity link alias is deprecated. Use Identity instead. The identity link alias will be removed after the 0.15.0 release.\n",
      "  warnings.warn(\n",
      "c:\\Users\\User\\GPcounts\\.venv\\lib\\site-packages\\statsmodels\\genmod\\families\\family.py:1367: ValueWarning: Negative binomial dispersion parameter alpha not set. Using default value alpha=1.0.\n",
      "  warnings.warn(\"Negative binomial dispersion parameter alpha not \"\n",
      "c:\\Users\\User\\GPcounts\\.venv\\lib\\site-packages\\statsmodels\\genmod\\generalized_linear_model.py:308: DomainWarning: The identity link function does not respect the domain of the NegativeBinomial family.\n",
      "  warnings.warn((f\"The {type(family.link).__name__} link function \"\n",
      "C:\\Users\\User\\AppData\\Local\\Temp\\ipykernel_3908\\863504745.py:19: FutureWarning: Series.__getitem__ treating keys as positions is deprecated. In a future version, integer keys will always be treated as labels (consistent with DataFrame behavior). To access a value by position, use `ser.iloc[pos]`\n",
      "  res = model.params[0]*spatial_locations['total_counts']\n",
      "c:\\Users\\User\\GPcounts\\.venv\\lib\\site-packages\\statsmodels\\genmod\\families\\links.py:13: FutureWarning: The identity link alias is deprecated. Use Identity instead. The identity link alias will be removed after the 0.15.0 release.\n",
      "  warnings.warn(\n",
      "c:\\Users\\User\\GPcounts\\.venv\\lib\\site-packages\\statsmodels\\genmod\\families\\family.py:1367: ValueWarning: Negative binomial dispersion parameter alpha not set. Using default value alpha=1.0.\n",
      "  warnings.warn(\"Negative binomial dispersion parameter alpha not \"\n",
      "c:\\Users\\User\\GPcounts\\.venv\\lib\\site-packages\\statsmodels\\genmod\\generalized_linear_model.py:308: DomainWarning: The identity link function does not respect the domain of the NegativeBinomial family.\n",
      "  warnings.warn((f\"The {type(family.link).__name__} link function \"\n",
      "C:\\Users\\User\\AppData\\Local\\Temp\\ipykernel_3908\\863504745.py:19: FutureWarning: Series.__getitem__ treating keys as positions is deprecated. In a future version, integer keys will always be treated as labels (consistent with DataFrame behavior). To access a value by position, use `ser.iloc[pos]`\n",
      "  res = model.params[0]*spatial_locations['total_counts']\n",
      "c:\\Users\\User\\GPcounts\\.venv\\lib\\site-packages\\statsmodels\\genmod\\families\\links.py:13: FutureWarning: The identity link alias is deprecated. Use Identity instead. The identity link alias will be removed after the 0.15.0 release.\n",
      "  warnings.warn(\n",
      "c:\\Users\\User\\GPcounts\\.venv\\lib\\site-packages\\statsmodels\\genmod\\families\\family.py:1367: ValueWarning: Negative binomial dispersion parameter alpha not set. Using default value alpha=1.0.\n",
      "  warnings.warn(\"Negative binomial dispersion parameter alpha not \"\n",
      "c:\\Users\\User\\GPcounts\\.venv\\lib\\site-packages\\statsmodels\\genmod\\generalized_linear_model.py:308: DomainWarning: The identity link function does not respect the domain of the NegativeBinomial family.\n",
      "  warnings.warn((f\"The {type(family.link).__name__} link function \"\n",
      "C:\\Users\\User\\AppData\\Local\\Temp\\ipykernel_3908\\863504745.py:19: FutureWarning: Series.__getitem__ treating keys as positions is deprecated. In a future version, integer keys will always be treated as labels (consistent with DataFrame behavior). To access a value by position, use `ser.iloc[pos]`\n",
      "  res = model.params[0]*spatial_locations['total_counts']\n",
      "c:\\Users\\User\\GPcounts\\.venv\\lib\\site-packages\\statsmodels\\genmod\\families\\links.py:13: FutureWarning: The identity link alias is deprecated. Use Identity instead. The identity link alias will be removed after the 0.15.0 release.\n",
      "  warnings.warn(\n",
      "c:\\Users\\User\\GPcounts\\.venv\\lib\\site-packages\\statsmodels\\genmod\\families\\family.py:1367: ValueWarning: Negative binomial dispersion parameter alpha not set. Using default value alpha=1.0.\n",
      "  warnings.warn(\"Negative binomial dispersion parameter alpha not \"\n",
      "c:\\Users\\User\\GPcounts\\.venv\\lib\\site-packages\\statsmodels\\genmod\\generalized_linear_model.py:308: DomainWarning: The identity link function does not respect the domain of the NegativeBinomial family.\n",
      "  warnings.warn((f\"The {type(family.link).__name__} link function \"\n",
      "C:\\Users\\User\\AppData\\Local\\Temp\\ipykernel_3908\\863504745.py:19: FutureWarning: Series.__getitem__ treating keys as positions is deprecated. In a future version, integer keys will always be treated as labels (consistent with DataFrame behavior). To access a value by position, use `ser.iloc[pos]`\n",
      "  res = model.params[0]*spatial_locations['total_counts']\n",
      "c:\\Users\\User\\GPcounts\\.venv\\lib\\site-packages\\statsmodels\\genmod\\families\\links.py:13: FutureWarning: The identity link alias is deprecated. Use Identity instead. The identity link alias will be removed after the 0.15.0 release.\n",
      "  warnings.warn(\n",
      "c:\\Users\\User\\GPcounts\\.venv\\lib\\site-packages\\statsmodels\\genmod\\families\\family.py:1367: ValueWarning: Negative binomial dispersion parameter alpha not set. Using default value alpha=1.0.\n",
      "  warnings.warn(\"Negative binomial dispersion parameter alpha not \"\n",
      "c:\\Users\\User\\GPcounts\\.venv\\lib\\site-packages\\statsmodels\\genmod\\generalized_linear_model.py:308: DomainWarning: The identity link function does not respect the domain of the NegativeBinomial family.\n",
      "  warnings.warn((f\"The {type(family.link).__name__} link function \"\n",
      "C:\\Users\\User\\AppData\\Local\\Temp\\ipykernel_3908\\863504745.py:19: FutureWarning: Series.__getitem__ treating keys as positions is deprecated. In a future version, integer keys will always be treated as labels (consistent with DataFrame behavior). To access a value by position, use `ser.iloc[pos]`\n",
      "  res = model.params[0]*spatial_locations['total_counts']\n",
      "c:\\Users\\User\\GPcounts\\.venv\\lib\\site-packages\\statsmodels\\genmod\\families\\links.py:13: FutureWarning: The identity link alias is deprecated. Use Identity instead. The identity link alias will be removed after the 0.15.0 release.\n",
      "  warnings.warn(\n",
      "c:\\Users\\User\\GPcounts\\.venv\\lib\\site-packages\\statsmodels\\genmod\\families\\family.py:1367: ValueWarning: Negative binomial dispersion parameter alpha not set. Using default value alpha=1.0.\n",
      "  warnings.warn(\"Negative binomial dispersion parameter alpha not \"\n",
      "c:\\Users\\User\\GPcounts\\.venv\\lib\\site-packages\\statsmodels\\genmod\\generalized_linear_model.py:308: DomainWarning: The identity link function does not respect the domain of the NegativeBinomial family.\n",
      "  warnings.warn((f\"The {type(family.link).__name__} link function \"\n",
      "C:\\Users\\User\\AppData\\Local\\Temp\\ipykernel_3908\\863504745.py:19: FutureWarning: Series.__getitem__ treating keys as positions is deprecated. In a future version, integer keys will always be treated as labels (consistent with DataFrame behavior). To access a value by position, use `ser.iloc[pos]`\n",
      "  res = model.params[0]*spatial_locations['total_counts']\n",
      "c:\\Users\\User\\GPcounts\\.venv\\lib\\site-packages\\statsmodels\\genmod\\families\\links.py:13: FutureWarning: The identity link alias is deprecated. Use Identity instead. The identity link alias will be removed after the 0.15.0 release.\n",
      "  warnings.warn(\n",
      "c:\\Users\\User\\GPcounts\\.venv\\lib\\site-packages\\statsmodels\\genmod\\families\\family.py:1367: ValueWarning: Negative binomial dispersion parameter alpha not set. Using default value alpha=1.0.\n",
      "  warnings.warn(\"Negative binomial dispersion parameter alpha not \"\n",
      "c:\\Users\\User\\GPcounts\\.venv\\lib\\site-packages\\statsmodels\\genmod\\generalized_linear_model.py:308: DomainWarning: The identity link function does not respect the domain of the NegativeBinomial family.\n",
      "  warnings.warn((f\"The {type(family.link).__name__} link function \"\n",
      "C:\\Users\\User\\AppData\\Local\\Temp\\ipykernel_3908\\863504745.py:19: FutureWarning: Series.__getitem__ treating keys as positions is deprecated. In a future version, integer keys will always be treated as labels (consistent with DataFrame behavior). To access a value by position, use `ser.iloc[pos]`\n",
      "  res = model.params[0]*spatial_locations['total_counts']\n",
      "c:\\Users\\User\\GPcounts\\.venv\\lib\\site-packages\\statsmodels\\genmod\\families\\links.py:13: FutureWarning: The identity link alias is deprecated. Use Identity instead. The identity link alias will be removed after the 0.15.0 release.\n",
      "  warnings.warn(\n",
      "c:\\Users\\User\\GPcounts\\.venv\\lib\\site-packages\\statsmodels\\genmod\\families\\family.py:1367: ValueWarning: Negative binomial dispersion parameter alpha not set. Using default value alpha=1.0.\n",
      "  warnings.warn(\"Negative binomial dispersion parameter alpha not \"\n",
      "c:\\Users\\User\\GPcounts\\.venv\\lib\\site-packages\\statsmodels\\genmod\\generalized_linear_model.py:308: DomainWarning: The identity link function does not respect the domain of the NegativeBinomial family.\n",
      "  warnings.warn((f\"The {type(family.link).__name__} link function \"\n",
      "C:\\Users\\User\\AppData\\Local\\Temp\\ipykernel_3908\\863504745.py:19: FutureWarning: Series.__getitem__ treating keys as positions is deprecated. In a future version, integer keys will always be treated as labels (consistent with DataFrame behavior). To access a value by position, use `ser.iloc[pos]`\n",
      "  res = model.params[0]*spatial_locations['total_counts']\n",
      "c:\\Users\\User\\GPcounts\\.venv\\lib\\site-packages\\statsmodels\\genmod\\families\\links.py:13: FutureWarning: The identity link alias is deprecated. Use Identity instead. The identity link alias will be removed after the 0.15.0 release.\n",
      "  warnings.warn(\n",
      "c:\\Users\\User\\GPcounts\\.venv\\lib\\site-packages\\statsmodels\\genmod\\families\\family.py:1367: ValueWarning: Negative binomial dispersion parameter alpha not set. Using default value alpha=1.0.\n",
      "  warnings.warn(\"Negative binomial dispersion parameter alpha not \"\n",
      "c:\\Users\\User\\GPcounts\\.venv\\lib\\site-packages\\statsmodels\\genmod\\generalized_linear_model.py:308: DomainWarning: The identity link function does not respect the domain of the NegativeBinomial family.\n",
      "  warnings.warn((f\"The {type(family.link).__name__} link function \"\n",
      "C:\\Users\\User\\AppData\\Local\\Temp\\ipykernel_3908\\863504745.py:19: FutureWarning: Series.__getitem__ treating keys as positions is deprecated. In a future version, integer keys will always be treated as labels (consistent with DataFrame behavior). To access a value by position, use `ser.iloc[pos]`\n",
      "  res = model.params[0]*spatial_locations['total_counts']\n",
      "c:\\Users\\User\\GPcounts\\.venv\\lib\\site-packages\\statsmodels\\genmod\\families\\links.py:13: FutureWarning: The identity link alias is deprecated. Use Identity instead. The identity link alias will be removed after the 0.15.0 release.\n",
      "  warnings.warn(\n",
      "c:\\Users\\User\\GPcounts\\.venv\\lib\\site-packages\\statsmodels\\genmod\\families\\family.py:1367: ValueWarning: Negative binomial dispersion parameter alpha not set. Using default value alpha=1.0.\n",
      "  warnings.warn(\"Negative binomial dispersion parameter alpha not \"\n",
      "c:\\Users\\User\\GPcounts\\.venv\\lib\\site-packages\\statsmodels\\genmod\\generalized_linear_model.py:308: DomainWarning: The identity link function does not respect the domain of the NegativeBinomial family.\n",
      "  warnings.warn((f\"The {type(family.link).__name__} link function \"\n",
      "C:\\Users\\User\\AppData\\Local\\Temp\\ipykernel_3908\\863504745.py:19: FutureWarning: Series.__getitem__ treating keys as positions is deprecated. In a future version, integer keys will always be treated as labels (consistent with DataFrame behavior). To access a value by position, use `ser.iloc[pos]`\n",
      "  res = model.params[0]*spatial_locations['total_counts']\n",
      "c:\\Users\\User\\GPcounts\\.venv\\lib\\site-packages\\statsmodels\\genmod\\families\\links.py:13: FutureWarning: The identity link alias is deprecated. Use Identity instead. The identity link alias will be removed after the 0.15.0 release.\n",
      "  warnings.warn(\n",
      "c:\\Users\\User\\GPcounts\\.venv\\lib\\site-packages\\statsmodels\\genmod\\families\\family.py:1367: ValueWarning: Negative binomial dispersion parameter alpha not set. Using default value alpha=1.0.\n",
      "  warnings.warn(\"Negative binomial dispersion parameter alpha not \"\n",
      "c:\\Users\\User\\GPcounts\\.venv\\lib\\site-packages\\statsmodels\\genmod\\generalized_linear_model.py:308: DomainWarning: The identity link function does not respect the domain of the NegativeBinomial family.\n",
      "  warnings.warn((f\"The {type(family.link).__name__} link function \"\n",
      "C:\\Users\\User\\AppData\\Local\\Temp\\ipykernel_3908\\863504745.py:19: FutureWarning: Series.__getitem__ treating keys as positions is deprecated. In a future version, integer keys will always be treated as labels (consistent with DataFrame behavior). To access a value by position, use `ser.iloc[pos]`\n",
      "  res = model.params[0]*spatial_locations['total_counts']\n",
      "c:\\Users\\User\\GPcounts\\.venv\\lib\\site-packages\\statsmodels\\genmod\\families\\links.py:13: FutureWarning: The identity link alias is deprecated. Use Identity instead. The identity link alias will be removed after the 0.15.0 release.\n",
      "  warnings.warn(\n",
      "c:\\Users\\User\\GPcounts\\.venv\\lib\\site-packages\\statsmodels\\genmod\\families\\family.py:1367: ValueWarning: Negative binomial dispersion parameter alpha not set. Using default value alpha=1.0.\n",
      "  warnings.warn(\"Negative binomial dispersion parameter alpha not \"\n",
      "c:\\Users\\User\\GPcounts\\.venv\\lib\\site-packages\\statsmodels\\genmod\\generalized_linear_model.py:308: DomainWarning: The identity link function does not respect the domain of the NegativeBinomial family.\n",
      "  warnings.warn((f\"The {type(family.link).__name__} link function \"\n",
      "C:\\Users\\User\\AppData\\Local\\Temp\\ipykernel_3908\\863504745.py:19: FutureWarning: Series.__getitem__ treating keys as positions is deprecated. In a future version, integer keys will always be treated as labels (consistent with DataFrame behavior). To access a value by position, use `ser.iloc[pos]`\n",
      "  res = model.params[0]*spatial_locations['total_counts']\n",
      "c:\\Users\\User\\GPcounts\\.venv\\lib\\site-packages\\statsmodels\\genmod\\families\\links.py:13: FutureWarning: The identity link alias is deprecated. Use Identity instead. The identity link alias will be removed after the 0.15.0 release.\n",
      "  warnings.warn(\n",
      "c:\\Users\\User\\GPcounts\\.venv\\lib\\site-packages\\statsmodels\\genmod\\families\\family.py:1367: ValueWarning: Negative binomial dispersion parameter alpha not set. Using default value alpha=1.0.\n",
      "  warnings.warn(\"Negative binomial dispersion parameter alpha not \"\n",
      "c:\\Users\\User\\GPcounts\\.venv\\lib\\site-packages\\statsmodels\\genmod\\generalized_linear_model.py:308: DomainWarning: The identity link function does not respect the domain of the NegativeBinomial family.\n",
      "  warnings.warn((f\"The {type(family.link).__name__} link function \"\n",
      "C:\\Users\\User\\AppData\\Local\\Temp\\ipykernel_3908\\863504745.py:19: FutureWarning: Series.__getitem__ treating keys as positions is deprecated. In a future version, integer keys will always be treated as labels (consistent with DataFrame behavior). To access a value by position, use `ser.iloc[pos]`\n",
      "  res = model.params[0]*spatial_locations['total_counts']\n",
      "c:\\Users\\User\\GPcounts\\.venv\\lib\\site-packages\\statsmodels\\genmod\\families\\links.py:13: FutureWarning: The identity link alias is deprecated. Use Identity instead. The identity link alias will be removed after the 0.15.0 release.\n",
      "  warnings.warn(\n",
      "c:\\Users\\User\\GPcounts\\.venv\\lib\\site-packages\\statsmodels\\genmod\\families\\family.py:1367: ValueWarning: Negative binomial dispersion parameter alpha not set. Using default value alpha=1.0.\n",
      "  warnings.warn(\"Negative binomial dispersion parameter alpha not \"\n",
      "c:\\Users\\User\\GPcounts\\.venv\\lib\\site-packages\\statsmodels\\genmod\\generalized_linear_model.py:308: DomainWarning: The identity link function does not respect the domain of the NegativeBinomial family.\n",
      "  warnings.warn((f\"The {type(family.link).__name__} link function \"\n",
      "C:\\Users\\User\\AppData\\Local\\Temp\\ipykernel_3908\\863504745.py:19: FutureWarning: Series.__getitem__ treating keys as positions is deprecated. In a future version, integer keys will always be treated as labels (consistent with DataFrame behavior). To access a value by position, use `ser.iloc[pos]`\n",
      "  res = model.params[0]*spatial_locations['total_counts']\n",
      "c:\\Users\\User\\GPcounts\\.venv\\lib\\site-packages\\statsmodels\\genmod\\families\\links.py:13: FutureWarning: The identity link alias is deprecated. Use Identity instead. The identity link alias will be removed after the 0.15.0 release.\n",
      "  warnings.warn(\n",
      "c:\\Users\\User\\GPcounts\\.venv\\lib\\site-packages\\statsmodels\\genmod\\families\\family.py:1367: ValueWarning: Negative binomial dispersion parameter alpha not set. Using default value alpha=1.0.\n",
      "  warnings.warn(\"Negative binomial dispersion parameter alpha not \"\n",
      "c:\\Users\\User\\GPcounts\\.venv\\lib\\site-packages\\statsmodels\\genmod\\generalized_linear_model.py:308: DomainWarning: The identity link function does not respect the domain of the NegativeBinomial family.\n",
      "  warnings.warn((f\"The {type(family.link).__name__} link function \"\n",
      "C:\\Users\\User\\AppData\\Local\\Temp\\ipykernel_3908\\863504745.py:19: FutureWarning: Series.__getitem__ treating keys as positions is deprecated. In a future version, integer keys will always be treated as labels (consistent with DataFrame behavior). To access a value by position, use `ser.iloc[pos]`\n",
      "  res = model.params[0]*spatial_locations['total_counts']\n",
      "c:\\Users\\User\\GPcounts\\.venv\\lib\\site-packages\\statsmodels\\genmod\\families\\links.py:13: FutureWarning: The identity link alias is deprecated. Use Identity instead. The identity link alias will be removed after the 0.15.0 release.\n",
      "  warnings.warn(\n",
      "c:\\Users\\User\\GPcounts\\.venv\\lib\\site-packages\\statsmodels\\genmod\\families\\family.py:1367: ValueWarning: Negative binomial dispersion parameter alpha not set. Using default value alpha=1.0.\n",
      "  warnings.warn(\"Negative binomial dispersion parameter alpha not \"\n",
      "c:\\Users\\User\\GPcounts\\.venv\\lib\\site-packages\\statsmodels\\genmod\\generalized_linear_model.py:308: DomainWarning: The identity link function does not respect the domain of the NegativeBinomial family.\n",
      "  warnings.warn((f\"The {type(family.link).__name__} link function \"\n",
      "C:\\Users\\User\\AppData\\Local\\Temp\\ipykernel_3908\\863504745.py:19: FutureWarning: Series.__getitem__ treating keys as positions is deprecated. In a future version, integer keys will always be treated as labels (consistent with DataFrame behavior). To access a value by position, use `ser.iloc[pos]`\n",
      "  res = model.params[0]*spatial_locations['total_counts']\n",
      "c:\\Users\\User\\GPcounts\\.venv\\lib\\site-packages\\statsmodels\\genmod\\families\\links.py:13: FutureWarning: The identity link alias is deprecated. Use Identity instead. The identity link alias will be removed after the 0.15.0 release.\n",
      "  warnings.warn(\n",
      "c:\\Users\\User\\GPcounts\\.venv\\lib\\site-packages\\statsmodels\\genmod\\families\\family.py:1367: ValueWarning: Negative binomial dispersion parameter alpha not set. Using default value alpha=1.0.\n",
      "  warnings.warn(\"Negative binomial dispersion parameter alpha not \"\n",
      "c:\\Users\\User\\GPcounts\\.venv\\lib\\site-packages\\statsmodels\\genmod\\generalized_linear_model.py:308: DomainWarning: The identity link function does not respect the domain of the NegativeBinomial family.\n",
      "  warnings.warn((f\"The {type(family.link).__name__} link function \"\n",
      "C:\\Users\\User\\AppData\\Local\\Temp\\ipykernel_3908\\863504745.py:19: FutureWarning: Series.__getitem__ treating keys as positions is deprecated. In a future version, integer keys will always be treated as labels (consistent with DataFrame behavior). To access a value by position, use `ser.iloc[pos]`\n",
      "  res = model.params[0]*spatial_locations['total_counts']\n",
      "c:\\Users\\User\\GPcounts\\.venv\\lib\\site-packages\\statsmodels\\genmod\\families\\links.py:13: FutureWarning: The identity link alias is deprecated. Use Identity instead. The identity link alias will be removed after the 0.15.0 release.\n",
      "  warnings.warn(\n",
      "c:\\Users\\User\\GPcounts\\.venv\\lib\\site-packages\\statsmodels\\genmod\\families\\family.py:1367: ValueWarning: Negative binomial dispersion parameter alpha not set. Using default value alpha=1.0.\n",
      "  warnings.warn(\"Negative binomial dispersion parameter alpha not \"\n",
      "c:\\Users\\User\\GPcounts\\.venv\\lib\\site-packages\\statsmodels\\genmod\\generalized_linear_model.py:308: DomainWarning: The identity link function does not respect the domain of the NegativeBinomial family.\n",
      "  warnings.warn((f\"The {type(family.link).__name__} link function \"\n",
      "C:\\Users\\User\\AppData\\Local\\Temp\\ipykernel_3908\\863504745.py:19: FutureWarning: Series.__getitem__ treating keys as positions is deprecated. In a future version, integer keys will always be treated as labels (consistent with DataFrame behavior). To access a value by position, use `ser.iloc[pos]`\n",
      "  res = model.params[0]*spatial_locations['total_counts']\n",
      "c:\\Users\\User\\GPcounts\\.venv\\lib\\site-packages\\statsmodels\\genmod\\families\\links.py:13: FutureWarning: The identity link alias is deprecated. Use Identity instead. The identity link alias will be removed after the 0.15.0 release.\n",
      "  warnings.warn(\n",
      "c:\\Users\\User\\GPcounts\\.venv\\lib\\site-packages\\statsmodels\\genmod\\families\\family.py:1367: ValueWarning: Negative binomial dispersion parameter alpha not set. Using default value alpha=1.0.\n",
      "  warnings.warn(\"Negative binomial dispersion parameter alpha not \"\n",
      "c:\\Users\\User\\GPcounts\\.venv\\lib\\site-packages\\statsmodels\\genmod\\generalized_linear_model.py:308: DomainWarning: The identity link function does not respect the domain of the NegativeBinomial family.\n",
      "  warnings.warn((f\"The {type(family.link).__name__} link function \"\n",
      "C:\\Users\\User\\AppData\\Local\\Temp\\ipykernel_3908\\863504745.py:19: FutureWarning: Series.__getitem__ treating keys as positions is deprecated. In a future version, integer keys will always be treated as labels (consistent with DataFrame behavior). To access a value by position, use `ser.iloc[pos]`\n",
      "  res = model.params[0]*spatial_locations['total_counts']\n",
      "c:\\Users\\User\\GPcounts\\.venv\\lib\\site-packages\\statsmodels\\genmod\\families\\links.py:13: FutureWarning: The identity link alias is deprecated. Use Identity instead. The identity link alias will be removed after the 0.15.0 release.\n",
      "  warnings.warn(\n",
      "c:\\Users\\User\\GPcounts\\.venv\\lib\\site-packages\\statsmodels\\genmod\\families\\family.py:1367: ValueWarning: Negative binomial dispersion parameter alpha not set. Using default value alpha=1.0.\n",
      "  warnings.warn(\"Negative binomial dispersion parameter alpha not \"\n",
      "c:\\Users\\User\\GPcounts\\.venv\\lib\\site-packages\\statsmodels\\genmod\\generalized_linear_model.py:308: DomainWarning: The identity link function does not respect the domain of the NegativeBinomial family.\n",
      "  warnings.warn((f\"The {type(family.link).__name__} link function \"\n",
      "C:\\Users\\User\\AppData\\Local\\Temp\\ipykernel_3908\\863504745.py:19: FutureWarning: Series.__getitem__ treating keys as positions is deprecated. In a future version, integer keys will always be treated as labels (consistent with DataFrame behavior). To access a value by position, use `ser.iloc[pos]`\n",
      "  res = model.params[0]*spatial_locations['total_counts']\n",
      "c:\\Users\\User\\GPcounts\\.venv\\lib\\site-packages\\statsmodels\\genmod\\families\\links.py:13: FutureWarning: The identity link alias is deprecated. Use Identity instead. The identity link alias will be removed after the 0.15.0 release.\n",
      "  warnings.warn(\n",
      "c:\\Users\\User\\GPcounts\\.venv\\lib\\site-packages\\statsmodels\\genmod\\families\\family.py:1367: ValueWarning: Negative binomial dispersion parameter alpha not set. Using default value alpha=1.0.\n",
      "  warnings.warn(\"Negative binomial dispersion parameter alpha not \"\n",
      "c:\\Users\\User\\GPcounts\\.venv\\lib\\site-packages\\statsmodels\\genmod\\generalized_linear_model.py:308: DomainWarning: The identity link function does not respect the domain of the NegativeBinomial family.\n",
      "  warnings.warn((f\"The {type(family.link).__name__} link function \"\n",
      "C:\\Users\\User\\AppData\\Local\\Temp\\ipykernel_3908\\863504745.py:19: FutureWarning: Series.__getitem__ treating keys as positions is deprecated. In a future version, integer keys will always be treated as labels (consistent with DataFrame behavior). To access a value by position, use `ser.iloc[pos]`\n",
      "  res = model.params[0]*spatial_locations['total_counts']\n",
      "c:\\Users\\User\\GPcounts\\.venv\\lib\\site-packages\\statsmodels\\genmod\\families\\links.py:13: FutureWarning: The identity link alias is deprecated. Use Identity instead. The identity link alias will be removed after the 0.15.0 release.\n",
      "  warnings.warn(\n",
      "c:\\Users\\User\\GPcounts\\.venv\\lib\\site-packages\\statsmodels\\genmod\\families\\family.py:1367: ValueWarning: Negative binomial dispersion parameter alpha not set. Using default value alpha=1.0.\n",
      "  warnings.warn(\"Negative binomial dispersion parameter alpha not \"\n",
      "c:\\Users\\User\\GPcounts\\.venv\\lib\\site-packages\\statsmodels\\genmod\\generalized_linear_model.py:308: DomainWarning: The identity link function does not respect the domain of the NegativeBinomial family.\n",
      "  warnings.warn((f\"The {type(family.link).__name__} link function \"\n",
      "C:\\Users\\User\\AppData\\Local\\Temp\\ipykernel_3908\\863504745.py:19: FutureWarning: Series.__getitem__ treating keys as positions is deprecated. In a future version, integer keys will always be treated as labels (consistent with DataFrame behavior). To access a value by position, use `ser.iloc[pos]`\n",
      "  res = model.params[0]*spatial_locations['total_counts']\n",
      "c:\\Users\\User\\GPcounts\\.venv\\lib\\site-packages\\statsmodels\\genmod\\families\\links.py:13: FutureWarning: The identity link alias is deprecated. Use Identity instead. The identity link alias will be removed after the 0.15.0 release.\n",
      "  warnings.warn(\n",
      "c:\\Users\\User\\GPcounts\\.venv\\lib\\site-packages\\statsmodels\\genmod\\families\\family.py:1367: ValueWarning: Negative binomial dispersion parameter alpha not set. Using default value alpha=1.0.\n",
      "  warnings.warn(\"Negative binomial dispersion parameter alpha not \"\n",
      "c:\\Users\\User\\GPcounts\\.venv\\lib\\site-packages\\statsmodels\\genmod\\generalized_linear_model.py:308: DomainWarning: The identity link function does not respect the domain of the NegativeBinomial family.\n",
      "  warnings.warn((f\"The {type(family.link).__name__} link function \"\n",
      "C:\\Users\\User\\AppData\\Local\\Temp\\ipykernel_3908\\863504745.py:19: FutureWarning: Series.__getitem__ treating keys as positions is deprecated. In a future version, integer keys will always be treated as labels (consistent with DataFrame behavior). To access a value by position, use `ser.iloc[pos]`\n",
      "  res = model.params[0]*spatial_locations['total_counts']\n",
      "c:\\Users\\User\\GPcounts\\.venv\\lib\\site-packages\\statsmodels\\genmod\\families\\links.py:13: FutureWarning: The identity link alias is deprecated. Use Identity instead. The identity link alias will be removed after the 0.15.0 release.\n",
      "  warnings.warn(\n",
      "c:\\Users\\User\\GPcounts\\.venv\\lib\\site-packages\\statsmodels\\genmod\\families\\family.py:1367: ValueWarning: Negative binomial dispersion parameter alpha not set. Using default value alpha=1.0.\n",
      "  warnings.warn(\"Negative binomial dispersion parameter alpha not \"\n",
      "c:\\Users\\User\\GPcounts\\.venv\\lib\\site-packages\\statsmodels\\genmod\\generalized_linear_model.py:308: DomainWarning: The identity link function does not respect the domain of the NegativeBinomial family.\n",
      "  warnings.warn((f\"The {type(family.link).__name__} link function \"\n",
      "C:\\Users\\User\\AppData\\Local\\Temp\\ipykernel_3908\\863504745.py:19: FutureWarning: Series.__getitem__ treating keys as positions is deprecated. In a future version, integer keys will always be treated as labels (consistent with DataFrame behavior). To access a value by position, use `ser.iloc[pos]`\n",
      "  res = model.params[0]*spatial_locations['total_counts']\n",
      "c:\\Users\\User\\GPcounts\\.venv\\lib\\site-packages\\statsmodels\\genmod\\families\\links.py:13: FutureWarning: The identity link alias is deprecated. Use Identity instead. The identity link alias will be removed after the 0.15.0 release.\n",
      "  warnings.warn(\n",
      "c:\\Users\\User\\GPcounts\\.venv\\lib\\site-packages\\statsmodels\\genmod\\families\\family.py:1367: ValueWarning: Negative binomial dispersion parameter alpha not set. Using default value alpha=1.0.\n",
      "  warnings.warn(\"Negative binomial dispersion parameter alpha not \"\n",
      "c:\\Users\\User\\GPcounts\\.venv\\lib\\site-packages\\statsmodels\\genmod\\generalized_linear_model.py:308: DomainWarning: The identity link function does not respect the domain of the NegativeBinomial family.\n",
      "  warnings.warn((f\"The {type(family.link).__name__} link function \"\n",
      "C:\\Users\\User\\AppData\\Local\\Temp\\ipykernel_3908\\863504745.py:19: FutureWarning: Series.__getitem__ treating keys as positions is deprecated. In a future version, integer keys will always be treated as labels (consistent with DataFrame behavior). To access a value by position, use `ser.iloc[pos]`\n",
      "  res = model.params[0]*spatial_locations['total_counts']\n",
      "c:\\Users\\User\\GPcounts\\.venv\\lib\\site-packages\\statsmodels\\genmod\\families\\links.py:13: FutureWarning: The identity link alias is deprecated. Use Identity instead. The identity link alias will be removed after the 0.15.0 release.\n",
      "  warnings.warn(\n",
      "c:\\Users\\User\\GPcounts\\.venv\\lib\\site-packages\\statsmodels\\genmod\\families\\family.py:1367: ValueWarning: Negative binomial dispersion parameter alpha not set. Using default value alpha=1.0.\n",
      "  warnings.warn(\"Negative binomial dispersion parameter alpha not \"\n",
      "c:\\Users\\User\\GPcounts\\.venv\\lib\\site-packages\\statsmodels\\genmod\\generalized_linear_model.py:308: DomainWarning: The identity link function does not respect the domain of the NegativeBinomial family.\n",
      "  warnings.warn((f\"The {type(family.link).__name__} link function \"\n",
      "C:\\Users\\User\\AppData\\Local\\Temp\\ipykernel_3908\\863504745.py:19: FutureWarning: Series.__getitem__ treating keys as positions is deprecated. In a future version, integer keys will always be treated as labels (consistent with DataFrame behavior). To access a value by position, use `ser.iloc[pos]`\n",
      "  res = model.params[0]*spatial_locations['total_counts']\n",
      "c:\\Users\\User\\GPcounts\\.venv\\lib\\site-packages\\statsmodels\\genmod\\families\\links.py:13: FutureWarning: The identity link alias is deprecated. Use Identity instead. The identity link alias will be removed after the 0.15.0 release.\n",
      "  warnings.warn(\n",
      "c:\\Users\\User\\GPcounts\\.venv\\lib\\site-packages\\statsmodels\\genmod\\families\\family.py:1367: ValueWarning: Negative binomial dispersion parameter alpha not set. Using default value alpha=1.0.\n",
      "  warnings.warn(\"Negative binomial dispersion parameter alpha not \"\n",
      "c:\\Users\\User\\GPcounts\\.venv\\lib\\site-packages\\statsmodels\\genmod\\generalized_linear_model.py:308: DomainWarning: The identity link function does not respect the domain of the NegativeBinomial family.\n",
      "  warnings.warn((f\"The {type(family.link).__name__} link function \"\n",
      "C:\\Users\\User\\AppData\\Local\\Temp\\ipykernel_3908\\863504745.py:19: FutureWarning: Series.__getitem__ treating keys as positions is deprecated. In a future version, integer keys will always be treated as labels (consistent with DataFrame behavior). To access a value by position, use `ser.iloc[pos]`\n",
      "  res = model.params[0]*spatial_locations['total_counts']\n",
      "c:\\Users\\User\\GPcounts\\.venv\\lib\\site-packages\\statsmodels\\genmod\\families\\links.py:13: FutureWarning: The identity link alias is deprecated. Use Identity instead. The identity link alias will be removed after the 0.15.0 release.\n",
      "  warnings.warn(\n",
      "c:\\Users\\User\\GPcounts\\.venv\\lib\\site-packages\\statsmodels\\genmod\\families\\family.py:1367: ValueWarning: Negative binomial dispersion parameter alpha not set. Using default value alpha=1.0.\n",
      "  warnings.warn(\"Negative binomial dispersion parameter alpha not \"\n",
      "c:\\Users\\User\\GPcounts\\.venv\\lib\\site-packages\\statsmodels\\genmod\\generalized_linear_model.py:308: DomainWarning: The identity link function does not respect the domain of the NegativeBinomial family.\n",
      "  warnings.warn((f\"The {type(family.link).__name__} link function \"\n",
      "C:\\Users\\User\\AppData\\Local\\Temp\\ipykernel_3908\\863504745.py:19: FutureWarning: Series.__getitem__ treating keys as positions is deprecated. In a future version, integer keys will always be treated as labels (consistent with DataFrame behavior). To access a value by position, use `ser.iloc[pos]`\n",
      "  res = model.params[0]*spatial_locations['total_counts']\n",
      "c:\\Users\\User\\GPcounts\\.venv\\lib\\site-packages\\statsmodels\\genmod\\families\\links.py:13: FutureWarning: The identity link alias is deprecated. Use Identity instead. The identity link alias will be removed after the 0.15.0 release.\n",
      "  warnings.warn(\n",
      "c:\\Users\\User\\GPcounts\\.venv\\lib\\site-packages\\statsmodels\\genmod\\families\\family.py:1367: ValueWarning: Negative binomial dispersion parameter alpha not set. Using default value alpha=1.0.\n",
      "  warnings.warn(\"Negative binomial dispersion parameter alpha not \"\n",
      "c:\\Users\\User\\GPcounts\\.venv\\lib\\site-packages\\statsmodels\\genmod\\generalized_linear_model.py:308: DomainWarning: The identity link function does not respect the domain of the NegativeBinomial family.\n",
      "  warnings.warn((f\"The {type(family.link).__name__} link function \"\n",
      "C:\\Users\\User\\AppData\\Local\\Temp\\ipykernel_3908\\863504745.py:19: FutureWarning: Series.__getitem__ treating keys as positions is deprecated. In a future version, integer keys will always be treated as labels (consistent with DataFrame behavior). To access a value by position, use `ser.iloc[pos]`\n",
      "  res = model.params[0]*spatial_locations['total_counts']\n",
      "c:\\Users\\User\\GPcounts\\.venv\\lib\\site-packages\\statsmodels\\genmod\\families\\links.py:13: FutureWarning: The identity link alias is deprecated. Use Identity instead. The identity link alias will be removed after the 0.15.0 release.\n",
      "  warnings.warn(\n",
      "c:\\Users\\User\\GPcounts\\.venv\\lib\\site-packages\\statsmodels\\genmod\\families\\family.py:1367: ValueWarning: Negative binomial dispersion parameter alpha not set. Using default value alpha=1.0.\n",
      "  warnings.warn(\"Negative binomial dispersion parameter alpha not \"\n",
      "c:\\Users\\User\\GPcounts\\.venv\\lib\\site-packages\\statsmodels\\genmod\\generalized_linear_model.py:308: DomainWarning: The identity link function does not respect the domain of the NegativeBinomial family.\n",
      "  warnings.warn((f\"The {type(family.link).__name__} link function \"\n",
      "C:\\Users\\User\\AppData\\Local\\Temp\\ipykernel_3908\\863504745.py:19: FutureWarning: Series.__getitem__ treating keys as positions is deprecated. In a future version, integer keys will always be treated as labels (consistent with DataFrame behavior). To access a value by position, use `ser.iloc[pos]`\n",
      "  res = model.params[0]*spatial_locations['total_counts']\n",
      "c:\\Users\\User\\GPcounts\\.venv\\lib\\site-packages\\statsmodels\\genmod\\families\\links.py:13: FutureWarning: The identity link alias is deprecated. Use Identity instead. The identity link alias will be removed after the 0.15.0 release.\n",
      "  warnings.warn(\n",
      "c:\\Users\\User\\GPcounts\\.venv\\lib\\site-packages\\statsmodels\\genmod\\families\\family.py:1367: ValueWarning: Negative binomial dispersion parameter alpha not set. Using default value alpha=1.0.\n",
      "  warnings.warn(\"Negative binomial dispersion parameter alpha not \"\n",
      "c:\\Users\\User\\GPcounts\\.venv\\lib\\site-packages\\statsmodels\\genmod\\generalized_linear_model.py:308: DomainWarning: The identity link function does not respect the domain of the NegativeBinomial family.\n",
      "  warnings.warn((f\"The {type(family.link).__name__} link function \"\n",
      "C:\\Users\\User\\AppData\\Local\\Temp\\ipykernel_3908\\863504745.py:19: FutureWarning: Series.__getitem__ treating keys as positions is deprecated. In a future version, integer keys will always be treated as labels (consistent with DataFrame behavior). To access a value by position, use `ser.iloc[pos]`\n",
      "  res = model.params[0]*spatial_locations['total_counts']\n",
      "c:\\Users\\User\\GPcounts\\.venv\\lib\\site-packages\\statsmodels\\genmod\\families\\links.py:13: FutureWarning: The identity link alias is deprecated. Use Identity instead. The identity link alias will be removed after the 0.15.0 release.\n",
      "  warnings.warn(\n",
      "c:\\Users\\User\\GPcounts\\.venv\\lib\\site-packages\\statsmodels\\genmod\\families\\family.py:1367: ValueWarning: Negative binomial dispersion parameter alpha not set. Using default value alpha=1.0.\n",
      "  warnings.warn(\"Negative binomial dispersion parameter alpha not \"\n",
      "c:\\Users\\User\\GPcounts\\.venv\\lib\\site-packages\\statsmodels\\genmod\\generalized_linear_model.py:308: DomainWarning: The identity link function does not respect the domain of the NegativeBinomial family.\n",
      "  warnings.warn((f\"The {type(family.link).__name__} link function \"\n",
      "C:\\Users\\User\\AppData\\Local\\Temp\\ipykernel_3908\\863504745.py:19: FutureWarning: Series.__getitem__ treating keys as positions is deprecated. In a future version, integer keys will always be treated as labels (consistent with DataFrame behavior). To access a value by position, use `ser.iloc[pos]`\n",
      "  res = model.params[0]*spatial_locations['total_counts']\n",
      "c:\\Users\\User\\GPcounts\\.venv\\lib\\site-packages\\statsmodels\\genmod\\families\\links.py:13: FutureWarning: The identity link alias is deprecated. Use Identity instead. The identity link alias will be removed after the 0.15.0 release.\n",
      "  warnings.warn(\n",
      "c:\\Users\\User\\GPcounts\\.venv\\lib\\site-packages\\statsmodels\\genmod\\families\\family.py:1367: ValueWarning: Negative binomial dispersion parameter alpha not set. Using default value alpha=1.0.\n",
      "  warnings.warn(\"Negative binomial dispersion parameter alpha not \"\n",
      "c:\\Users\\User\\GPcounts\\.venv\\lib\\site-packages\\statsmodels\\genmod\\generalized_linear_model.py:308: DomainWarning: The identity link function does not respect the domain of the NegativeBinomial family.\n",
      "  warnings.warn((f\"The {type(family.link).__name__} link function \"\n",
      "C:\\Users\\User\\AppData\\Local\\Temp\\ipykernel_3908\\863504745.py:19: FutureWarning: Series.__getitem__ treating keys as positions is deprecated. In a future version, integer keys will always be treated as labels (consistent with DataFrame behavior). To access a value by position, use `ser.iloc[pos]`\n",
      "  res = model.params[0]*spatial_locations['total_counts']\n",
      "c:\\Users\\User\\GPcounts\\.venv\\lib\\site-packages\\statsmodels\\genmod\\families\\links.py:13: FutureWarning: The identity link alias is deprecated. Use Identity instead. The identity link alias will be removed after the 0.15.0 release.\n",
      "  warnings.warn(\n",
      "c:\\Users\\User\\GPcounts\\.venv\\lib\\site-packages\\statsmodels\\genmod\\families\\family.py:1367: ValueWarning: Negative binomial dispersion parameter alpha not set. Using default value alpha=1.0.\n",
      "  warnings.warn(\"Negative binomial dispersion parameter alpha not \"\n",
      "c:\\Users\\User\\GPcounts\\.venv\\lib\\site-packages\\statsmodels\\genmod\\generalized_linear_model.py:308: DomainWarning: The identity link function does not respect the domain of the NegativeBinomial family.\n",
      "  warnings.warn((f\"The {type(family.link).__name__} link function \"\n",
      "C:\\Users\\User\\AppData\\Local\\Temp\\ipykernel_3908\\863504745.py:19: FutureWarning: Series.__getitem__ treating keys as positions is deprecated. In a future version, integer keys will always be treated as labels (consistent with DataFrame behavior). To access a value by position, use `ser.iloc[pos]`\n",
      "  res = model.params[0]*spatial_locations['total_counts']\n",
      "c:\\Users\\User\\GPcounts\\.venv\\lib\\site-packages\\statsmodels\\genmod\\families\\links.py:13: FutureWarning: The identity link alias is deprecated. Use Identity instead. The identity link alias will be removed after the 0.15.0 release.\n",
      "  warnings.warn(\n",
      "c:\\Users\\User\\GPcounts\\.venv\\lib\\site-packages\\statsmodels\\genmod\\families\\family.py:1367: ValueWarning: Negative binomial dispersion parameter alpha not set. Using default value alpha=1.0.\n",
      "  warnings.warn(\"Negative binomial dispersion parameter alpha not \"\n",
      "c:\\Users\\User\\GPcounts\\.venv\\lib\\site-packages\\statsmodels\\genmod\\generalized_linear_model.py:308: DomainWarning: The identity link function does not respect the domain of the NegativeBinomial family.\n",
      "  warnings.warn((f\"The {type(family.link).__name__} link function \"\n",
      "C:\\Users\\User\\AppData\\Local\\Temp\\ipykernel_3908\\863504745.py:19: FutureWarning: Series.__getitem__ treating keys as positions is deprecated. In a future version, integer keys will always be treated as labels (consistent with DataFrame behavior). To access a value by position, use `ser.iloc[pos]`\n",
      "  res = model.params[0]*spatial_locations['total_counts']\n",
      "c:\\Users\\User\\GPcounts\\.venv\\lib\\site-packages\\statsmodels\\genmod\\families\\links.py:13: FutureWarning: The identity link alias is deprecated. Use Identity instead. The identity link alias will be removed after the 0.15.0 release.\n",
      "  warnings.warn(\n",
      "c:\\Users\\User\\GPcounts\\.venv\\lib\\site-packages\\statsmodels\\genmod\\families\\family.py:1367: ValueWarning: Negative binomial dispersion parameter alpha not set. Using default value alpha=1.0.\n",
      "  warnings.warn(\"Negative binomial dispersion parameter alpha not \"\n",
      "c:\\Users\\User\\GPcounts\\.venv\\lib\\site-packages\\statsmodels\\genmod\\generalized_linear_model.py:308: DomainWarning: The identity link function does not respect the domain of the NegativeBinomial family.\n",
      "  warnings.warn((f\"The {type(family.link).__name__} link function \"\n",
      "C:\\Users\\User\\AppData\\Local\\Temp\\ipykernel_3908\\863504745.py:19: FutureWarning: Series.__getitem__ treating keys as positions is deprecated. In a future version, integer keys will always be treated as labels (consistent with DataFrame behavior). To access a value by position, use `ser.iloc[pos]`\n",
      "  res = model.params[0]*spatial_locations['total_counts']\n",
      "c:\\Users\\User\\GPcounts\\.venv\\lib\\site-packages\\statsmodels\\genmod\\families\\links.py:13: FutureWarning: The identity link alias is deprecated. Use Identity instead. The identity link alias will be removed after the 0.15.0 release.\n",
      "  warnings.warn(\n",
      "c:\\Users\\User\\GPcounts\\.venv\\lib\\site-packages\\statsmodels\\genmod\\families\\family.py:1367: ValueWarning: Negative binomial dispersion parameter alpha not set. Using default value alpha=1.0.\n",
      "  warnings.warn(\"Negative binomial dispersion parameter alpha not \"\n",
      "c:\\Users\\User\\GPcounts\\.venv\\lib\\site-packages\\statsmodels\\genmod\\generalized_linear_model.py:308: DomainWarning: The identity link function does not respect the domain of the NegativeBinomial family.\n",
      "  warnings.warn((f\"The {type(family.link).__name__} link function \"\n",
      "C:\\Users\\User\\AppData\\Local\\Temp\\ipykernel_3908\\863504745.py:19: FutureWarning: Series.__getitem__ treating keys as positions is deprecated. In a future version, integer keys will always be treated as labels (consistent with DataFrame behavior). To access a value by position, use `ser.iloc[pos]`\n",
      "  res = model.params[0]*spatial_locations['total_counts']\n",
      "c:\\Users\\User\\GPcounts\\.venv\\lib\\site-packages\\statsmodels\\genmod\\families\\links.py:13: FutureWarning: The identity link alias is deprecated. Use Identity instead. The identity link alias will be removed after the 0.15.0 release.\n",
      "  warnings.warn(\n",
      "c:\\Users\\User\\GPcounts\\.venv\\lib\\site-packages\\statsmodels\\genmod\\families\\family.py:1367: ValueWarning: Negative binomial dispersion parameter alpha not set. Using default value alpha=1.0.\n",
      "  warnings.warn(\"Negative binomial dispersion parameter alpha not \"\n",
      "c:\\Users\\User\\GPcounts\\.venv\\lib\\site-packages\\statsmodels\\genmod\\generalized_linear_model.py:308: DomainWarning: The identity link function does not respect the domain of the NegativeBinomial family.\n",
      "  warnings.warn((f\"The {type(family.link).__name__} link function \"\n",
      "C:\\Users\\User\\AppData\\Local\\Temp\\ipykernel_3908\\863504745.py:19: FutureWarning: Series.__getitem__ treating keys as positions is deprecated. In a future version, integer keys will always be treated as labels (consistent with DataFrame behavior). To access a value by position, use `ser.iloc[pos]`\n",
      "  res = model.params[0]*spatial_locations['total_counts']\n",
      "c:\\Users\\User\\GPcounts\\.venv\\lib\\site-packages\\statsmodels\\genmod\\families\\links.py:13: FutureWarning: The identity link alias is deprecated. Use Identity instead. The identity link alias will be removed after the 0.15.0 release.\n",
      "  warnings.warn(\n",
      "c:\\Users\\User\\GPcounts\\.venv\\lib\\site-packages\\statsmodels\\genmod\\families\\family.py:1367: ValueWarning: Negative binomial dispersion parameter alpha not set. Using default value alpha=1.0.\n",
      "  warnings.warn(\"Negative binomial dispersion parameter alpha not \"\n",
      "c:\\Users\\User\\GPcounts\\.venv\\lib\\site-packages\\statsmodels\\genmod\\generalized_linear_model.py:308: DomainWarning: The identity link function does not respect the domain of the NegativeBinomial family.\n",
      "  warnings.warn((f\"The {type(family.link).__name__} link function \"\n",
      "C:\\Users\\User\\AppData\\Local\\Temp\\ipykernel_3908\\863504745.py:19: FutureWarning: Series.__getitem__ treating keys as positions is deprecated. In a future version, integer keys will always be treated as labels (consistent with DataFrame behavior). To access a value by position, use `ser.iloc[pos]`\n",
      "  res = model.params[0]*spatial_locations['total_counts']\n",
      "c:\\Users\\User\\GPcounts\\.venv\\lib\\site-packages\\statsmodels\\genmod\\families\\links.py:13: FutureWarning: The identity link alias is deprecated. Use Identity instead. The identity link alias will be removed after the 0.15.0 release.\n",
      "  warnings.warn(\n",
      "c:\\Users\\User\\GPcounts\\.venv\\lib\\site-packages\\statsmodels\\genmod\\families\\family.py:1367: ValueWarning: Negative binomial dispersion parameter alpha not set. Using default value alpha=1.0.\n",
      "  warnings.warn(\"Negative binomial dispersion parameter alpha not \"\n",
      "c:\\Users\\User\\GPcounts\\.venv\\lib\\site-packages\\statsmodels\\genmod\\generalized_linear_model.py:308: DomainWarning: The identity link function does not respect the domain of the NegativeBinomial family.\n",
      "  warnings.warn((f\"The {type(family.link).__name__} link function \"\n",
      "C:\\Users\\User\\AppData\\Local\\Temp\\ipykernel_3908\\863504745.py:19: FutureWarning: Series.__getitem__ treating keys as positions is deprecated. In a future version, integer keys will always be treated as labels (consistent with DataFrame behavior). To access a value by position, use `ser.iloc[pos]`\n",
      "  res = model.params[0]*spatial_locations['total_counts']\n",
      "c:\\Users\\User\\GPcounts\\.venv\\lib\\site-packages\\statsmodels\\genmod\\families\\links.py:13: FutureWarning: The identity link alias is deprecated. Use Identity instead. The identity link alias will be removed after the 0.15.0 release.\n",
      "  warnings.warn(\n",
      "c:\\Users\\User\\GPcounts\\.venv\\lib\\site-packages\\statsmodels\\genmod\\families\\family.py:1367: ValueWarning: Negative binomial dispersion parameter alpha not set. Using default value alpha=1.0.\n",
      "  warnings.warn(\"Negative binomial dispersion parameter alpha not \"\n",
      "c:\\Users\\User\\GPcounts\\.venv\\lib\\site-packages\\statsmodels\\genmod\\generalized_linear_model.py:308: DomainWarning: The identity link function does not respect the domain of the NegativeBinomial family.\n",
      "  warnings.warn((f\"The {type(family.link).__name__} link function \"\n",
      "C:\\Users\\User\\AppData\\Local\\Temp\\ipykernel_3908\\863504745.py:19: FutureWarning: Series.__getitem__ treating keys as positions is deprecated. In a future version, integer keys will always be treated as labels (consistent with DataFrame behavior). To access a value by position, use `ser.iloc[pos]`\n",
      "  res = model.params[0]*spatial_locations['total_counts']\n",
      "c:\\Users\\User\\GPcounts\\.venv\\lib\\site-packages\\statsmodels\\genmod\\families\\links.py:13: FutureWarning: The identity link alias is deprecated. Use Identity instead. The identity link alias will be removed after the 0.15.0 release.\n",
      "  warnings.warn(\n",
      "c:\\Users\\User\\GPcounts\\.venv\\lib\\site-packages\\statsmodels\\genmod\\families\\family.py:1367: ValueWarning: Negative binomial dispersion parameter alpha not set. Using default value alpha=1.0.\n",
      "  warnings.warn(\"Negative binomial dispersion parameter alpha not \"\n",
      "c:\\Users\\User\\GPcounts\\.venv\\lib\\site-packages\\statsmodels\\genmod\\generalized_linear_model.py:308: DomainWarning: The identity link function does not respect the domain of the NegativeBinomial family.\n",
      "  warnings.warn((f\"The {type(family.link).__name__} link function \"\n",
      "C:\\Users\\User\\AppData\\Local\\Temp\\ipykernel_3908\\863504745.py:19: FutureWarning: Series.__getitem__ treating keys as positions is deprecated. In a future version, integer keys will always be treated as labels (consistent with DataFrame behavior). To access a value by position, use `ser.iloc[pos]`\n",
      "  res = model.params[0]*spatial_locations['total_counts']\n",
      "c:\\Users\\User\\GPcounts\\.venv\\lib\\site-packages\\statsmodels\\genmod\\families\\links.py:13: FutureWarning: The identity link alias is deprecated. Use Identity instead. The identity link alias will be removed after the 0.15.0 release.\n",
      "  warnings.warn(\n",
      "c:\\Users\\User\\GPcounts\\.venv\\lib\\site-packages\\statsmodels\\genmod\\families\\family.py:1367: ValueWarning: Negative binomial dispersion parameter alpha not set. Using default value alpha=1.0.\n",
      "  warnings.warn(\"Negative binomial dispersion parameter alpha not \"\n",
      "c:\\Users\\User\\GPcounts\\.venv\\lib\\site-packages\\statsmodels\\genmod\\generalized_linear_model.py:308: DomainWarning: The identity link function does not respect the domain of the NegativeBinomial family.\n",
      "  warnings.warn((f\"The {type(family.link).__name__} link function \"\n",
      "C:\\Users\\User\\AppData\\Local\\Temp\\ipykernel_3908\\863504745.py:19: FutureWarning: Series.__getitem__ treating keys as positions is deprecated. In a future version, integer keys will always be treated as labels (consistent with DataFrame behavior). To access a value by position, use `ser.iloc[pos]`\n",
      "  res = model.params[0]*spatial_locations['total_counts']\n",
      "c:\\Users\\User\\GPcounts\\.venv\\lib\\site-packages\\statsmodels\\genmod\\families\\links.py:13: FutureWarning: The identity link alias is deprecated. Use Identity instead. The identity link alias will be removed after the 0.15.0 release.\n",
      "  warnings.warn(\n",
      "c:\\Users\\User\\GPcounts\\.venv\\lib\\site-packages\\statsmodels\\genmod\\families\\family.py:1367: ValueWarning: Negative binomial dispersion parameter alpha not set. Using default value alpha=1.0.\n",
      "  warnings.warn(\"Negative binomial dispersion parameter alpha not \"\n",
      "c:\\Users\\User\\GPcounts\\.venv\\lib\\site-packages\\statsmodels\\genmod\\generalized_linear_model.py:308: DomainWarning: The identity link function does not respect the domain of the NegativeBinomial family.\n",
      "  warnings.warn((f\"The {type(family.link).__name__} link function \"\n",
      "C:\\Users\\User\\AppData\\Local\\Temp\\ipykernel_3908\\863504745.py:19: FutureWarning: Series.__getitem__ treating keys as positions is deprecated. In a future version, integer keys will always be treated as labels (consistent with DataFrame behavior). To access a value by position, use `ser.iloc[pos]`\n",
      "  res = model.params[0]*spatial_locations['total_counts']\n",
      "c:\\Users\\User\\GPcounts\\.venv\\lib\\site-packages\\statsmodels\\genmod\\families\\links.py:13: FutureWarning: The identity link alias is deprecated. Use Identity instead. The identity link alias will be removed after the 0.15.0 release.\n",
      "  warnings.warn(\n",
      "c:\\Users\\User\\GPcounts\\.venv\\lib\\site-packages\\statsmodels\\genmod\\families\\family.py:1367: ValueWarning: Negative binomial dispersion parameter alpha not set. Using default value alpha=1.0.\n",
      "  warnings.warn(\"Negative binomial dispersion parameter alpha not \"\n",
      "c:\\Users\\User\\GPcounts\\.venv\\lib\\site-packages\\statsmodels\\genmod\\generalized_linear_model.py:308: DomainWarning: The identity link function does not respect the domain of the NegativeBinomial family.\n",
      "  warnings.warn((f\"The {type(family.link).__name__} link function \"\n",
      "C:\\Users\\User\\AppData\\Local\\Temp\\ipykernel_3908\\863504745.py:19: FutureWarning: Series.__getitem__ treating keys as positions is deprecated. In a future version, integer keys will always be treated as labels (consistent with DataFrame behavior). To access a value by position, use `ser.iloc[pos]`\n",
      "  res = model.params[0]*spatial_locations['total_counts']\n",
      "c:\\Users\\User\\GPcounts\\.venv\\lib\\site-packages\\statsmodels\\genmod\\families\\links.py:13: FutureWarning: The identity link alias is deprecated. Use Identity instead. The identity link alias will be removed after the 0.15.0 release.\n",
      "  warnings.warn(\n",
      "c:\\Users\\User\\GPcounts\\.venv\\lib\\site-packages\\statsmodels\\genmod\\families\\family.py:1367: ValueWarning: Negative binomial dispersion parameter alpha not set. Using default value alpha=1.0.\n",
      "  warnings.warn(\"Negative binomial dispersion parameter alpha not \"\n",
      "c:\\Users\\User\\GPcounts\\.venv\\lib\\site-packages\\statsmodels\\genmod\\generalized_linear_model.py:308: DomainWarning: The identity link function does not respect the domain of the NegativeBinomial family.\n",
      "  warnings.warn((f\"The {type(family.link).__name__} link function \"\n",
      "C:\\Users\\User\\AppData\\Local\\Temp\\ipykernel_3908\\863504745.py:19: FutureWarning: Series.__getitem__ treating keys as positions is deprecated. In a future version, integer keys will always be treated as labels (consistent with DataFrame behavior). To access a value by position, use `ser.iloc[pos]`\n",
      "  res = model.params[0]*spatial_locations['total_counts']\n",
      "c:\\Users\\User\\GPcounts\\.venv\\lib\\site-packages\\statsmodels\\genmod\\families\\links.py:13: FutureWarning: The identity link alias is deprecated. Use Identity instead. The identity link alias will be removed after the 0.15.0 release.\n",
      "  warnings.warn(\n",
      "c:\\Users\\User\\GPcounts\\.venv\\lib\\site-packages\\statsmodels\\genmod\\families\\family.py:1367: ValueWarning: Negative binomial dispersion parameter alpha not set. Using default value alpha=1.0.\n",
      "  warnings.warn(\"Negative binomial dispersion parameter alpha not \"\n",
      "c:\\Users\\User\\GPcounts\\.venv\\lib\\site-packages\\statsmodels\\genmod\\generalized_linear_model.py:308: DomainWarning: The identity link function does not respect the domain of the NegativeBinomial family.\n",
      "  warnings.warn((f\"The {type(family.link).__name__} link function \"\n",
      "C:\\Users\\User\\AppData\\Local\\Temp\\ipykernel_3908\\863504745.py:19: FutureWarning: Series.__getitem__ treating keys as positions is deprecated. In a future version, integer keys will always be treated as labels (consistent with DataFrame behavior). To access a value by position, use `ser.iloc[pos]`\n",
      "  res = model.params[0]*spatial_locations['total_counts']\n",
      "c:\\Users\\User\\GPcounts\\.venv\\lib\\site-packages\\statsmodels\\genmod\\families\\links.py:13: FutureWarning: The identity link alias is deprecated. Use Identity instead. The identity link alias will be removed after the 0.15.0 release.\n",
      "  warnings.warn(\n",
      "c:\\Users\\User\\GPcounts\\.venv\\lib\\site-packages\\statsmodels\\genmod\\families\\family.py:1367: ValueWarning: Negative binomial dispersion parameter alpha not set. Using default value alpha=1.0.\n",
      "  warnings.warn(\"Negative binomial dispersion parameter alpha not \"\n",
      "c:\\Users\\User\\GPcounts\\.venv\\lib\\site-packages\\statsmodels\\genmod\\generalized_linear_model.py:308: DomainWarning: The identity link function does not respect the domain of the NegativeBinomial family.\n",
      "  warnings.warn((f\"The {type(family.link).__name__} link function \"\n",
      "C:\\Users\\User\\AppData\\Local\\Temp\\ipykernel_3908\\863504745.py:19: FutureWarning: Series.__getitem__ treating keys as positions is deprecated. In a future version, integer keys will always be treated as labels (consistent with DataFrame behavior). To access a value by position, use `ser.iloc[pos]`\n",
      "  res = model.params[0]*spatial_locations['total_counts']\n",
      "c:\\Users\\User\\GPcounts\\.venv\\lib\\site-packages\\statsmodels\\genmod\\families\\links.py:13: FutureWarning: The identity link alias is deprecated. Use Identity instead. The identity link alias will be removed after the 0.15.0 release.\n",
      "  warnings.warn(\n",
      "c:\\Users\\User\\GPcounts\\.venv\\lib\\site-packages\\statsmodels\\genmod\\families\\family.py:1367: ValueWarning: Negative binomial dispersion parameter alpha not set. Using default value alpha=1.0.\n",
      "  warnings.warn(\"Negative binomial dispersion parameter alpha not \"\n",
      "c:\\Users\\User\\GPcounts\\.venv\\lib\\site-packages\\statsmodels\\genmod\\generalized_linear_model.py:308: DomainWarning: The identity link function does not respect the domain of the NegativeBinomial family.\n",
      "  warnings.warn((f\"The {type(family.link).__name__} link function \"\n",
      "C:\\Users\\User\\AppData\\Local\\Temp\\ipykernel_3908\\863504745.py:19: FutureWarning: Series.__getitem__ treating keys as positions is deprecated. In a future version, integer keys will always be treated as labels (consistent with DataFrame behavior). To access a value by position, use `ser.iloc[pos]`\n",
      "  res = model.params[0]*spatial_locations['total_counts']\n",
      "c:\\Users\\User\\GPcounts\\.venv\\lib\\site-packages\\statsmodels\\genmod\\families\\links.py:13: FutureWarning: The identity link alias is deprecated. Use Identity instead. The identity link alias will be removed after the 0.15.0 release.\n",
      "  warnings.warn(\n",
      "c:\\Users\\User\\GPcounts\\.venv\\lib\\site-packages\\statsmodels\\genmod\\families\\family.py:1367: ValueWarning: Negative binomial dispersion parameter alpha not set. Using default value alpha=1.0.\n",
      "  warnings.warn(\"Negative binomial dispersion parameter alpha not \"\n",
      "c:\\Users\\User\\GPcounts\\.venv\\lib\\site-packages\\statsmodels\\genmod\\generalized_linear_model.py:308: DomainWarning: The identity link function does not respect the domain of the NegativeBinomial family.\n",
      "  warnings.warn((f\"The {type(family.link).__name__} link function \"\n",
      "C:\\Users\\User\\AppData\\Local\\Temp\\ipykernel_3908\\863504745.py:19: FutureWarning: Series.__getitem__ treating keys as positions is deprecated. In a future version, integer keys will always be treated as labels (consistent with DataFrame behavior). To access a value by position, use `ser.iloc[pos]`\n",
      "  res = model.params[0]*spatial_locations['total_counts']\n",
      "c:\\Users\\User\\GPcounts\\.venv\\lib\\site-packages\\statsmodels\\genmod\\families\\links.py:13: FutureWarning: The identity link alias is deprecated. Use Identity instead. The identity link alias will be removed after the 0.15.0 release.\n",
      "  warnings.warn(\n",
      "c:\\Users\\User\\GPcounts\\.venv\\lib\\site-packages\\statsmodels\\genmod\\families\\family.py:1367: ValueWarning: Negative binomial dispersion parameter alpha not set. Using default value alpha=1.0.\n",
      "  warnings.warn(\"Negative binomial dispersion parameter alpha not \"\n",
      "c:\\Users\\User\\GPcounts\\.venv\\lib\\site-packages\\statsmodels\\genmod\\generalized_linear_model.py:308: DomainWarning: The identity link function does not respect the domain of the NegativeBinomial family.\n",
      "  warnings.warn((f\"The {type(family.link).__name__} link function \"\n",
      "C:\\Users\\User\\AppData\\Local\\Temp\\ipykernel_3908\\863504745.py:19: FutureWarning: Series.__getitem__ treating keys as positions is deprecated. In a future version, integer keys will always be treated as labels (consistent with DataFrame behavior). To access a value by position, use `ser.iloc[pos]`\n",
      "  res = model.params[0]*spatial_locations['total_counts']\n",
      "c:\\Users\\User\\GPcounts\\.venv\\lib\\site-packages\\statsmodels\\genmod\\families\\links.py:13: FutureWarning: The identity link alias is deprecated. Use Identity instead. The identity link alias will be removed after the 0.15.0 release.\n",
      "  warnings.warn(\n",
      "c:\\Users\\User\\GPcounts\\.venv\\lib\\site-packages\\statsmodels\\genmod\\families\\family.py:1367: ValueWarning: Negative binomial dispersion parameter alpha not set. Using default value alpha=1.0.\n",
      "  warnings.warn(\"Negative binomial dispersion parameter alpha not \"\n",
      "c:\\Users\\User\\GPcounts\\.venv\\lib\\site-packages\\statsmodels\\genmod\\generalized_linear_model.py:308: DomainWarning: The identity link function does not respect the domain of the NegativeBinomial family.\n",
      "  warnings.warn((f\"The {type(family.link).__name__} link function \"\n",
      "C:\\Users\\User\\AppData\\Local\\Temp\\ipykernel_3908\\863504745.py:19: FutureWarning: Series.__getitem__ treating keys as positions is deprecated. In a future version, integer keys will always be treated as labels (consistent with DataFrame behavior). To access a value by position, use `ser.iloc[pos]`\n",
      "  res = model.params[0]*spatial_locations['total_counts']\n",
      "c:\\Users\\User\\GPcounts\\.venv\\lib\\site-packages\\statsmodels\\genmod\\families\\links.py:13: FutureWarning: The identity link alias is deprecated. Use Identity instead. The identity link alias will be removed after the 0.15.0 release.\n",
      "  warnings.warn(\n",
      "c:\\Users\\User\\GPcounts\\.venv\\lib\\site-packages\\statsmodels\\genmod\\families\\family.py:1367: ValueWarning: Negative binomial dispersion parameter alpha not set. Using default value alpha=1.0.\n",
      "  warnings.warn(\"Negative binomial dispersion parameter alpha not \"\n",
      "c:\\Users\\User\\GPcounts\\.venv\\lib\\site-packages\\statsmodels\\genmod\\generalized_linear_model.py:308: DomainWarning: The identity link function does not respect the domain of the NegativeBinomial family.\n",
      "  warnings.warn((f\"The {type(family.link).__name__} link function \"\n",
      "C:\\Users\\User\\AppData\\Local\\Temp\\ipykernel_3908\\863504745.py:19: FutureWarning: Series.__getitem__ treating keys as positions is deprecated. In a future version, integer keys will always be treated as labels (consistent with DataFrame behavior). To access a value by position, use `ser.iloc[pos]`\n",
      "  res = model.params[0]*spatial_locations['total_counts']\n",
      "c:\\Users\\User\\GPcounts\\.venv\\lib\\site-packages\\statsmodels\\genmod\\families\\links.py:13: FutureWarning: The identity link alias is deprecated. Use Identity instead. The identity link alias will be removed after the 0.15.0 release.\n",
      "  warnings.warn(\n",
      "c:\\Users\\User\\GPcounts\\.venv\\lib\\site-packages\\statsmodels\\genmod\\families\\family.py:1367: ValueWarning: Negative binomial dispersion parameter alpha not set. Using default value alpha=1.0.\n",
      "  warnings.warn(\"Negative binomial dispersion parameter alpha not \"\n",
      "c:\\Users\\User\\GPcounts\\.venv\\lib\\site-packages\\statsmodels\\genmod\\generalized_linear_model.py:308: DomainWarning: The identity link function does not respect the domain of the NegativeBinomial family.\n",
      "  warnings.warn((f\"The {type(family.link).__name__} link function \"\n",
      "C:\\Users\\User\\AppData\\Local\\Temp\\ipykernel_3908\\863504745.py:19: FutureWarning: Series.__getitem__ treating keys as positions is deprecated. In a future version, integer keys will always be treated as labels (consistent with DataFrame behavior). To access a value by position, use `ser.iloc[pos]`\n",
      "  res = model.params[0]*spatial_locations['total_counts']\n",
      "c:\\Users\\User\\GPcounts\\.venv\\lib\\site-packages\\statsmodels\\genmod\\families\\links.py:13: FutureWarning: The identity link alias is deprecated. Use Identity instead. The identity link alias will be removed after the 0.15.0 release.\n",
      "  warnings.warn(\n",
      "c:\\Users\\User\\GPcounts\\.venv\\lib\\site-packages\\statsmodels\\genmod\\families\\family.py:1367: ValueWarning: Negative binomial dispersion parameter alpha not set. Using default value alpha=1.0.\n",
      "  warnings.warn(\"Negative binomial dispersion parameter alpha not \"\n",
      "c:\\Users\\User\\GPcounts\\.venv\\lib\\site-packages\\statsmodels\\genmod\\generalized_linear_model.py:308: DomainWarning: The identity link function does not respect the domain of the NegativeBinomial family.\n",
      "  warnings.warn((f\"The {type(family.link).__name__} link function \"\n",
      "C:\\Users\\User\\AppData\\Local\\Temp\\ipykernel_3908\\863504745.py:19: FutureWarning: Series.__getitem__ treating keys as positions is deprecated. In a future version, integer keys will always be treated as labels (consistent with DataFrame behavior). To access a value by position, use `ser.iloc[pos]`\n",
      "  res = model.params[0]*spatial_locations['total_counts']\n",
      "c:\\Users\\User\\GPcounts\\.venv\\lib\\site-packages\\statsmodels\\genmod\\families\\links.py:13: FutureWarning: The identity link alias is deprecated. Use Identity instead. The identity link alias will be removed after the 0.15.0 release.\n",
      "  warnings.warn(\n",
      "c:\\Users\\User\\GPcounts\\.venv\\lib\\site-packages\\statsmodels\\genmod\\families\\family.py:1367: ValueWarning: Negative binomial dispersion parameter alpha not set. Using default value alpha=1.0.\n",
      "  warnings.warn(\"Negative binomial dispersion parameter alpha not \"\n",
      "c:\\Users\\User\\GPcounts\\.venv\\lib\\site-packages\\statsmodels\\genmod\\generalized_linear_model.py:308: DomainWarning: The identity link function does not respect the domain of the NegativeBinomial family.\n",
      "  warnings.warn((f\"The {type(family.link).__name__} link function \"\n",
      "C:\\Users\\User\\AppData\\Local\\Temp\\ipykernel_3908\\863504745.py:19: FutureWarning: Series.__getitem__ treating keys as positions is deprecated. In a future version, integer keys will always be treated as labels (consistent with DataFrame behavior). To access a value by position, use `ser.iloc[pos]`\n",
      "  res = model.params[0]*spatial_locations['total_counts']\n",
      "c:\\Users\\User\\GPcounts\\.venv\\lib\\site-packages\\statsmodels\\genmod\\families\\links.py:13: FutureWarning: The identity link alias is deprecated. Use Identity instead. The identity link alias will be removed after the 0.15.0 release.\n",
      "  warnings.warn(\n",
      "c:\\Users\\User\\GPcounts\\.venv\\lib\\site-packages\\statsmodels\\genmod\\families\\family.py:1367: ValueWarning: Negative binomial dispersion parameter alpha not set. Using default value alpha=1.0.\n",
      "  warnings.warn(\"Negative binomial dispersion parameter alpha not \"\n",
      "c:\\Users\\User\\GPcounts\\.venv\\lib\\site-packages\\statsmodels\\genmod\\generalized_linear_model.py:308: DomainWarning: The identity link function does not respect the domain of the NegativeBinomial family.\n",
      "  warnings.warn((f\"The {type(family.link).__name__} link function \"\n",
      "C:\\Users\\User\\AppData\\Local\\Temp\\ipykernel_3908\\863504745.py:19: FutureWarning: Series.__getitem__ treating keys as positions is deprecated. In a future version, integer keys will always be treated as labels (consistent with DataFrame behavior). To access a value by position, use `ser.iloc[pos]`\n",
      "  res = model.params[0]*spatial_locations['total_counts']\n",
      "c:\\Users\\User\\GPcounts\\.venv\\lib\\site-packages\\statsmodels\\genmod\\families\\links.py:13: FutureWarning: The identity link alias is deprecated. Use Identity instead. The identity link alias will be removed after the 0.15.0 release.\n",
      "  warnings.warn(\n",
      "c:\\Users\\User\\GPcounts\\.venv\\lib\\site-packages\\statsmodels\\genmod\\families\\family.py:1367: ValueWarning: Negative binomial dispersion parameter alpha not set. Using default value alpha=1.0.\n",
      "  warnings.warn(\"Negative binomial dispersion parameter alpha not \"\n",
      "c:\\Users\\User\\GPcounts\\.venv\\lib\\site-packages\\statsmodels\\genmod\\generalized_linear_model.py:308: DomainWarning: The identity link function does not respect the domain of the NegativeBinomial family.\n",
      "  warnings.warn((f\"The {type(family.link).__name__} link function \"\n",
      "C:\\Users\\User\\AppData\\Local\\Temp\\ipykernel_3908\\863504745.py:19: FutureWarning: Series.__getitem__ treating keys as positions is deprecated. In a future version, integer keys will always be treated as labels (consistent with DataFrame behavior). To access a value by position, use `ser.iloc[pos]`\n",
      "  res = model.params[0]*spatial_locations['total_counts']\n",
      "c:\\Users\\User\\GPcounts\\.venv\\lib\\site-packages\\statsmodels\\genmod\\families\\links.py:13: FutureWarning: The identity link alias is deprecated. Use Identity instead. The identity link alias will be removed after the 0.15.0 release.\n",
      "  warnings.warn(\n",
      "c:\\Users\\User\\GPcounts\\.venv\\lib\\site-packages\\statsmodels\\genmod\\families\\family.py:1367: ValueWarning: Negative binomial dispersion parameter alpha not set. Using default value alpha=1.0.\n",
      "  warnings.warn(\"Negative binomial dispersion parameter alpha not \"\n",
      "c:\\Users\\User\\GPcounts\\.venv\\lib\\site-packages\\statsmodels\\genmod\\generalized_linear_model.py:308: DomainWarning: The identity link function does not respect the domain of the NegativeBinomial family.\n",
      "  warnings.warn((f\"The {type(family.link).__name__} link function \"\n",
      "C:\\Users\\User\\AppData\\Local\\Temp\\ipykernel_3908\\863504745.py:19: FutureWarning: Series.__getitem__ treating keys as positions is deprecated. In a future version, integer keys will always be treated as labels (consistent with DataFrame behavior). To access a value by position, use `ser.iloc[pos]`\n",
      "  res = model.params[0]*spatial_locations['total_counts']\n",
      "c:\\Users\\User\\GPcounts\\.venv\\lib\\site-packages\\statsmodels\\genmod\\families\\links.py:13: FutureWarning: The identity link alias is deprecated. Use Identity instead. The identity link alias will be removed after the 0.15.0 release.\n",
      "  warnings.warn(\n",
      "c:\\Users\\User\\GPcounts\\.venv\\lib\\site-packages\\statsmodels\\genmod\\families\\family.py:1367: ValueWarning: Negative binomial dispersion parameter alpha not set. Using default value alpha=1.0.\n",
      "  warnings.warn(\"Negative binomial dispersion parameter alpha not \"\n",
      "c:\\Users\\User\\GPcounts\\.venv\\lib\\site-packages\\statsmodels\\genmod\\generalized_linear_model.py:308: DomainWarning: The identity link function does not respect the domain of the NegativeBinomial family.\n",
      "  warnings.warn((f\"The {type(family.link).__name__} link function \"\n",
      "C:\\Users\\User\\AppData\\Local\\Temp\\ipykernel_3908\\863504745.py:19: FutureWarning: Series.__getitem__ treating keys as positions is deprecated. In a future version, integer keys will always be treated as labels (consistent with DataFrame behavior). To access a value by position, use `ser.iloc[pos]`\n",
      "  res = model.params[0]*spatial_locations['total_counts']\n",
      "c:\\Users\\User\\GPcounts\\.venv\\lib\\site-packages\\statsmodels\\genmod\\families\\links.py:13: FutureWarning: The identity link alias is deprecated. Use Identity instead. The identity link alias will be removed after the 0.15.0 release.\n",
      "  warnings.warn(\n",
      "c:\\Users\\User\\GPcounts\\.venv\\lib\\site-packages\\statsmodels\\genmod\\families\\family.py:1367: ValueWarning: Negative binomial dispersion parameter alpha not set. Using default value alpha=1.0.\n",
      "  warnings.warn(\"Negative binomial dispersion parameter alpha not \"\n",
      "c:\\Users\\User\\GPcounts\\.venv\\lib\\site-packages\\statsmodels\\genmod\\generalized_linear_model.py:308: DomainWarning: The identity link function does not respect the domain of the NegativeBinomial family.\n",
      "  warnings.warn((f\"The {type(family.link).__name__} link function \"\n",
      "C:\\Users\\User\\AppData\\Local\\Temp\\ipykernel_3908\\863504745.py:19: FutureWarning: Series.__getitem__ treating keys as positions is deprecated. In a future version, integer keys will always be treated as labels (consistent with DataFrame behavior). To access a value by position, use `ser.iloc[pos]`\n",
      "  res = model.params[0]*spatial_locations['total_counts']\n",
      "c:\\Users\\User\\GPcounts\\.venv\\lib\\site-packages\\statsmodels\\genmod\\families\\links.py:13: FutureWarning: The identity link alias is deprecated. Use Identity instead. The identity link alias will be removed after the 0.15.0 release.\n",
      "  warnings.warn(\n",
      "c:\\Users\\User\\GPcounts\\.venv\\lib\\site-packages\\statsmodels\\genmod\\families\\family.py:1367: ValueWarning: Negative binomial dispersion parameter alpha not set. Using default value alpha=1.0.\n",
      "  warnings.warn(\"Negative binomial dispersion parameter alpha not \"\n",
      "c:\\Users\\User\\GPcounts\\.venv\\lib\\site-packages\\statsmodels\\genmod\\generalized_linear_model.py:308: DomainWarning: The identity link function does not respect the domain of the NegativeBinomial family.\n",
      "  warnings.warn((f\"The {type(family.link).__name__} link function \"\n",
      "C:\\Users\\User\\AppData\\Local\\Temp\\ipykernel_3908\\863504745.py:19: FutureWarning: Series.__getitem__ treating keys as positions is deprecated. In a future version, integer keys will always be treated as labels (consistent with DataFrame behavior). To access a value by position, use `ser.iloc[pos]`\n",
      "  res = model.params[0]*spatial_locations['total_counts']\n",
      "c:\\Users\\User\\GPcounts\\.venv\\lib\\site-packages\\statsmodels\\genmod\\families\\links.py:13: FutureWarning: The identity link alias is deprecated. Use Identity instead. The identity link alias will be removed after the 0.15.0 release.\n",
      "  warnings.warn(\n",
      "c:\\Users\\User\\GPcounts\\.venv\\lib\\site-packages\\statsmodels\\genmod\\families\\family.py:1367: ValueWarning: Negative binomial dispersion parameter alpha not set. Using default value alpha=1.0.\n",
      "  warnings.warn(\"Negative binomial dispersion parameter alpha not \"\n",
      "c:\\Users\\User\\GPcounts\\.venv\\lib\\site-packages\\statsmodels\\genmod\\generalized_linear_model.py:308: DomainWarning: The identity link function does not respect the domain of the NegativeBinomial family.\n",
      "  warnings.warn((f\"The {type(family.link).__name__} link function \"\n",
      "C:\\Users\\User\\AppData\\Local\\Temp\\ipykernel_3908\\863504745.py:19: FutureWarning: Series.__getitem__ treating keys as positions is deprecated. In a future version, integer keys will always be treated as labels (consistent with DataFrame behavior). To access a value by position, use `ser.iloc[pos]`\n",
      "  res = model.params[0]*spatial_locations['total_counts']\n",
      "c:\\Users\\User\\GPcounts\\.venv\\lib\\site-packages\\statsmodels\\genmod\\families\\links.py:13: FutureWarning: The identity link alias is deprecated. Use Identity instead. The identity link alias will be removed after the 0.15.0 release.\n",
      "  warnings.warn(\n",
      "c:\\Users\\User\\GPcounts\\.venv\\lib\\site-packages\\statsmodels\\genmod\\families\\family.py:1367: ValueWarning: Negative binomial dispersion parameter alpha not set. Using default value alpha=1.0.\n",
      "  warnings.warn(\"Negative binomial dispersion parameter alpha not \"\n",
      "c:\\Users\\User\\GPcounts\\.venv\\lib\\site-packages\\statsmodels\\genmod\\generalized_linear_model.py:308: DomainWarning: The identity link function does not respect the domain of the NegativeBinomial family.\n",
      "  warnings.warn((f\"The {type(family.link).__name__} link function \"\n",
      "C:\\Users\\User\\AppData\\Local\\Temp\\ipykernel_3908\\863504745.py:19: FutureWarning: Series.__getitem__ treating keys as positions is deprecated. In a future version, integer keys will always be treated as labels (consistent with DataFrame behavior). To access a value by position, use `ser.iloc[pos]`\n",
      "  res = model.params[0]*spatial_locations['total_counts']\n",
      "c:\\Users\\User\\GPcounts\\.venv\\lib\\site-packages\\statsmodels\\genmod\\families\\links.py:13: FutureWarning: The identity link alias is deprecated. Use Identity instead. The identity link alias will be removed after the 0.15.0 release.\n",
      "  warnings.warn(\n",
      "c:\\Users\\User\\GPcounts\\.venv\\lib\\site-packages\\statsmodels\\genmod\\families\\family.py:1367: ValueWarning: Negative binomial dispersion parameter alpha not set. Using default value alpha=1.0.\n",
      "  warnings.warn(\"Negative binomial dispersion parameter alpha not \"\n",
      "c:\\Users\\User\\GPcounts\\.venv\\lib\\site-packages\\statsmodels\\genmod\\generalized_linear_model.py:308: DomainWarning: The identity link function does not respect the domain of the NegativeBinomial family.\n",
      "  warnings.warn((f\"The {type(family.link).__name__} link function \"\n",
      "C:\\Users\\User\\AppData\\Local\\Temp\\ipykernel_3908\\863504745.py:19: FutureWarning: Series.__getitem__ treating keys as positions is deprecated. In a future version, integer keys will always be treated as labels (consistent with DataFrame behavior). To access a value by position, use `ser.iloc[pos]`\n",
      "  res = model.params[0]*spatial_locations['total_counts']\n",
      "c:\\Users\\User\\GPcounts\\.venv\\lib\\site-packages\\statsmodels\\genmod\\families\\links.py:13: FutureWarning: The identity link alias is deprecated. Use Identity instead. The identity link alias will be removed after the 0.15.0 release.\n",
      "  warnings.warn(\n",
      "c:\\Users\\User\\GPcounts\\.venv\\lib\\site-packages\\statsmodels\\genmod\\families\\family.py:1367: ValueWarning: Negative binomial dispersion parameter alpha not set. Using default value alpha=1.0.\n",
      "  warnings.warn(\"Negative binomial dispersion parameter alpha not \"\n",
      "c:\\Users\\User\\GPcounts\\.venv\\lib\\site-packages\\statsmodels\\genmod\\generalized_linear_model.py:308: DomainWarning: The identity link function does not respect the domain of the NegativeBinomial family.\n",
      "  warnings.warn((f\"The {type(family.link).__name__} link function \"\n",
      "C:\\Users\\User\\AppData\\Local\\Temp\\ipykernel_3908\\863504745.py:19: FutureWarning: Series.__getitem__ treating keys as positions is deprecated. In a future version, integer keys will always be treated as labels (consistent with DataFrame behavior). To access a value by position, use `ser.iloc[pos]`\n",
      "  res = model.params[0]*spatial_locations['total_counts']\n",
      "c:\\Users\\User\\GPcounts\\.venv\\lib\\site-packages\\statsmodels\\genmod\\families\\links.py:13: FutureWarning: The identity link alias is deprecated. Use Identity instead. The identity link alias will be removed after the 0.15.0 release.\n",
      "  warnings.warn(\n",
      "c:\\Users\\User\\GPcounts\\.venv\\lib\\site-packages\\statsmodels\\genmod\\families\\family.py:1367: ValueWarning: Negative binomial dispersion parameter alpha not set. Using default value alpha=1.0.\n",
      "  warnings.warn(\"Negative binomial dispersion parameter alpha not \"\n",
      "c:\\Users\\User\\GPcounts\\.venv\\lib\\site-packages\\statsmodels\\genmod\\generalized_linear_model.py:308: DomainWarning: The identity link function does not respect the domain of the NegativeBinomial family.\n",
      "  warnings.warn((f\"The {type(family.link).__name__} link function \"\n",
      "C:\\Users\\User\\AppData\\Local\\Temp\\ipykernel_3908\\863504745.py:19: FutureWarning: Series.__getitem__ treating keys as positions is deprecated. In a future version, integer keys will always be treated as labels (consistent with DataFrame behavior). To access a value by position, use `ser.iloc[pos]`\n",
      "  res = model.params[0]*spatial_locations['total_counts']\n",
      "c:\\Users\\User\\GPcounts\\.venv\\lib\\site-packages\\statsmodels\\genmod\\families\\links.py:13: FutureWarning: The identity link alias is deprecated. Use Identity instead. The identity link alias will be removed after the 0.15.0 release.\n",
      "  warnings.warn(\n",
      "c:\\Users\\User\\GPcounts\\.venv\\lib\\site-packages\\statsmodels\\genmod\\families\\family.py:1367: ValueWarning: Negative binomial dispersion parameter alpha not set. Using default value alpha=1.0.\n",
      "  warnings.warn(\"Negative binomial dispersion parameter alpha not \"\n",
      "c:\\Users\\User\\GPcounts\\.venv\\lib\\site-packages\\statsmodels\\genmod\\generalized_linear_model.py:308: DomainWarning: The identity link function does not respect the domain of the NegativeBinomial family.\n",
      "  warnings.warn((f\"The {type(family.link).__name__} link function \"\n",
      "C:\\Users\\User\\AppData\\Local\\Temp\\ipykernel_3908\\863504745.py:19: FutureWarning: Series.__getitem__ treating keys as positions is deprecated. In a future version, integer keys will always be treated as labels (consistent with DataFrame behavior). To access a value by position, use `ser.iloc[pos]`\n",
      "  res = model.params[0]*spatial_locations['total_counts']\n",
      "c:\\Users\\User\\GPcounts\\.venv\\lib\\site-packages\\statsmodels\\genmod\\families\\links.py:13: FutureWarning: The identity link alias is deprecated. Use Identity instead. The identity link alias will be removed after the 0.15.0 release.\n",
      "  warnings.warn(\n",
      "c:\\Users\\User\\GPcounts\\.venv\\lib\\site-packages\\statsmodels\\genmod\\families\\family.py:1367: ValueWarning: Negative binomial dispersion parameter alpha not set. Using default value alpha=1.0.\n",
      "  warnings.warn(\"Negative binomial dispersion parameter alpha not \"\n",
      "c:\\Users\\User\\GPcounts\\.venv\\lib\\site-packages\\statsmodels\\genmod\\generalized_linear_model.py:308: DomainWarning: The identity link function does not respect the domain of the NegativeBinomial family.\n",
      "  warnings.warn((f\"The {type(family.link).__name__} link function \"\n",
      "C:\\Users\\User\\AppData\\Local\\Temp\\ipykernel_3908\\863504745.py:19: FutureWarning: Series.__getitem__ treating keys as positions is deprecated. In a future version, integer keys will always be treated as labels (consistent with DataFrame behavior). To access a value by position, use `ser.iloc[pos]`\n",
      "  res = model.params[0]*spatial_locations['total_counts']\n",
      "c:\\Users\\User\\GPcounts\\.venv\\lib\\site-packages\\statsmodels\\genmod\\families\\links.py:13: FutureWarning: The identity link alias is deprecated. Use Identity instead. The identity link alias will be removed after the 0.15.0 release.\n",
      "  warnings.warn(\n",
      "c:\\Users\\User\\GPcounts\\.venv\\lib\\site-packages\\statsmodels\\genmod\\families\\family.py:1367: ValueWarning: Negative binomial dispersion parameter alpha not set. Using default value alpha=1.0.\n",
      "  warnings.warn(\"Negative binomial dispersion parameter alpha not \"\n",
      "c:\\Users\\User\\GPcounts\\.venv\\lib\\site-packages\\statsmodels\\genmod\\generalized_linear_model.py:308: DomainWarning: The identity link function does not respect the domain of the NegativeBinomial family.\n",
      "  warnings.warn((f\"The {type(family.link).__name__} link function \"\n",
      "C:\\Users\\User\\AppData\\Local\\Temp\\ipykernel_3908\\863504745.py:19: FutureWarning: Series.__getitem__ treating keys as positions is deprecated. In a future version, integer keys will always be treated as labels (consistent with DataFrame behavior). To access a value by position, use `ser.iloc[pos]`\n",
      "  res = model.params[0]*spatial_locations['total_counts']\n",
      "c:\\Users\\User\\GPcounts\\.venv\\lib\\site-packages\\statsmodels\\genmod\\families\\links.py:13: FutureWarning: The identity link alias is deprecated. Use Identity instead. The identity link alias will be removed after the 0.15.0 release.\n",
      "  warnings.warn(\n",
      "c:\\Users\\User\\GPcounts\\.venv\\lib\\site-packages\\statsmodels\\genmod\\families\\family.py:1367: ValueWarning: Negative binomial dispersion parameter alpha not set. Using default value alpha=1.0.\n",
      "  warnings.warn(\"Negative binomial dispersion parameter alpha not \"\n",
      "c:\\Users\\User\\GPcounts\\.venv\\lib\\site-packages\\statsmodels\\genmod\\generalized_linear_model.py:308: DomainWarning: The identity link function does not respect the domain of the NegativeBinomial family.\n",
      "  warnings.warn((f\"The {type(family.link).__name__} link function \"\n",
      "C:\\Users\\User\\AppData\\Local\\Temp\\ipykernel_3908\\863504745.py:19: FutureWarning: Series.__getitem__ treating keys as positions is deprecated. In a future version, integer keys will always be treated as labels (consistent with DataFrame behavior). To access a value by position, use `ser.iloc[pos]`\n",
      "  res = model.params[0]*spatial_locations['total_counts']\n",
      "c:\\Users\\User\\GPcounts\\.venv\\lib\\site-packages\\statsmodels\\genmod\\families\\links.py:13: FutureWarning: The identity link alias is deprecated. Use Identity instead. The identity link alias will be removed after the 0.15.0 release.\n",
      "  warnings.warn(\n",
      "c:\\Users\\User\\GPcounts\\.venv\\lib\\site-packages\\statsmodels\\genmod\\families\\family.py:1367: ValueWarning: Negative binomial dispersion parameter alpha not set. Using default value alpha=1.0.\n",
      "  warnings.warn(\"Negative binomial dispersion parameter alpha not \"\n",
      "c:\\Users\\User\\GPcounts\\.venv\\lib\\site-packages\\statsmodels\\genmod\\generalized_linear_model.py:308: DomainWarning: The identity link function does not respect the domain of the NegativeBinomial family.\n",
      "  warnings.warn((f\"The {type(family.link).__name__} link function \"\n",
      "C:\\Users\\User\\AppData\\Local\\Temp\\ipykernel_3908\\863504745.py:19: FutureWarning: Series.__getitem__ treating keys as positions is deprecated. In a future version, integer keys will always be treated as labels (consistent with DataFrame behavior). To access a value by position, use `ser.iloc[pos]`\n",
      "  res = model.params[0]*spatial_locations['total_counts']\n",
      "c:\\Users\\User\\GPcounts\\.venv\\lib\\site-packages\\statsmodels\\genmod\\families\\links.py:13: FutureWarning: The identity link alias is deprecated. Use Identity instead. The identity link alias will be removed after the 0.15.0 release.\n",
      "  warnings.warn(\n",
      "c:\\Users\\User\\GPcounts\\.venv\\lib\\site-packages\\statsmodels\\genmod\\families\\family.py:1367: ValueWarning: Negative binomial dispersion parameter alpha not set. Using default value alpha=1.0.\n",
      "  warnings.warn(\"Negative binomial dispersion parameter alpha not \"\n",
      "c:\\Users\\User\\GPcounts\\.venv\\lib\\site-packages\\statsmodels\\genmod\\generalized_linear_model.py:308: DomainWarning: The identity link function does not respect the domain of the NegativeBinomial family.\n",
      "  warnings.warn((f\"The {type(family.link).__name__} link function \"\n",
      "C:\\Users\\User\\AppData\\Local\\Temp\\ipykernel_3908\\863504745.py:19: FutureWarning: Series.__getitem__ treating keys as positions is deprecated. In a future version, integer keys will always be treated as labels (consistent with DataFrame behavior). To access a value by position, use `ser.iloc[pos]`\n",
      "  res = model.params[0]*spatial_locations['total_counts']\n",
      "c:\\Users\\User\\GPcounts\\.venv\\lib\\site-packages\\statsmodels\\genmod\\families\\links.py:13: FutureWarning: The identity link alias is deprecated. Use Identity instead. The identity link alias will be removed after the 0.15.0 release.\n",
      "  warnings.warn(\n",
      "c:\\Users\\User\\GPcounts\\.venv\\lib\\site-packages\\statsmodels\\genmod\\families\\family.py:1367: ValueWarning: Negative binomial dispersion parameter alpha not set. Using default value alpha=1.0.\n",
      "  warnings.warn(\"Negative binomial dispersion parameter alpha not \"\n",
      "c:\\Users\\User\\GPcounts\\.venv\\lib\\site-packages\\statsmodels\\genmod\\generalized_linear_model.py:308: DomainWarning: The identity link function does not respect the domain of the NegativeBinomial family.\n",
      "  warnings.warn((f\"The {type(family.link).__name__} link function \"\n",
      "C:\\Users\\User\\AppData\\Local\\Temp\\ipykernel_3908\\863504745.py:19: FutureWarning: Series.__getitem__ treating keys as positions is deprecated. In a future version, integer keys will always be treated as labels (consistent with DataFrame behavior). To access a value by position, use `ser.iloc[pos]`\n",
      "  res = model.params[0]*spatial_locations['total_counts']\n",
      "c:\\Users\\User\\GPcounts\\.venv\\lib\\site-packages\\statsmodels\\genmod\\families\\links.py:13: FutureWarning: The identity link alias is deprecated. Use Identity instead. The identity link alias will be removed after the 0.15.0 release.\n",
      "  warnings.warn(\n",
      "c:\\Users\\User\\GPcounts\\.venv\\lib\\site-packages\\statsmodels\\genmod\\families\\family.py:1367: ValueWarning: Negative binomial dispersion parameter alpha not set. Using default value alpha=1.0.\n",
      "  warnings.warn(\"Negative binomial dispersion parameter alpha not \"\n",
      "c:\\Users\\User\\GPcounts\\.venv\\lib\\site-packages\\statsmodels\\genmod\\generalized_linear_model.py:308: DomainWarning: The identity link function does not respect the domain of the NegativeBinomial family.\n",
      "  warnings.warn((f\"The {type(family.link).__name__} link function \"\n",
      "C:\\Users\\User\\AppData\\Local\\Temp\\ipykernel_3908\\863504745.py:19: FutureWarning: Series.__getitem__ treating keys as positions is deprecated. In a future version, integer keys will always be treated as labels (consistent with DataFrame behavior). To access a value by position, use `ser.iloc[pos]`\n",
      "  res = model.params[0]*spatial_locations['total_counts']\n",
      "c:\\Users\\User\\GPcounts\\.venv\\lib\\site-packages\\statsmodels\\genmod\\families\\links.py:13: FutureWarning: The identity link alias is deprecated. Use Identity instead. The identity link alias will be removed after the 0.15.0 release.\n",
      "  warnings.warn(\n",
      "c:\\Users\\User\\GPcounts\\.venv\\lib\\site-packages\\statsmodels\\genmod\\families\\family.py:1367: ValueWarning: Negative binomial dispersion parameter alpha not set. Using default value alpha=1.0.\n",
      "  warnings.warn(\"Negative binomial dispersion parameter alpha not \"\n",
      "c:\\Users\\User\\GPcounts\\.venv\\lib\\site-packages\\statsmodels\\genmod\\generalized_linear_model.py:308: DomainWarning: The identity link function does not respect the domain of the NegativeBinomial family.\n",
      "  warnings.warn((f\"The {type(family.link).__name__} link function \"\n",
      "C:\\Users\\User\\AppData\\Local\\Temp\\ipykernel_3908\\863504745.py:19: FutureWarning: Series.__getitem__ treating keys as positions is deprecated. In a future version, integer keys will always be treated as labels (consistent with DataFrame behavior). To access a value by position, use `ser.iloc[pos]`\n",
      "  res = model.params[0]*spatial_locations['total_counts']\n",
      "c:\\Users\\User\\GPcounts\\.venv\\lib\\site-packages\\statsmodels\\genmod\\families\\links.py:13: FutureWarning: The identity link alias is deprecated. Use Identity instead. The identity link alias will be removed after the 0.15.0 release.\n",
      "  warnings.warn(\n",
      "c:\\Users\\User\\GPcounts\\.venv\\lib\\site-packages\\statsmodels\\genmod\\families\\family.py:1367: ValueWarning: Negative binomial dispersion parameter alpha not set. Using default value alpha=1.0.\n",
      "  warnings.warn(\"Negative binomial dispersion parameter alpha not \"\n",
      "c:\\Users\\User\\GPcounts\\.venv\\lib\\site-packages\\statsmodels\\genmod\\generalized_linear_model.py:308: DomainWarning: The identity link function does not respect the domain of the NegativeBinomial family.\n",
      "  warnings.warn((f\"The {type(family.link).__name__} link function \"\n",
      "C:\\Users\\User\\AppData\\Local\\Temp\\ipykernel_3908\\863504745.py:19: FutureWarning: Series.__getitem__ treating keys as positions is deprecated. In a future version, integer keys will always be treated as labels (consistent with DataFrame behavior). To access a value by position, use `ser.iloc[pos]`\n",
      "  res = model.params[0]*spatial_locations['total_counts']\n",
      "c:\\Users\\User\\GPcounts\\.venv\\lib\\site-packages\\statsmodels\\genmod\\families\\links.py:13: FutureWarning: The identity link alias is deprecated. Use Identity instead. The identity link alias will be removed after the 0.15.0 release.\n",
      "  warnings.warn(\n",
      "c:\\Users\\User\\GPcounts\\.venv\\lib\\site-packages\\statsmodels\\genmod\\families\\family.py:1367: ValueWarning: Negative binomial dispersion parameter alpha not set. Using default value alpha=1.0.\n",
      "  warnings.warn(\"Negative binomial dispersion parameter alpha not \"\n",
      "c:\\Users\\User\\GPcounts\\.venv\\lib\\site-packages\\statsmodels\\genmod\\generalized_linear_model.py:308: DomainWarning: The identity link function does not respect the domain of the NegativeBinomial family.\n",
      "  warnings.warn((f\"The {type(family.link).__name__} link function \"\n",
      "C:\\Users\\User\\AppData\\Local\\Temp\\ipykernel_3908\\863504745.py:19: FutureWarning: Series.__getitem__ treating keys as positions is deprecated. In a future version, integer keys will always be treated as labels (consistent with DataFrame behavior). To access a value by position, use `ser.iloc[pos]`\n",
      "  res = model.params[0]*spatial_locations['total_counts']\n",
      "c:\\Users\\User\\GPcounts\\.venv\\lib\\site-packages\\statsmodels\\genmod\\families\\links.py:13: FutureWarning: The identity link alias is deprecated. Use Identity instead. The identity link alias will be removed after the 0.15.0 release.\n",
      "  warnings.warn(\n",
      "c:\\Users\\User\\GPcounts\\.venv\\lib\\site-packages\\statsmodels\\genmod\\families\\family.py:1367: ValueWarning: Negative binomial dispersion parameter alpha not set. Using default value alpha=1.0.\n",
      "  warnings.warn(\"Negative binomial dispersion parameter alpha not \"\n",
      "c:\\Users\\User\\GPcounts\\.venv\\lib\\site-packages\\statsmodels\\genmod\\generalized_linear_model.py:308: DomainWarning: The identity link function does not respect the domain of the NegativeBinomial family.\n",
      "  warnings.warn((f\"The {type(family.link).__name__} link function \"\n",
      "C:\\Users\\User\\AppData\\Local\\Temp\\ipykernel_3908\\863504745.py:19: FutureWarning: Series.__getitem__ treating keys as positions is deprecated. In a future version, integer keys will always be treated as labels (consistent with DataFrame behavior). To access a value by position, use `ser.iloc[pos]`\n",
      "  res = model.params[0]*spatial_locations['total_counts']\n",
      "c:\\Users\\User\\GPcounts\\.venv\\lib\\site-packages\\statsmodels\\genmod\\families\\links.py:13: FutureWarning: The identity link alias is deprecated. Use Identity instead. The identity link alias will be removed after the 0.15.0 release.\n",
      "  warnings.warn(\n",
      "c:\\Users\\User\\GPcounts\\.venv\\lib\\site-packages\\statsmodels\\genmod\\families\\family.py:1367: ValueWarning: Negative binomial dispersion parameter alpha not set. Using default value alpha=1.0.\n",
      "  warnings.warn(\"Negative binomial dispersion parameter alpha not \"\n",
      "c:\\Users\\User\\GPcounts\\.venv\\lib\\site-packages\\statsmodels\\genmod\\generalized_linear_model.py:308: DomainWarning: The identity link function does not respect the domain of the NegativeBinomial family.\n",
      "  warnings.warn((f\"The {type(family.link).__name__} link function \"\n",
      "C:\\Users\\User\\AppData\\Local\\Temp\\ipykernel_3908\\863504745.py:19: FutureWarning: Series.__getitem__ treating keys as positions is deprecated. In a future version, integer keys will always be treated as labels (consistent with DataFrame behavior). To access a value by position, use `ser.iloc[pos]`\n",
      "  res = model.params[0]*spatial_locations['total_counts']\n",
      "c:\\Users\\User\\GPcounts\\.venv\\lib\\site-packages\\statsmodels\\genmod\\families\\links.py:13: FutureWarning: The identity link alias is deprecated. Use Identity instead. The identity link alias will be removed after the 0.15.0 release.\n",
      "  warnings.warn(\n",
      "c:\\Users\\User\\GPcounts\\.venv\\lib\\site-packages\\statsmodels\\genmod\\families\\family.py:1367: ValueWarning: Negative binomial dispersion parameter alpha not set. Using default value alpha=1.0.\n",
      "  warnings.warn(\"Negative binomial dispersion parameter alpha not \"\n",
      "c:\\Users\\User\\GPcounts\\.venv\\lib\\site-packages\\statsmodels\\genmod\\generalized_linear_model.py:308: DomainWarning: The identity link function does not respect the domain of the NegativeBinomial family.\n",
      "  warnings.warn((f\"The {type(family.link).__name__} link function \"\n",
      "C:\\Users\\User\\AppData\\Local\\Temp\\ipykernel_3908\\863504745.py:19: FutureWarning: Series.__getitem__ treating keys as positions is deprecated. In a future version, integer keys will always be treated as labels (consistent with DataFrame behavior). To access a value by position, use `ser.iloc[pos]`\n",
      "  res = model.params[0]*spatial_locations['total_counts']\n",
      "c:\\Users\\User\\GPcounts\\.venv\\lib\\site-packages\\statsmodels\\genmod\\families\\links.py:13: FutureWarning: The identity link alias is deprecated. Use Identity instead. The identity link alias will be removed after the 0.15.0 release.\n",
      "  warnings.warn(\n",
      "c:\\Users\\User\\GPcounts\\.venv\\lib\\site-packages\\statsmodels\\genmod\\families\\family.py:1367: ValueWarning: Negative binomial dispersion parameter alpha not set. Using default value alpha=1.0.\n",
      "  warnings.warn(\"Negative binomial dispersion parameter alpha not \"\n",
      "c:\\Users\\User\\GPcounts\\.venv\\lib\\site-packages\\statsmodels\\genmod\\generalized_linear_model.py:308: DomainWarning: The identity link function does not respect the domain of the NegativeBinomial family.\n",
      "  warnings.warn((f\"The {type(family.link).__name__} link function \"\n",
      "C:\\Users\\User\\AppData\\Local\\Temp\\ipykernel_3908\\863504745.py:19: FutureWarning: Series.__getitem__ treating keys as positions is deprecated. In a future version, integer keys will always be treated as labels (consistent with DataFrame behavior). To access a value by position, use `ser.iloc[pos]`\n",
      "  res = model.params[0]*spatial_locations['total_counts']\n",
      "c:\\Users\\User\\GPcounts\\.venv\\lib\\site-packages\\statsmodels\\genmod\\families\\links.py:13: FutureWarning: The identity link alias is deprecated. Use Identity instead. The identity link alias will be removed after the 0.15.0 release.\n",
      "  warnings.warn(\n",
      "c:\\Users\\User\\GPcounts\\.venv\\lib\\site-packages\\statsmodels\\genmod\\families\\family.py:1367: ValueWarning: Negative binomial dispersion parameter alpha not set. Using default value alpha=1.0.\n",
      "  warnings.warn(\"Negative binomial dispersion parameter alpha not \"\n",
      "c:\\Users\\User\\GPcounts\\.venv\\lib\\site-packages\\statsmodels\\genmod\\generalized_linear_model.py:308: DomainWarning: The identity link function does not respect the domain of the NegativeBinomial family.\n",
      "  warnings.warn((f\"The {type(family.link).__name__} link function \"\n",
      "C:\\Users\\User\\AppData\\Local\\Temp\\ipykernel_3908\\863504745.py:19: FutureWarning: Series.__getitem__ treating keys as positions is deprecated. In a future version, integer keys will always be treated as labels (consistent with DataFrame behavior). To access a value by position, use `ser.iloc[pos]`\n",
      "  res = model.params[0]*spatial_locations['total_counts']\n",
      "c:\\Users\\User\\GPcounts\\.venv\\lib\\site-packages\\statsmodels\\genmod\\families\\links.py:13: FutureWarning: The identity link alias is deprecated. Use Identity instead. The identity link alias will be removed after the 0.15.0 release.\n",
      "  warnings.warn(\n",
      "c:\\Users\\User\\GPcounts\\.venv\\lib\\site-packages\\statsmodels\\genmod\\families\\family.py:1367: ValueWarning: Negative binomial dispersion parameter alpha not set. Using default value alpha=1.0.\n",
      "  warnings.warn(\"Negative binomial dispersion parameter alpha not \"\n",
      "c:\\Users\\User\\GPcounts\\.venv\\lib\\site-packages\\statsmodels\\genmod\\generalized_linear_model.py:308: DomainWarning: The identity link function does not respect the domain of the NegativeBinomial family.\n",
      "  warnings.warn((f\"The {type(family.link).__name__} link function \"\n",
      "C:\\Users\\User\\AppData\\Local\\Temp\\ipykernel_3908\\863504745.py:19: FutureWarning: Series.__getitem__ treating keys as positions is deprecated. In a future version, integer keys will always be treated as labels (consistent with DataFrame behavior). To access a value by position, use `ser.iloc[pos]`\n",
      "  res = model.params[0]*spatial_locations['total_counts']\n",
      "c:\\Users\\User\\GPcounts\\.venv\\lib\\site-packages\\statsmodels\\genmod\\families\\links.py:13: FutureWarning: The identity link alias is deprecated. Use Identity instead. The identity link alias will be removed after the 0.15.0 release.\n",
      "  warnings.warn(\n",
      "c:\\Users\\User\\GPcounts\\.venv\\lib\\site-packages\\statsmodels\\genmod\\families\\family.py:1367: ValueWarning: Negative binomial dispersion parameter alpha not set. Using default value alpha=1.0.\n",
      "  warnings.warn(\"Negative binomial dispersion parameter alpha not \"\n",
      "c:\\Users\\User\\GPcounts\\.venv\\lib\\site-packages\\statsmodels\\genmod\\generalized_linear_model.py:308: DomainWarning: The identity link function does not respect the domain of the NegativeBinomial family.\n",
      "  warnings.warn((f\"The {type(family.link).__name__} link function \"\n",
      "C:\\Users\\User\\AppData\\Local\\Temp\\ipykernel_3908\\863504745.py:19: FutureWarning: Series.__getitem__ treating keys as positions is deprecated. In a future version, integer keys will always be treated as labels (consistent with DataFrame behavior). To access a value by position, use `ser.iloc[pos]`\n",
      "  res = model.params[0]*spatial_locations['total_counts']\n",
      "c:\\Users\\User\\GPcounts\\.venv\\lib\\site-packages\\statsmodels\\genmod\\families\\links.py:13: FutureWarning: The identity link alias is deprecated. Use Identity instead. The identity link alias will be removed after the 0.15.0 release.\n",
      "  warnings.warn(\n",
      "c:\\Users\\User\\GPcounts\\.venv\\lib\\site-packages\\statsmodels\\genmod\\families\\family.py:1367: ValueWarning: Negative binomial dispersion parameter alpha not set. Using default value alpha=1.0.\n",
      "  warnings.warn(\"Negative binomial dispersion parameter alpha not \"\n",
      "c:\\Users\\User\\GPcounts\\.venv\\lib\\site-packages\\statsmodels\\genmod\\generalized_linear_model.py:308: DomainWarning: The identity link function does not respect the domain of the NegativeBinomial family.\n",
      "  warnings.warn((f\"The {type(family.link).__name__} link function \"\n",
      "C:\\Users\\User\\AppData\\Local\\Temp\\ipykernel_3908\\863504745.py:19: FutureWarning: Series.__getitem__ treating keys as positions is deprecated. In a future version, integer keys will always be treated as labels (consistent with DataFrame behavior). To access a value by position, use `ser.iloc[pos]`\n",
      "  res = model.params[0]*spatial_locations['total_counts']\n",
      "c:\\Users\\User\\GPcounts\\.venv\\lib\\site-packages\\statsmodels\\genmod\\families\\links.py:13: FutureWarning: The identity link alias is deprecated. Use Identity instead. The identity link alias will be removed after the 0.15.0 release.\n",
      "  warnings.warn(\n",
      "c:\\Users\\User\\GPcounts\\.venv\\lib\\site-packages\\statsmodels\\genmod\\families\\family.py:1367: ValueWarning: Negative binomial dispersion parameter alpha not set. Using default value alpha=1.0.\n",
      "  warnings.warn(\"Negative binomial dispersion parameter alpha not \"\n",
      "c:\\Users\\User\\GPcounts\\.venv\\lib\\site-packages\\statsmodels\\genmod\\generalized_linear_model.py:308: DomainWarning: The identity link function does not respect the domain of the NegativeBinomial family.\n",
      "  warnings.warn((f\"The {type(family.link).__name__} link function \"\n",
      "C:\\Users\\User\\AppData\\Local\\Temp\\ipykernel_3908\\863504745.py:19: FutureWarning: Series.__getitem__ treating keys as positions is deprecated. In a future version, integer keys will always be treated as labels (consistent with DataFrame behavior). To access a value by position, use `ser.iloc[pos]`\n",
      "  res = model.params[0]*spatial_locations['total_counts']\n",
      "c:\\Users\\User\\GPcounts\\.venv\\lib\\site-packages\\statsmodels\\genmod\\families\\links.py:13: FutureWarning: The identity link alias is deprecated. Use Identity instead. The identity link alias will be removed after the 0.15.0 release.\n",
      "  warnings.warn(\n",
      "c:\\Users\\User\\GPcounts\\.venv\\lib\\site-packages\\statsmodels\\genmod\\families\\family.py:1367: ValueWarning: Negative binomial dispersion parameter alpha not set. Using default value alpha=1.0.\n",
      "  warnings.warn(\"Negative binomial dispersion parameter alpha not \"\n",
      "c:\\Users\\User\\GPcounts\\.venv\\lib\\site-packages\\statsmodels\\genmod\\generalized_linear_model.py:308: DomainWarning: The identity link function does not respect the domain of the NegativeBinomial family.\n",
      "  warnings.warn((f\"The {type(family.link).__name__} link function \"\n",
      "C:\\Users\\User\\AppData\\Local\\Temp\\ipykernel_3908\\863504745.py:19: FutureWarning: Series.__getitem__ treating keys as positions is deprecated. In a future version, integer keys will always be treated as labels (consistent with DataFrame behavior). To access a value by position, use `ser.iloc[pos]`\n",
      "  res = model.params[0]*spatial_locations['total_counts']\n",
      "c:\\Users\\User\\GPcounts\\.venv\\lib\\site-packages\\statsmodels\\genmod\\families\\links.py:13: FutureWarning: The identity link alias is deprecated. Use Identity instead. The identity link alias will be removed after the 0.15.0 release.\n",
      "  warnings.warn(\n",
      "c:\\Users\\User\\GPcounts\\.venv\\lib\\site-packages\\statsmodels\\genmod\\families\\family.py:1367: ValueWarning: Negative binomial dispersion parameter alpha not set. Using default value alpha=1.0.\n",
      "  warnings.warn(\"Negative binomial dispersion parameter alpha not \"\n",
      "c:\\Users\\User\\GPcounts\\.venv\\lib\\site-packages\\statsmodels\\genmod\\generalized_linear_model.py:308: DomainWarning: The identity link function does not respect the domain of the NegativeBinomial family.\n",
      "  warnings.warn((f\"The {type(family.link).__name__} link function \"\n",
      "C:\\Users\\User\\AppData\\Local\\Temp\\ipykernel_3908\\863504745.py:19: FutureWarning: Series.__getitem__ treating keys as positions is deprecated. In a future version, integer keys will always be treated as labels (consistent with DataFrame behavior). To access a value by position, use `ser.iloc[pos]`\n",
      "  res = model.params[0]*spatial_locations['total_counts']\n",
      "c:\\Users\\User\\GPcounts\\.venv\\lib\\site-packages\\statsmodels\\genmod\\families\\links.py:13: FutureWarning: The identity link alias is deprecated. Use Identity instead. The identity link alias will be removed after the 0.15.0 release.\n",
      "  warnings.warn(\n",
      "c:\\Users\\User\\GPcounts\\.venv\\lib\\site-packages\\statsmodels\\genmod\\families\\family.py:1367: ValueWarning: Negative binomial dispersion parameter alpha not set. Using default value alpha=1.0.\n",
      "  warnings.warn(\"Negative binomial dispersion parameter alpha not \"\n",
      "c:\\Users\\User\\GPcounts\\.venv\\lib\\site-packages\\statsmodels\\genmod\\generalized_linear_model.py:308: DomainWarning: The identity link function does not respect the domain of the NegativeBinomial family.\n",
      "  warnings.warn((f\"The {type(family.link).__name__} link function \"\n",
      "C:\\Users\\User\\AppData\\Local\\Temp\\ipykernel_3908\\863504745.py:19: FutureWarning: Series.__getitem__ treating keys as positions is deprecated. In a future version, integer keys will always be treated as labels (consistent with DataFrame behavior). To access a value by position, use `ser.iloc[pos]`\n",
      "  res = model.params[0]*spatial_locations['total_counts']\n",
      "c:\\Users\\User\\GPcounts\\.venv\\lib\\site-packages\\statsmodels\\genmod\\families\\links.py:13: FutureWarning: The identity link alias is deprecated. Use Identity instead. The identity link alias will be removed after the 0.15.0 release.\n",
      "  warnings.warn(\n",
      "c:\\Users\\User\\GPcounts\\.venv\\lib\\site-packages\\statsmodels\\genmod\\families\\family.py:1367: ValueWarning: Negative binomial dispersion parameter alpha not set. Using default value alpha=1.0.\n",
      "  warnings.warn(\"Negative binomial dispersion parameter alpha not \"\n",
      "c:\\Users\\User\\GPcounts\\.venv\\lib\\site-packages\\statsmodels\\genmod\\generalized_linear_model.py:308: DomainWarning: The identity link function does not respect the domain of the NegativeBinomial family.\n",
      "  warnings.warn((f\"The {type(family.link).__name__} link function \"\n",
      "C:\\Users\\User\\AppData\\Local\\Temp\\ipykernel_3908\\863504745.py:19: FutureWarning: Series.__getitem__ treating keys as positions is deprecated. In a future version, integer keys will always be treated as labels (consistent with DataFrame behavior). To access a value by position, use `ser.iloc[pos]`\n",
      "  res = model.params[0]*spatial_locations['total_counts']\n",
      "c:\\Users\\User\\GPcounts\\.venv\\lib\\site-packages\\statsmodels\\genmod\\families\\links.py:13: FutureWarning: The identity link alias is deprecated. Use Identity instead. The identity link alias will be removed after the 0.15.0 release.\n",
      "  warnings.warn(\n",
      "c:\\Users\\User\\GPcounts\\.venv\\lib\\site-packages\\statsmodels\\genmod\\families\\family.py:1367: ValueWarning: Negative binomial dispersion parameter alpha not set. Using default value alpha=1.0.\n",
      "  warnings.warn(\"Negative binomial dispersion parameter alpha not \"\n",
      "c:\\Users\\User\\GPcounts\\.venv\\lib\\site-packages\\statsmodels\\genmod\\generalized_linear_model.py:308: DomainWarning: The identity link function does not respect the domain of the NegativeBinomial family.\n",
      "  warnings.warn((f\"The {type(family.link).__name__} link function \"\n",
      "C:\\Users\\User\\AppData\\Local\\Temp\\ipykernel_3908\\863504745.py:19: FutureWarning: Series.__getitem__ treating keys as positions is deprecated. In a future version, integer keys will always be treated as labels (consistent with DataFrame behavior). To access a value by position, use `ser.iloc[pos]`\n",
      "  res = model.params[0]*spatial_locations['total_counts']\n",
      "c:\\Users\\User\\GPcounts\\.venv\\lib\\site-packages\\statsmodels\\genmod\\families\\links.py:13: FutureWarning: The identity link alias is deprecated. Use Identity instead. The identity link alias will be removed after the 0.15.0 release.\n",
      "  warnings.warn(\n",
      "c:\\Users\\User\\GPcounts\\.venv\\lib\\site-packages\\statsmodels\\genmod\\families\\family.py:1367: ValueWarning: Negative binomial dispersion parameter alpha not set. Using default value alpha=1.0.\n",
      "  warnings.warn(\"Negative binomial dispersion parameter alpha not \"\n",
      "c:\\Users\\User\\GPcounts\\.venv\\lib\\site-packages\\statsmodels\\genmod\\generalized_linear_model.py:308: DomainWarning: The identity link function does not respect the domain of the NegativeBinomial family.\n",
      "  warnings.warn((f\"The {type(family.link).__name__} link function \"\n",
      "C:\\Users\\User\\AppData\\Local\\Temp\\ipykernel_3908\\863504745.py:19: FutureWarning: Series.__getitem__ treating keys as positions is deprecated. In a future version, integer keys will always be treated as labels (consistent with DataFrame behavior). To access a value by position, use `ser.iloc[pos]`\n",
      "  res = model.params[0]*spatial_locations['total_counts']\n",
      "c:\\Users\\User\\GPcounts\\.venv\\lib\\site-packages\\statsmodels\\genmod\\families\\links.py:13: FutureWarning: The identity link alias is deprecated. Use Identity instead. The identity link alias will be removed after the 0.15.0 release.\n",
      "  warnings.warn(\n",
      "c:\\Users\\User\\GPcounts\\.venv\\lib\\site-packages\\statsmodels\\genmod\\families\\family.py:1367: ValueWarning: Negative binomial dispersion parameter alpha not set. Using default value alpha=1.0.\n",
      "  warnings.warn(\"Negative binomial dispersion parameter alpha not \"\n",
      "c:\\Users\\User\\GPcounts\\.venv\\lib\\site-packages\\statsmodels\\genmod\\generalized_linear_model.py:308: DomainWarning: The identity link function does not respect the domain of the NegativeBinomial family.\n",
      "  warnings.warn((f\"The {type(family.link).__name__} link function \"\n",
      "C:\\Users\\User\\AppData\\Local\\Temp\\ipykernel_3908\\863504745.py:19: FutureWarning: Series.__getitem__ treating keys as positions is deprecated. In a future version, integer keys will always be treated as labels (consistent with DataFrame behavior). To access a value by position, use `ser.iloc[pos]`\n",
      "  res = model.params[0]*spatial_locations['total_counts']\n",
      "c:\\Users\\User\\GPcounts\\.venv\\lib\\site-packages\\statsmodels\\genmod\\families\\links.py:13: FutureWarning: The identity link alias is deprecated. Use Identity instead. The identity link alias will be removed after the 0.15.0 release.\n",
      "  warnings.warn(\n",
      "c:\\Users\\User\\GPcounts\\.venv\\lib\\site-packages\\statsmodels\\genmod\\families\\family.py:1367: ValueWarning: Negative binomial dispersion parameter alpha not set. Using default value alpha=1.0.\n",
      "  warnings.warn(\"Negative binomial dispersion parameter alpha not \"\n",
      "c:\\Users\\User\\GPcounts\\.venv\\lib\\site-packages\\statsmodels\\genmod\\generalized_linear_model.py:308: DomainWarning: The identity link function does not respect the domain of the NegativeBinomial family.\n",
      "  warnings.warn((f\"The {type(family.link).__name__} link function \"\n",
      "C:\\Users\\User\\AppData\\Local\\Temp\\ipykernel_3908\\863504745.py:19: FutureWarning: Series.__getitem__ treating keys as positions is deprecated. In a future version, integer keys will always be treated as labels (consistent with DataFrame behavior). To access a value by position, use `ser.iloc[pos]`\n",
      "  res = model.params[0]*spatial_locations['total_counts']\n",
      "c:\\Users\\User\\GPcounts\\.venv\\lib\\site-packages\\statsmodels\\genmod\\families\\links.py:13: FutureWarning: The identity link alias is deprecated. Use Identity instead. The identity link alias will be removed after the 0.15.0 release.\n",
      "  warnings.warn(\n",
      "c:\\Users\\User\\GPcounts\\.venv\\lib\\site-packages\\statsmodels\\genmod\\families\\family.py:1367: ValueWarning: Negative binomial dispersion parameter alpha not set. Using default value alpha=1.0.\n",
      "  warnings.warn(\"Negative binomial dispersion parameter alpha not \"\n",
      "c:\\Users\\User\\GPcounts\\.venv\\lib\\site-packages\\statsmodels\\genmod\\generalized_linear_model.py:308: DomainWarning: The identity link function does not respect the domain of the NegativeBinomial family.\n",
      "  warnings.warn((f\"The {type(family.link).__name__} link function \"\n",
      "C:\\Users\\User\\AppData\\Local\\Temp\\ipykernel_3908\\863504745.py:19: FutureWarning: Series.__getitem__ treating keys as positions is deprecated. In a future version, integer keys will always be treated as labels (consistent with DataFrame behavior). To access a value by position, use `ser.iloc[pos]`\n",
      "  res = model.params[0]*spatial_locations['total_counts']\n",
      "c:\\Users\\User\\GPcounts\\.venv\\lib\\site-packages\\statsmodels\\genmod\\families\\links.py:13: FutureWarning: The identity link alias is deprecated. Use Identity instead. The identity link alias will be removed after the 0.15.0 release.\n",
      "  warnings.warn(\n",
      "c:\\Users\\User\\GPcounts\\.venv\\lib\\site-packages\\statsmodels\\genmod\\families\\family.py:1367: ValueWarning: Negative binomial dispersion parameter alpha not set. Using default value alpha=1.0.\n",
      "  warnings.warn(\"Negative binomial dispersion parameter alpha not \"\n",
      "c:\\Users\\User\\GPcounts\\.venv\\lib\\site-packages\\statsmodels\\genmod\\generalized_linear_model.py:308: DomainWarning: The identity link function does not respect the domain of the NegativeBinomial family.\n",
      "  warnings.warn((f\"The {type(family.link).__name__} link function \"\n",
      "C:\\Users\\User\\AppData\\Local\\Temp\\ipykernel_3908\\863504745.py:19: FutureWarning: Series.__getitem__ treating keys as positions is deprecated. In a future version, integer keys will always be treated as labels (consistent with DataFrame behavior). To access a value by position, use `ser.iloc[pos]`\n",
      "  res = model.params[0]*spatial_locations['total_counts']\n",
      "c:\\Users\\User\\GPcounts\\.venv\\lib\\site-packages\\statsmodels\\genmod\\families\\links.py:13: FutureWarning: The identity link alias is deprecated. Use Identity instead. The identity link alias will be removed after the 0.15.0 release.\n",
      "  warnings.warn(\n",
      "c:\\Users\\User\\GPcounts\\.venv\\lib\\site-packages\\statsmodels\\genmod\\families\\family.py:1367: ValueWarning: Negative binomial dispersion parameter alpha not set. Using default value alpha=1.0.\n",
      "  warnings.warn(\"Negative binomial dispersion parameter alpha not \"\n",
      "c:\\Users\\User\\GPcounts\\.venv\\lib\\site-packages\\statsmodels\\genmod\\generalized_linear_model.py:308: DomainWarning: The identity link function does not respect the domain of the NegativeBinomial family.\n",
      "  warnings.warn((f\"The {type(family.link).__name__} link function \"\n",
      "C:\\Users\\User\\AppData\\Local\\Temp\\ipykernel_3908\\863504745.py:19: FutureWarning: Series.__getitem__ treating keys as positions is deprecated. In a future version, integer keys will always be treated as labels (consistent with DataFrame behavior). To access a value by position, use `ser.iloc[pos]`\n",
      "  res = model.params[0]*spatial_locations['total_counts']\n",
      "c:\\Users\\User\\GPcounts\\.venv\\lib\\site-packages\\statsmodels\\genmod\\families\\links.py:13: FutureWarning: The identity link alias is deprecated. Use Identity instead. The identity link alias will be removed after the 0.15.0 release.\n",
      "  warnings.warn(\n",
      "c:\\Users\\User\\GPcounts\\.venv\\lib\\site-packages\\statsmodels\\genmod\\families\\family.py:1367: ValueWarning: Negative binomial dispersion parameter alpha not set. Using default value alpha=1.0.\n",
      "  warnings.warn(\"Negative binomial dispersion parameter alpha not \"\n",
      "c:\\Users\\User\\GPcounts\\.venv\\lib\\site-packages\\statsmodels\\genmod\\generalized_linear_model.py:308: DomainWarning: The identity link function does not respect the domain of the NegativeBinomial family.\n",
      "  warnings.warn((f\"The {type(family.link).__name__} link function \"\n",
      "C:\\Users\\User\\AppData\\Local\\Temp\\ipykernel_3908\\863504745.py:19: FutureWarning: Series.__getitem__ treating keys as positions is deprecated. In a future version, integer keys will always be treated as labels (consistent with DataFrame behavior). To access a value by position, use `ser.iloc[pos]`\n",
      "  res = model.params[0]*spatial_locations['total_counts']\n",
      "c:\\Users\\User\\GPcounts\\.venv\\lib\\site-packages\\statsmodels\\genmod\\families\\links.py:13: FutureWarning: The identity link alias is deprecated. Use Identity instead. The identity link alias will be removed after the 0.15.0 release.\n",
      "  warnings.warn(\n",
      "c:\\Users\\User\\GPcounts\\.venv\\lib\\site-packages\\statsmodels\\genmod\\families\\family.py:1367: ValueWarning: Negative binomial dispersion parameter alpha not set. Using default value alpha=1.0.\n",
      "  warnings.warn(\"Negative binomial dispersion parameter alpha not \"\n",
      "c:\\Users\\User\\GPcounts\\.venv\\lib\\site-packages\\statsmodels\\genmod\\generalized_linear_model.py:308: DomainWarning: The identity link function does not respect the domain of the NegativeBinomial family.\n",
      "  warnings.warn((f\"The {type(family.link).__name__} link function \"\n",
      "C:\\Users\\User\\AppData\\Local\\Temp\\ipykernel_3908\\863504745.py:19: FutureWarning: Series.__getitem__ treating keys as positions is deprecated. In a future version, integer keys will always be treated as labels (consistent with DataFrame behavior). To access a value by position, use `ser.iloc[pos]`\n",
      "  res = model.params[0]*spatial_locations['total_counts']\n",
      "c:\\Users\\User\\GPcounts\\.venv\\lib\\site-packages\\statsmodels\\genmod\\families\\links.py:13: FutureWarning: The identity link alias is deprecated. Use Identity instead. The identity link alias will be removed after the 0.15.0 release.\n",
      "  warnings.warn(\n",
      "c:\\Users\\User\\GPcounts\\.venv\\lib\\site-packages\\statsmodels\\genmod\\families\\family.py:1367: ValueWarning: Negative binomial dispersion parameter alpha not set. Using default value alpha=1.0.\n",
      "  warnings.warn(\"Negative binomial dispersion parameter alpha not \"\n",
      "c:\\Users\\User\\GPcounts\\.venv\\lib\\site-packages\\statsmodels\\genmod\\generalized_linear_model.py:308: DomainWarning: The identity link function does not respect the domain of the NegativeBinomial family.\n",
      "  warnings.warn((f\"The {type(family.link).__name__} link function \"\n",
      "C:\\Users\\User\\AppData\\Local\\Temp\\ipykernel_3908\\863504745.py:19: FutureWarning: Series.__getitem__ treating keys as positions is deprecated. In a future version, integer keys will always be treated as labels (consistent with DataFrame behavior). To access a value by position, use `ser.iloc[pos]`\n",
      "  res = model.params[0]*spatial_locations['total_counts']\n",
      "c:\\Users\\User\\GPcounts\\.venv\\lib\\site-packages\\statsmodels\\genmod\\families\\links.py:13: FutureWarning: The identity link alias is deprecated. Use Identity instead. The identity link alias will be removed after the 0.15.0 release.\n",
      "  warnings.warn(\n",
      "c:\\Users\\User\\GPcounts\\.venv\\lib\\site-packages\\statsmodels\\genmod\\families\\family.py:1367: ValueWarning: Negative binomial dispersion parameter alpha not set. Using default value alpha=1.0.\n",
      "  warnings.warn(\"Negative binomial dispersion parameter alpha not \"\n",
      "c:\\Users\\User\\GPcounts\\.venv\\lib\\site-packages\\statsmodels\\genmod\\generalized_linear_model.py:308: DomainWarning: The identity link function does not respect the domain of the NegativeBinomial family.\n",
      "  warnings.warn((f\"The {type(family.link).__name__} link function \"\n",
      "C:\\Users\\User\\AppData\\Local\\Temp\\ipykernel_3908\\863504745.py:19: FutureWarning: Series.__getitem__ treating keys as positions is deprecated. In a future version, integer keys will always be treated as labels (consistent with DataFrame behavior). To access a value by position, use `ser.iloc[pos]`\n",
      "  res = model.params[0]*spatial_locations['total_counts']\n",
      "c:\\Users\\User\\GPcounts\\.venv\\lib\\site-packages\\statsmodels\\genmod\\families\\links.py:13: FutureWarning: The identity link alias is deprecated. Use Identity instead. The identity link alias will be removed after the 0.15.0 release.\n",
      "  warnings.warn(\n",
      "c:\\Users\\User\\GPcounts\\.venv\\lib\\site-packages\\statsmodels\\genmod\\families\\family.py:1367: ValueWarning: Negative binomial dispersion parameter alpha not set. Using default value alpha=1.0.\n",
      "  warnings.warn(\"Negative binomial dispersion parameter alpha not \"\n",
      "c:\\Users\\User\\GPcounts\\.venv\\lib\\site-packages\\statsmodels\\genmod\\generalized_linear_model.py:308: DomainWarning: The identity link function does not respect the domain of the NegativeBinomial family.\n",
      "  warnings.warn((f\"The {type(family.link).__name__} link function \"\n",
      "C:\\Users\\User\\AppData\\Local\\Temp\\ipykernel_3908\\863504745.py:19: FutureWarning: Series.__getitem__ treating keys as positions is deprecated. In a future version, integer keys will always be treated as labels (consistent with DataFrame behavior). To access a value by position, use `ser.iloc[pos]`\n",
      "  res = model.params[0]*spatial_locations['total_counts']\n",
      "c:\\Users\\User\\GPcounts\\.venv\\lib\\site-packages\\statsmodels\\genmod\\families\\links.py:13: FutureWarning: The identity link alias is deprecated. Use Identity instead. The identity link alias will be removed after the 0.15.0 release.\n",
      "  warnings.warn(\n",
      "c:\\Users\\User\\GPcounts\\.venv\\lib\\site-packages\\statsmodels\\genmod\\families\\family.py:1367: ValueWarning: Negative binomial dispersion parameter alpha not set. Using default value alpha=1.0.\n",
      "  warnings.warn(\"Negative binomial dispersion parameter alpha not \"\n",
      "c:\\Users\\User\\GPcounts\\.venv\\lib\\site-packages\\statsmodels\\genmod\\generalized_linear_model.py:308: DomainWarning: The identity link function does not respect the domain of the NegativeBinomial family.\n",
      "  warnings.warn((f\"The {type(family.link).__name__} link function \"\n",
      "C:\\Users\\User\\AppData\\Local\\Temp\\ipykernel_3908\\863504745.py:19: FutureWarning: Series.__getitem__ treating keys as positions is deprecated. In a future version, integer keys will always be treated as labels (consistent with DataFrame behavior). To access a value by position, use `ser.iloc[pos]`\n",
      "  res = model.params[0]*spatial_locations['total_counts']\n",
      "c:\\Users\\User\\GPcounts\\.venv\\lib\\site-packages\\statsmodels\\genmod\\families\\links.py:13: FutureWarning: The identity link alias is deprecated. Use Identity instead. The identity link alias will be removed after the 0.15.0 release.\n",
      "  warnings.warn(\n",
      "c:\\Users\\User\\GPcounts\\.venv\\lib\\site-packages\\statsmodels\\genmod\\families\\family.py:1367: ValueWarning: Negative binomial dispersion parameter alpha not set. Using default value alpha=1.0.\n",
      "  warnings.warn(\"Negative binomial dispersion parameter alpha not \"\n",
      "c:\\Users\\User\\GPcounts\\.venv\\lib\\site-packages\\statsmodels\\genmod\\generalized_linear_model.py:308: DomainWarning: The identity link function does not respect the domain of the NegativeBinomial family.\n",
      "  warnings.warn((f\"The {type(family.link).__name__} link function \"\n",
      "C:\\Users\\User\\AppData\\Local\\Temp\\ipykernel_3908\\863504745.py:19: FutureWarning: Series.__getitem__ treating keys as positions is deprecated. In a future version, integer keys will always be treated as labels (consistent with DataFrame behavior). To access a value by position, use `ser.iloc[pos]`\n",
      "  res = model.params[0]*spatial_locations['total_counts']\n",
      "c:\\Users\\User\\GPcounts\\.venv\\lib\\site-packages\\statsmodels\\genmod\\families\\links.py:13: FutureWarning: The identity link alias is deprecated. Use Identity instead. The identity link alias will be removed after the 0.15.0 release.\n",
      "  warnings.warn(\n",
      "c:\\Users\\User\\GPcounts\\.venv\\lib\\site-packages\\statsmodels\\genmod\\families\\family.py:1367: ValueWarning: Negative binomial dispersion parameter alpha not set. Using default value alpha=1.0.\n",
      "  warnings.warn(\"Negative binomial dispersion parameter alpha not \"\n",
      "c:\\Users\\User\\GPcounts\\.venv\\lib\\site-packages\\statsmodels\\genmod\\generalized_linear_model.py:308: DomainWarning: The identity link function does not respect the domain of the NegativeBinomial family.\n",
      "  warnings.warn((f\"The {type(family.link).__name__} link function \"\n",
      "C:\\Users\\User\\AppData\\Local\\Temp\\ipykernel_3908\\863504745.py:19: FutureWarning: Series.__getitem__ treating keys as positions is deprecated. In a future version, integer keys will always be treated as labels (consistent with DataFrame behavior). To access a value by position, use `ser.iloc[pos]`\n",
      "  res = model.params[0]*spatial_locations['total_counts']\n",
      "c:\\Users\\User\\GPcounts\\.venv\\lib\\site-packages\\statsmodels\\genmod\\families\\links.py:13: FutureWarning: The identity link alias is deprecated. Use Identity instead. The identity link alias will be removed after the 0.15.0 release.\n",
      "  warnings.warn(\n",
      "c:\\Users\\User\\GPcounts\\.venv\\lib\\site-packages\\statsmodels\\genmod\\families\\family.py:1367: ValueWarning: Negative binomial dispersion parameter alpha not set. Using default value alpha=1.0.\n",
      "  warnings.warn(\"Negative binomial dispersion parameter alpha not \"\n",
      "c:\\Users\\User\\GPcounts\\.venv\\lib\\site-packages\\statsmodels\\genmod\\generalized_linear_model.py:308: DomainWarning: The identity link function does not respect the domain of the NegativeBinomial family.\n",
      "  warnings.warn((f\"The {type(family.link).__name__} link function \"\n",
      "C:\\Users\\User\\AppData\\Local\\Temp\\ipykernel_3908\\863504745.py:19: FutureWarning: Series.__getitem__ treating keys as positions is deprecated. In a future version, integer keys will always be treated as labels (consistent with DataFrame behavior). To access a value by position, use `ser.iloc[pos]`\n",
      "  res = model.params[0]*spatial_locations['total_counts']\n",
      "c:\\Users\\User\\GPcounts\\.venv\\lib\\site-packages\\statsmodels\\genmod\\families\\links.py:13: FutureWarning: The identity link alias is deprecated. Use Identity instead. The identity link alias will be removed after the 0.15.0 release.\n",
      "  warnings.warn(\n",
      "c:\\Users\\User\\GPcounts\\.venv\\lib\\site-packages\\statsmodels\\genmod\\families\\family.py:1367: ValueWarning: Negative binomial dispersion parameter alpha not set. Using default value alpha=1.0.\n",
      "  warnings.warn(\"Negative binomial dispersion parameter alpha not \"\n",
      "c:\\Users\\User\\GPcounts\\.venv\\lib\\site-packages\\statsmodels\\genmod\\generalized_linear_model.py:308: DomainWarning: The identity link function does not respect the domain of the NegativeBinomial family.\n",
      "  warnings.warn((f\"The {type(family.link).__name__} link function \"\n",
      "C:\\Users\\User\\AppData\\Local\\Temp\\ipykernel_3908\\863504745.py:19: FutureWarning: Series.__getitem__ treating keys as positions is deprecated. In a future version, integer keys will always be treated as labels (consistent with DataFrame behavior). To access a value by position, use `ser.iloc[pos]`\n",
      "  res = model.params[0]*spatial_locations['total_counts']\n",
      "c:\\Users\\User\\GPcounts\\.venv\\lib\\site-packages\\statsmodels\\genmod\\families\\links.py:13: FutureWarning: The identity link alias is deprecated. Use Identity instead. The identity link alias will be removed after the 0.15.0 release.\n",
      "  warnings.warn(\n",
      "c:\\Users\\User\\GPcounts\\.venv\\lib\\site-packages\\statsmodels\\genmod\\families\\family.py:1367: ValueWarning: Negative binomial dispersion parameter alpha not set. Using default value alpha=1.0.\n",
      "  warnings.warn(\"Negative binomial dispersion parameter alpha not \"\n",
      "c:\\Users\\User\\GPcounts\\.venv\\lib\\site-packages\\statsmodels\\genmod\\generalized_linear_model.py:308: DomainWarning: The identity link function does not respect the domain of the NegativeBinomial family.\n",
      "  warnings.warn((f\"The {type(family.link).__name__} link function \"\n",
      "C:\\Users\\User\\AppData\\Local\\Temp\\ipykernel_3908\\863504745.py:19: FutureWarning: Series.__getitem__ treating keys as positions is deprecated. In a future version, integer keys will always be treated as labels (consistent with DataFrame behavior). To access a value by position, use `ser.iloc[pos]`\n",
      "  res = model.params[0]*spatial_locations['total_counts']\n",
      "c:\\Users\\User\\GPcounts\\.venv\\lib\\site-packages\\statsmodels\\genmod\\families\\links.py:13: FutureWarning: The identity link alias is deprecated. Use Identity instead. The identity link alias will be removed after the 0.15.0 release.\n",
      "  warnings.warn(\n",
      "c:\\Users\\User\\GPcounts\\.venv\\lib\\site-packages\\statsmodels\\genmod\\families\\family.py:1367: ValueWarning: Negative binomial dispersion parameter alpha not set. Using default value alpha=1.0.\n",
      "  warnings.warn(\"Negative binomial dispersion parameter alpha not \"\n",
      "c:\\Users\\User\\GPcounts\\.venv\\lib\\site-packages\\statsmodels\\genmod\\generalized_linear_model.py:308: DomainWarning: The identity link function does not respect the domain of the NegativeBinomial family.\n",
      "  warnings.warn((f\"The {type(family.link).__name__} link function \"\n",
      "C:\\Users\\User\\AppData\\Local\\Temp\\ipykernel_3908\\863504745.py:19: FutureWarning: Series.__getitem__ treating keys as positions is deprecated. In a future version, integer keys will always be treated as labels (consistent with DataFrame behavior). To access a value by position, use `ser.iloc[pos]`\n",
      "  res = model.params[0]*spatial_locations['total_counts']\n",
      "c:\\Users\\User\\GPcounts\\.venv\\lib\\site-packages\\statsmodels\\genmod\\families\\links.py:13: FutureWarning: The identity link alias is deprecated. Use Identity instead. The identity link alias will be removed after the 0.15.0 release.\n",
      "  warnings.warn(\n",
      "c:\\Users\\User\\GPcounts\\.venv\\lib\\site-packages\\statsmodels\\genmod\\families\\family.py:1367: ValueWarning: Negative binomial dispersion parameter alpha not set. Using default value alpha=1.0.\n",
      "  warnings.warn(\"Negative binomial dispersion parameter alpha not \"\n",
      "c:\\Users\\User\\GPcounts\\.venv\\lib\\site-packages\\statsmodels\\genmod\\generalized_linear_model.py:308: DomainWarning: The identity link function does not respect the domain of the NegativeBinomial family.\n",
      "  warnings.warn((f\"The {type(family.link).__name__} link function \"\n",
      "C:\\Users\\User\\AppData\\Local\\Temp\\ipykernel_3908\\863504745.py:19: FutureWarning: Series.__getitem__ treating keys as positions is deprecated. In a future version, integer keys will always be treated as labels (consistent with DataFrame behavior). To access a value by position, use `ser.iloc[pos]`\n",
      "  res = model.params[0]*spatial_locations['total_counts']\n",
      "c:\\Users\\User\\GPcounts\\.venv\\lib\\site-packages\\statsmodels\\genmod\\families\\links.py:13: FutureWarning: The identity link alias is deprecated. Use Identity instead. The identity link alias will be removed after the 0.15.0 release.\n",
      "  warnings.warn(\n",
      "c:\\Users\\User\\GPcounts\\.venv\\lib\\site-packages\\statsmodels\\genmod\\families\\family.py:1367: ValueWarning: Negative binomial dispersion parameter alpha not set. Using default value alpha=1.0.\n",
      "  warnings.warn(\"Negative binomial dispersion parameter alpha not \"\n",
      "c:\\Users\\User\\GPcounts\\.venv\\lib\\site-packages\\statsmodels\\genmod\\generalized_linear_model.py:308: DomainWarning: The identity link function does not respect the domain of the NegativeBinomial family.\n",
      "  warnings.warn((f\"The {type(family.link).__name__} link function \"\n",
      "C:\\Users\\User\\AppData\\Local\\Temp\\ipykernel_3908\\863504745.py:19: FutureWarning: Series.__getitem__ treating keys as positions is deprecated. In a future version, integer keys will always be treated as labels (consistent with DataFrame behavior). To access a value by position, use `ser.iloc[pos]`\n",
      "  res = model.params[0]*spatial_locations['total_counts']\n",
      "c:\\Users\\User\\GPcounts\\.venv\\lib\\site-packages\\statsmodels\\genmod\\families\\links.py:13: FutureWarning: The identity link alias is deprecated. Use Identity instead. The identity link alias will be removed after the 0.15.0 release.\n",
      "  warnings.warn(\n",
      "c:\\Users\\User\\GPcounts\\.venv\\lib\\site-packages\\statsmodels\\genmod\\families\\family.py:1367: ValueWarning: Negative binomial dispersion parameter alpha not set. Using default value alpha=1.0.\n",
      "  warnings.warn(\"Negative binomial dispersion parameter alpha not \"\n",
      "c:\\Users\\User\\GPcounts\\.venv\\lib\\site-packages\\statsmodels\\genmod\\generalized_linear_model.py:308: DomainWarning: The identity link function does not respect the domain of the NegativeBinomial family.\n",
      "  warnings.warn((f\"The {type(family.link).__name__} link function \"\n",
      "C:\\Users\\User\\AppData\\Local\\Temp\\ipykernel_3908\\863504745.py:19: FutureWarning: Series.__getitem__ treating keys as positions is deprecated. In a future version, integer keys will always be treated as labels (consistent with DataFrame behavior). To access a value by position, use `ser.iloc[pos]`\n",
      "  res = model.params[0]*spatial_locations['total_counts']\n",
      "c:\\Users\\User\\GPcounts\\.venv\\lib\\site-packages\\statsmodels\\genmod\\families\\links.py:13: FutureWarning: The identity link alias is deprecated. Use Identity instead. The identity link alias will be removed after the 0.15.0 release.\n",
      "  warnings.warn(\n",
      "c:\\Users\\User\\GPcounts\\.venv\\lib\\site-packages\\statsmodels\\genmod\\families\\family.py:1367: ValueWarning: Negative binomial dispersion parameter alpha not set. Using default value alpha=1.0.\n",
      "  warnings.warn(\"Negative binomial dispersion parameter alpha not \"\n",
      "c:\\Users\\User\\GPcounts\\.venv\\lib\\site-packages\\statsmodels\\genmod\\generalized_linear_model.py:308: DomainWarning: The identity link function does not respect the domain of the NegativeBinomial family.\n",
      "  warnings.warn((f\"The {type(family.link).__name__} link function \"\n",
      "C:\\Users\\User\\AppData\\Local\\Temp\\ipykernel_3908\\863504745.py:19: FutureWarning: Series.__getitem__ treating keys as positions is deprecated. In a future version, integer keys will always be treated as labels (consistent with DataFrame behavior). To access a value by position, use `ser.iloc[pos]`\n",
      "  res = model.params[0]*spatial_locations['total_counts']\n",
      "c:\\Users\\User\\GPcounts\\.venv\\lib\\site-packages\\statsmodels\\genmod\\families\\links.py:13: FutureWarning: The identity link alias is deprecated. Use Identity instead. The identity link alias will be removed after the 0.15.0 release.\n",
      "  warnings.warn(\n",
      "c:\\Users\\User\\GPcounts\\.venv\\lib\\site-packages\\statsmodels\\genmod\\families\\family.py:1367: ValueWarning: Negative binomial dispersion parameter alpha not set. Using default value alpha=1.0.\n",
      "  warnings.warn(\"Negative binomial dispersion parameter alpha not \"\n",
      "c:\\Users\\User\\GPcounts\\.venv\\lib\\site-packages\\statsmodels\\genmod\\generalized_linear_model.py:308: DomainWarning: The identity link function does not respect the domain of the NegativeBinomial family.\n",
      "  warnings.warn((f\"The {type(family.link).__name__} link function \"\n",
      "C:\\Users\\User\\AppData\\Local\\Temp\\ipykernel_3908\\863504745.py:19: FutureWarning: Series.__getitem__ treating keys as positions is deprecated. In a future version, integer keys will always be treated as labels (consistent with DataFrame behavior). To access a value by position, use `ser.iloc[pos]`\n",
      "  res = model.params[0]*spatial_locations['total_counts']\n",
      "c:\\Users\\User\\GPcounts\\.venv\\lib\\site-packages\\statsmodels\\genmod\\families\\links.py:13: FutureWarning: The identity link alias is deprecated. Use Identity instead. The identity link alias will be removed after the 0.15.0 release.\n",
      "  warnings.warn(\n",
      "c:\\Users\\User\\GPcounts\\.venv\\lib\\site-packages\\statsmodels\\genmod\\families\\family.py:1367: ValueWarning: Negative binomial dispersion parameter alpha not set. Using default value alpha=1.0.\n",
      "  warnings.warn(\"Negative binomial dispersion parameter alpha not \"\n",
      "c:\\Users\\User\\GPcounts\\.venv\\lib\\site-packages\\statsmodels\\genmod\\generalized_linear_model.py:308: DomainWarning: The identity link function does not respect the domain of the NegativeBinomial family.\n",
      "  warnings.warn((f\"The {type(family.link).__name__} link function \"\n",
      "C:\\Users\\User\\AppData\\Local\\Temp\\ipykernel_3908\\863504745.py:19: FutureWarning: Series.__getitem__ treating keys as positions is deprecated. In a future version, integer keys will always be treated as labels (consistent with DataFrame behavior). To access a value by position, use `ser.iloc[pos]`\n",
      "  res = model.params[0]*spatial_locations['total_counts']\n",
      "c:\\Users\\User\\GPcounts\\.venv\\lib\\site-packages\\statsmodels\\genmod\\families\\links.py:13: FutureWarning: The identity link alias is deprecated. Use Identity instead. The identity link alias will be removed after the 0.15.0 release.\n",
      "  warnings.warn(\n",
      "c:\\Users\\User\\GPcounts\\.venv\\lib\\site-packages\\statsmodels\\genmod\\families\\family.py:1367: ValueWarning: Negative binomial dispersion parameter alpha not set. Using default value alpha=1.0.\n",
      "  warnings.warn(\"Negative binomial dispersion parameter alpha not \"\n",
      "c:\\Users\\User\\GPcounts\\.venv\\lib\\site-packages\\statsmodels\\genmod\\generalized_linear_model.py:308: DomainWarning: The identity link function does not respect the domain of the NegativeBinomial family.\n",
      "  warnings.warn((f\"The {type(family.link).__name__} link function \"\n",
      "C:\\Users\\User\\AppData\\Local\\Temp\\ipykernel_3908\\863504745.py:19: FutureWarning: Series.__getitem__ treating keys as positions is deprecated. In a future version, integer keys will always be treated as labels (consistent with DataFrame behavior). To access a value by position, use `ser.iloc[pos]`\n",
      "  res = model.params[0]*spatial_locations['total_counts']\n",
      "c:\\Users\\User\\GPcounts\\.venv\\lib\\site-packages\\statsmodels\\genmod\\families\\links.py:13: FutureWarning: The identity link alias is deprecated. Use Identity instead. The identity link alias will be removed after the 0.15.0 release.\n",
      "  warnings.warn(\n",
      "c:\\Users\\User\\GPcounts\\.venv\\lib\\site-packages\\statsmodels\\genmod\\families\\family.py:1367: ValueWarning: Negative binomial dispersion parameter alpha not set. Using default value alpha=1.0.\n",
      "  warnings.warn(\"Negative binomial dispersion parameter alpha not \"\n",
      "c:\\Users\\User\\GPcounts\\.venv\\lib\\site-packages\\statsmodels\\genmod\\generalized_linear_model.py:308: DomainWarning: The identity link function does not respect the domain of the NegativeBinomial family.\n",
      "  warnings.warn((f\"The {type(family.link).__name__} link function \"\n",
      "C:\\Users\\User\\AppData\\Local\\Temp\\ipykernel_3908\\863504745.py:19: FutureWarning: Series.__getitem__ treating keys as positions is deprecated. In a future version, integer keys will always be treated as labels (consistent with DataFrame behavior). To access a value by position, use `ser.iloc[pos]`\n",
      "  res = model.params[0]*spatial_locations['total_counts']\n",
      "c:\\Users\\User\\GPcounts\\.venv\\lib\\site-packages\\statsmodels\\genmod\\families\\links.py:13: FutureWarning: The identity link alias is deprecated. Use Identity instead. The identity link alias will be removed after the 0.15.0 release.\n",
      "  warnings.warn(\n",
      "c:\\Users\\User\\GPcounts\\.venv\\lib\\site-packages\\statsmodels\\genmod\\families\\family.py:1367: ValueWarning: Negative binomial dispersion parameter alpha not set. Using default value alpha=1.0.\n",
      "  warnings.warn(\"Negative binomial dispersion parameter alpha not \"\n",
      "c:\\Users\\User\\GPcounts\\.venv\\lib\\site-packages\\statsmodels\\genmod\\generalized_linear_model.py:308: DomainWarning: The identity link function does not respect the domain of the NegativeBinomial family.\n",
      "  warnings.warn((f\"The {type(family.link).__name__} link function \"\n",
      "C:\\Users\\User\\AppData\\Local\\Temp\\ipykernel_3908\\863504745.py:19: FutureWarning: Series.__getitem__ treating keys as positions is deprecated. In a future version, integer keys will always be treated as labels (consistent with DataFrame behavior). To access a value by position, use `ser.iloc[pos]`\n",
      "  res = model.params[0]*spatial_locations['total_counts']\n",
      "c:\\Users\\User\\GPcounts\\.venv\\lib\\site-packages\\statsmodels\\genmod\\families\\links.py:13: FutureWarning: The identity link alias is deprecated. Use Identity instead. The identity link alias will be removed after the 0.15.0 release.\n",
      "  warnings.warn(\n",
      "c:\\Users\\User\\GPcounts\\.venv\\lib\\site-packages\\statsmodels\\genmod\\families\\family.py:1367: ValueWarning: Negative binomial dispersion parameter alpha not set. Using default value alpha=1.0.\n",
      "  warnings.warn(\"Negative binomial dispersion parameter alpha not \"\n",
      "c:\\Users\\User\\GPcounts\\.venv\\lib\\site-packages\\statsmodels\\genmod\\generalized_linear_model.py:308: DomainWarning: The identity link function does not respect the domain of the NegativeBinomial family.\n",
      "  warnings.warn((f\"The {type(family.link).__name__} link function \"\n",
      "C:\\Users\\User\\AppData\\Local\\Temp\\ipykernel_3908\\863504745.py:19: FutureWarning: Series.__getitem__ treating keys as positions is deprecated. In a future version, integer keys will always be treated as labels (consistent with DataFrame behavior). To access a value by position, use `ser.iloc[pos]`\n",
      "  res = model.params[0]*spatial_locations['total_counts']\n",
      "c:\\Users\\User\\GPcounts\\.venv\\lib\\site-packages\\statsmodels\\genmod\\families\\links.py:13: FutureWarning: The identity link alias is deprecated. Use Identity instead. The identity link alias will be removed after the 0.15.0 release.\n",
      "  warnings.warn(\n",
      "c:\\Users\\User\\GPcounts\\.venv\\lib\\site-packages\\statsmodels\\genmod\\families\\family.py:1367: ValueWarning: Negative binomial dispersion parameter alpha not set. Using default value alpha=1.0.\n",
      "  warnings.warn(\"Negative binomial dispersion parameter alpha not \"\n",
      "c:\\Users\\User\\GPcounts\\.venv\\lib\\site-packages\\statsmodels\\genmod\\generalized_linear_model.py:308: DomainWarning: The identity link function does not respect the domain of the NegativeBinomial family.\n",
      "  warnings.warn((f\"The {type(family.link).__name__} link function \"\n",
      "C:\\Users\\User\\AppData\\Local\\Temp\\ipykernel_3908\\863504745.py:19: FutureWarning: Series.__getitem__ treating keys as positions is deprecated. In a future version, integer keys will always be treated as labels (consistent with DataFrame behavior). To access a value by position, use `ser.iloc[pos]`\n",
      "  res = model.params[0]*spatial_locations['total_counts']\n",
      "c:\\Users\\User\\GPcounts\\.venv\\lib\\site-packages\\statsmodels\\genmod\\families\\links.py:13: FutureWarning: The identity link alias is deprecated. Use Identity instead. The identity link alias will be removed after the 0.15.0 release.\n",
      "  warnings.warn(\n",
      "c:\\Users\\User\\GPcounts\\.venv\\lib\\site-packages\\statsmodels\\genmod\\families\\family.py:1367: ValueWarning: Negative binomial dispersion parameter alpha not set. Using default value alpha=1.0.\n",
      "  warnings.warn(\"Negative binomial dispersion parameter alpha not \"\n",
      "c:\\Users\\User\\GPcounts\\.venv\\lib\\site-packages\\statsmodels\\genmod\\generalized_linear_model.py:308: DomainWarning: The identity link function does not respect the domain of the NegativeBinomial family.\n",
      "  warnings.warn((f\"The {type(family.link).__name__} link function \"\n",
      "C:\\Users\\User\\AppData\\Local\\Temp\\ipykernel_3908\\863504745.py:19: FutureWarning: Series.__getitem__ treating keys as positions is deprecated. In a future version, integer keys will always be treated as labels (consistent with DataFrame behavior). To access a value by position, use `ser.iloc[pos]`\n",
      "  res = model.params[0]*spatial_locations['total_counts']\n",
      "c:\\Users\\User\\GPcounts\\.venv\\lib\\site-packages\\statsmodels\\genmod\\families\\links.py:13: FutureWarning: The identity link alias is deprecated. Use Identity instead. The identity link alias will be removed after the 0.15.0 release.\n",
      "  warnings.warn(\n",
      "c:\\Users\\User\\GPcounts\\.venv\\lib\\site-packages\\statsmodels\\genmod\\families\\family.py:1367: ValueWarning: Negative binomial dispersion parameter alpha not set. Using default value alpha=1.0.\n",
      "  warnings.warn(\"Negative binomial dispersion parameter alpha not \"\n",
      "c:\\Users\\User\\GPcounts\\.venv\\lib\\site-packages\\statsmodels\\genmod\\generalized_linear_model.py:308: DomainWarning: The identity link function does not respect the domain of the NegativeBinomial family.\n",
      "  warnings.warn((f\"The {type(family.link).__name__} link function \"\n",
      "C:\\Users\\User\\AppData\\Local\\Temp\\ipykernel_3908\\863504745.py:19: FutureWarning: Series.__getitem__ treating keys as positions is deprecated. In a future version, integer keys will always be treated as labels (consistent with DataFrame behavior). To access a value by position, use `ser.iloc[pos]`\n",
      "  res = model.params[0]*spatial_locations['total_counts']\n",
      "c:\\Users\\User\\GPcounts\\.venv\\lib\\site-packages\\statsmodels\\genmod\\families\\links.py:13: FutureWarning: The identity link alias is deprecated. Use Identity instead. The identity link alias will be removed after the 0.15.0 release.\n",
      "  warnings.warn(\n",
      "c:\\Users\\User\\GPcounts\\.venv\\lib\\site-packages\\statsmodels\\genmod\\families\\family.py:1367: ValueWarning: Negative binomial dispersion parameter alpha not set. Using default value alpha=1.0.\n",
      "  warnings.warn(\"Negative binomial dispersion parameter alpha not \"\n",
      "c:\\Users\\User\\GPcounts\\.venv\\lib\\site-packages\\statsmodels\\genmod\\generalized_linear_model.py:308: DomainWarning: The identity link function does not respect the domain of the NegativeBinomial family.\n",
      "  warnings.warn((f\"The {type(family.link).__name__} link function \"\n",
      "C:\\Users\\User\\AppData\\Local\\Temp\\ipykernel_3908\\863504745.py:19: FutureWarning: Series.__getitem__ treating keys as positions is deprecated. In a future version, integer keys will always be treated as labels (consistent with DataFrame behavior). To access a value by position, use `ser.iloc[pos]`\n",
      "  res = model.params[0]*spatial_locations['total_counts']\n",
      "c:\\Users\\User\\GPcounts\\.venv\\lib\\site-packages\\statsmodels\\genmod\\families\\links.py:13: FutureWarning: The identity link alias is deprecated. Use Identity instead. The identity link alias will be removed after the 0.15.0 release.\n",
      "  warnings.warn(\n",
      "c:\\Users\\User\\GPcounts\\.venv\\lib\\site-packages\\statsmodels\\genmod\\families\\family.py:1367: ValueWarning: Negative binomial dispersion parameter alpha not set. Using default value alpha=1.0.\n",
      "  warnings.warn(\"Negative binomial dispersion parameter alpha not \"\n",
      "c:\\Users\\User\\GPcounts\\.venv\\lib\\site-packages\\statsmodels\\genmod\\generalized_linear_model.py:308: DomainWarning: The identity link function does not respect the domain of the NegativeBinomial family.\n",
      "  warnings.warn((f\"The {type(family.link).__name__} link function \"\n",
      "C:\\Users\\User\\AppData\\Local\\Temp\\ipykernel_3908\\863504745.py:19: FutureWarning: Series.__getitem__ treating keys as positions is deprecated. In a future version, integer keys will always be treated as labels (consistent with DataFrame behavior). To access a value by position, use `ser.iloc[pos]`\n",
      "  res = model.params[0]*spatial_locations['total_counts']\n",
      "c:\\Users\\User\\GPcounts\\.venv\\lib\\site-packages\\statsmodels\\genmod\\families\\links.py:13: FutureWarning: The identity link alias is deprecated. Use Identity instead. The identity link alias will be removed after the 0.15.0 release.\n",
      "  warnings.warn(\n",
      "c:\\Users\\User\\GPcounts\\.venv\\lib\\site-packages\\statsmodels\\genmod\\families\\family.py:1367: ValueWarning: Negative binomial dispersion parameter alpha not set. Using default value alpha=1.0.\n",
      "  warnings.warn(\"Negative binomial dispersion parameter alpha not \"\n",
      "c:\\Users\\User\\GPcounts\\.venv\\lib\\site-packages\\statsmodels\\genmod\\generalized_linear_model.py:308: DomainWarning: The identity link function does not respect the domain of the NegativeBinomial family.\n",
      "  warnings.warn((f\"The {type(family.link).__name__} link function \"\n",
      "C:\\Users\\User\\AppData\\Local\\Temp\\ipykernel_3908\\863504745.py:19: FutureWarning: Series.__getitem__ treating keys as positions is deprecated. In a future version, integer keys will always be treated as labels (consistent with DataFrame behavior). To access a value by position, use `ser.iloc[pos]`\n",
      "  res = model.params[0]*spatial_locations['total_counts']\n",
      "c:\\Users\\User\\GPcounts\\.venv\\lib\\site-packages\\statsmodels\\genmod\\families\\links.py:13: FutureWarning: The identity link alias is deprecated. Use Identity instead. The identity link alias will be removed after the 0.15.0 release.\n",
      "  warnings.warn(\n",
      "c:\\Users\\User\\GPcounts\\.venv\\lib\\site-packages\\statsmodels\\genmod\\families\\family.py:1367: ValueWarning: Negative binomial dispersion parameter alpha not set. Using default value alpha=1.0.\n",
      "  warnings.warn(\"Negative binomial dispersion parameter alpha not \"\n",
      "c:\\Users\\User\\GPcounts\\.venv\\lib\\site-packages\\statsmodels\\genmod\\generalized_linear_model.py:308: DomainWarning: The identity link function does not respect the domain of the NegativeBinomial family.\n",
      "  warnings.warn((f\"The {type(family.link).__name__} link function \"\n",
      "C:\\Users\\User\\AppData\\Local\\Temp\\ipykernel_3908\\863504745.py:19: FutureWarning: Series.__getitem__ treating keys as positions is deprecated. In a future version, integer keys will always be treated as labels (consistent with DataFrame behavior). To access a value by position, use `ser.iloc[pos]`\n",
      "  res = model.params[0]*spatial_locations['total_counts']\n",
      "c:\\Users\\User\\GPcounts\\.venv\\lib\\site-packages\\statsmodels\\genmod\\families\\links.py:13: FutureWarning: The identity link alias is deprecated. Use Identity instead. The identity link alias will be removed after the 0.15.0 release.\n",
      "  warnings.warn(\n",
      "c:\\Users\\User\\GPcounts\\.venv\\lib\\site-packages\\statsmodels\\genmod\\families\\family.py:1367: ValueWarning: Negative binomial dispersion parameter alpha not set. Using default value alpha=1.0.\n",
      "  warnings.warn(\"Negative binomial dispersion parameter alpha not \"\n",
      "c:\\Users\\User\\GPcounts\\.venv\\lib\\site-packages\\statsmodels\\genmod\\generalized_linear_model.py:308: DomainWarning: The identity link function does not respect the domain of the NegativeBinomial family.\n",
      "  warnings.warn((f\"The {type(family.link).__name__} link function \"\n",
      "C:\\Users\\User\\AppData\\Local\\Temp\\ipykernel_3908\\863504745.py:19: FutureWarning: Series.__getitem__ treating keys as positions is deprecated. In a future version, integer keys will always be treated as labels (consistent with DataFrame behavior). To access a value by position, use `ser.iloc[pos]`\n",
      "  res = model.params[0]*spatial_locations['total_counts']\n",
      "c:\\Users\\User\\GPcounts\\.venv\\lib\\site-packages\\statsmodels\\genmod\\families\\links.py:13: FutureWarning: The identity link alias is deprecated. Use Identity instead. The identity link alias will be removed after the 0.15.0 release.\n",
      "  warnings.warn(\n",
      "c:\\Users\\User\\GPcounts\\.venv\\lib\\site-packages\\statsmodels\\genmod\\families\\family.py:1367: ValueWarning: Negative binomial dispersion parameter alpha not set. Using default value alpha=1.0.\n",
      "  warnings.warn(\"Negative binomial dispersion parameter alpha not \"\n",
      "c:\\Users\\User\\GPcounts\\.venv\\lib\\site-packages\\statsmodels\\genmod\\generalized_linear_model.py:308: DomainWarning: The identity link function does not respect the domain of the NegativeBinomial family.\n",
      "  warnings.warn((f\"The {type(family.link).__name__} link function \"\n",
      "C:\\Users\\User\\AppData\\Local\\Temp\\ipykernel_3908\\863504745.py:19: FutureWarning: Series.__getitem__ treating keys as positions is deprecated. In a future version, integer keys will always be treated as labels (consistent with DataFrame behavior). To access a value by position, use `ser.iloc[pos]`\n",
      "  res = model.params[0]*spatial_locations['total_counts']\n",
      "c:\\Users\\User\\GPcounts\\.venv\\lib\\site-packages\\statsmodels\\genmod\\families\\links.py:13: FutureWarning: The identity link alias is deprecated. Use Identity instead. The identity link alias will be removed after the 0.15.0 release.\n",
      "  warnings.warn(\n",
      "c:\\Users\\User\\GPcounts\\.venv\\lib\\site-packages\\statsmodels\\genmod\\families\\family.py:1367: ValueWarning: Negative binomial dispersion parameter alpha not set. Using default value alpha=1.0.\n",
      "  warnings.warn(\"Negative binomial dispersion parameter alpha not \"\n",
      "c:\\Users\\User\\GPcounts\\.venv\\lib\\site-packages\\statsmodels\\genmod\\generalized_linear_model.py:308: DomainWarning: The identity link function does not respect the domain of the NegativeBinomial family.\n",
      "  warnings.warn((f\"The {type(family.link).__name__} link function \"\n",
      "C:\\Users\\User\\AppData\\Local\\Temp\\ipykernel_3908\\863504745.py:19: FutureWarning: Series.__getitem__ treating keys as positions is deprecated. In a future version, integer keys will always be treated as labels (consistent with DataFrame behavior). To access a value by position, use `ser.iloc[pos]`\n",
      "  res = model.params[0]*spatial_locations['total_counts']\n",
      "c:\\Users\\User\\GPcounts\\.venv\\lib\\site-packages\\statsmodels\\genmod\\families\\links.py:13: FutureWarning: The identity link alias is deprecated. Use Identity instead. The identity link alias will be removed after the 0.15.0 release.\n",
      "  warnings.warn(\n",
      "c:\\Users\\User\\GPcounts\\.venv\\lib\\site-packages\\statsmodels\\genmod\\families\\family.py:1367: ValueWarning: Negative binomial dispersion parameter alpha not set. Using default value alpha=1.0.\n",
      "  warnings.warn(\"Negative binomial dispersion parameter alpha not \"\n",
      "c:\\Users\\User\\GPcounts\\.venv\\lib\\site-packages\\statsmodels\\genmod\\generalized_linear_model.py:308: DomainWarning: The identity link function does not respect the domain of the NegativeBinomial family.\n",
      "  warnings.warn((f\"The {type(family.link).__name__} link function \"\n",
      "C:\\Users\\User\\AppData\\Local\\Temp\\ipykernel_3908\\863504745.py:19: FutureWarning: Series.__getitem__ treating keys as positions is deprecated. In a future version, integer keys will always be treated as labels (consistent with DataFrame behavior). To access a value by position, use `ser.iloc[pos]`\n",
      "  res = model.params[0]*spatial_locations['total_counts']\n",
      "c:\\Users\\User\\GPcounts\\.venv\\lib\\site-packages\\statsmodels\\genmod\\families\\links.py:13: FutureWarning: The identity link alias is deprecated. Use Identity instead. The identity link alias will be removed after the 0.15.0 release.\n",
      "  warnings.warn(\n",
      "c:\\Users\\User\\GPcounts\\.venv\\lib\\site-packages\\statsmodels\\genmod\\families\\family.py:1367: ValueWarning: Negative binomial dispersion parameter alpha not set. Using default value alpha=1.0.\n",
      "  warnings.warn(\"Negative binomial dispersion parameter alpha not \"\n",
      "c:\\Users\\User\\GPcounts\\.venv\\lib\\site-packages\\statsmodels\\genmod\\generalized_linear_model.py:308: DomainWarning: The identity link function does not respect the domain of the NegativeBinomial family.\n",
      "  warnings.warn((f\"The {type(family.link).__name__} link function \"\n",
      "C:\\Users\\User\\AppData\\Local\\Temp\\ipykernel_3908\\863504745.py:19: FutureWarning: Series.__getitem__ treating keys as positions is deprecated. In a future version, integer keys will always be treated as labels (consistent with DataFrame behavior). To access a value by position, use `ser.iloc[pos]`\n",
      "  res = model.params[0]*spatial_locations['total_counts']\n",
      "c:\\Users\\User\\GPcounts\\.venv\\lib\\site-packages\\statsmodels\\genmod\\families\\links.py:13: FutureWarning: The identity link alias is deprecated. Use Identity instead. The identity link alias will be removed after the 0.15.0 release.\n",
      "  warnings.warn(\n",
      "c:\\Users\\User\\GPcounts\\.venv\\lib\\site-packages\\statsmodels\\genmod\\families\\family.py:1367: ValueWarning: Negative binomial dispersion parameter alpha not set. Using default value alpha=1.0.\n",
      "  warnings.warn(\"Negative binomial dispersion parameter alpha not \"\n",
      "c:\\Users\\User\\GPcounts\\.venv\\lib\\site-packages\\statsmodels\\genmod\\generalized_linear_model.py:308: DomainWarning: The identity link function does not respect the domain of the NegativeBinomial family.\n",
      "  warnings.warn((f\"The {type(family.link).__name__} link function \"\n",
      "C:\\Users\\User\\AppData\\Local\\Temp\\ipykernel_3908\\863504745.py:19: FutureWarning: Series.__getitem__ treating keys as positions is deprecated. In a future version, integer keys will always be treated as labels (consistent with DataFrame behavior). To access a value by position, use `ser.iloc[pos]`\n",
      "  res = model.params[0]*spatial_locations['total_counts']\n",
      "c:\\Users\\User\\GPcounts\\.venv\\lib\\site-packages\\statsmodels\\genmod\\families\\links.py:13: FutureWarning: The identity link alias is deprecated. Use Identity instead. The identity link alias will be removed after the 0.15.0 release.\n",
      "  warnings.warn(\n",
      "c:\\Users\\User\\GPcounts\\.venv\\lib\\site-packages\\statsmodels\\genmod\\families\\family.py:1367: ValueWarning: Negative binomial dispersion parameter alpha not set. Using default value alpha=1.0.\n",
      "  warnings.warn(\"Negative binomial dispersion parameter alpha not \"\n",
      "c:\\Users\\User\\GPcounts\\.venv\\lib\\site-packages\\statsmodels\\genmod\\generalized_linear_model.py:308: DomainWarning: The identity link function does not respect the domain of the NegativeBinomial family.\n",
      "  warnings.warn((f\"The {type(family.link).__name__} link function \"\n",
      "C:\\Users\\User\\AppData\\Local\\Temp\\ipykernel_3908\\863504745.py:19: FutureWarning: Series.__getitem__ treating keys as positions is deprecated. In a future version, integer keys will always be treated as labels (consistent with DataFrame behavior). To access a value by position, use `ser.iloc[pos]`\n",
      "  res = model.params[0]*spatial_locations['total_counts']\n",
      "c:\\Users\\User\\GPcounts\\.venv\\lib\\site-packages\\statsmodels\\genmod\\families\\links.py:13: FutureWarning: The identity link alias is deprecated. Use Identity instead. The identity link alias will be removed after the 0.15.0 release.\n",
      "  warnings.warn(\n",
      "c:\\Users\\User\\GPcounts\\.venv\\lib\\site-packages\\statsmodels\\genmod\\families\\family.py:1367: ValueWarning: Negative binomial dispersion parameter alpha not set. Using default value alpha=1.0.\n",
      "  warnings.warn(\"Negative binomial dispersion parameter alpha not \"\n",
      "c:\\Users\\User\\GPcounts\\.venv\\lib\\site-packages\\statsmodels\\genmod\\generalized_linear_model.py:308: DomainWarning: The identity link function does not respect the domain of the NegativeBinomial family.\n",
      "  warnings.warn((f\"The {type(family.link).__name__} link function \"\n",
      "C:\\Users\\User\\AppData\\Local\\Temp\\ipykernel_3908\\863504745.py:19: FutureWarning: Series.__getitem__ treating keys as positions is deprecated. In a future version, integer keys will always be treated as labels (consistent with DataFrame behavior). To access a value by position, use `ser.iloc[pos]`\n",
      "  res = model.params[0]*spatial_locations['total_counts']\n",
      "c:\\Users\\User\\GPcounts\\.venv\\lib\\site-packages\\statsmodels\\genmod\\families\\links.py:13: FutureWarning: The identity link alias is deprecated. Use Identity instead. The identity link alias will be removed after the 0.15.0 release.\n",
      "  warnings.warn(\n",
      "c:\\Users\\User\\GPcounts\\.venv\\lib\\site-packages\\statsmodels\\genmod\\families\\family.py:1367: ValueWarning: Negative binomial dispersion parameter alpha not set. Using default value alpha=1.0.\n",
      "  warnings.warn(\"Negative binomial dispersion parameter alpha not \"\n",
      "c:\\Users\\User\\GPcounts\\.venv\\lib\\site-packages\\statsmodels\\genmod\\generalized_linear_model.py:308: DomainWarning: The identity link function does not respect the domain of the NegativeBinomial family.\n",
      "  warnings.warn((f\"The {type(family.link).__name__} link function \"\n",
      "C:\\Users\\User\\AppData\\Local\\Temp\\ipykernel_3908\\863504745.py:19: FutureWarning: Series.__getitem__ treating keys as positions is deprecated. In a future version, integer keys will always be treated as labels (consistent with DataFrame behavior). To access a value by position, use `ser.iloc[pos]`\n",
      "  res = model.params[0]*spatial_locations['total_counts']\n",
      "c:\\Users\\User\\GPcounts\\.venv\\lib\\site-packages\\statsmodels\\genmod\\families\\links.py:13: FutureWarning: The identity link alias is deprecated. Use Identity instead. The identity link alias will be removed after the 0.15.0 release.\n",
      "  warnings.warn(\n",
      "c:\\Users\\User\\GPcounts\\.venv\\lib\\site-packages\\statsmodels\\genmod\\families\\family.py:1367: ValueWarning: Negative binomial dispersion parameter alpha not set. Using default value alpha=1.0.\n",
      "  warnings.warn(\"Negative binomial dispersion parameter alpha not \"\n",
      "c:\\Users\\User\\GPcounts\\.venv\\lib\\site-packages\\statsmodels\\genmod\\generalized_linear_model.py:308: DomainWarning: The identity link function does not respect the domain of the NegativeBinomial family.\n",
      "  warnings.warn((f\"The {type(family.link).__name__} link function \"\n",
      "C:\\Users\\User\\AppData\\Local\\Temp\\ipykernel_3908\\863504745.py:19: FutureWarning: Series.__getitem__ treating keys as positions is deprecated. In a future version, integer keys will always be treated as labels (consistent with DataFrame behavior). To access a value by position, use `ser.iloc[pos]`\n",
      "  res = model.params[0]*spatial_locations['total_counts']\n",
      "c:\\Users\\User\\GPcounts\\.venv\\lib\\site-packages\\statsmodels\\genmod\\families\\links.py:13: FutureWarning: The identity link alias is deprecated. Use Identity instead. The identity link alias will be removed after the 0.15.0 release.\n",
      "  warnings.warn(\n",
      "c:\\Users\\User\\GPcounts\\.venv\\lib\\site-packages\\statsmodels\\genmod\\families\\family.py:1367: ValueWarning: Negative binomial dispersion parameter alpha not set. Using default value alpha=1.0.\n",
      "  warnings.warn(\"Negative binomial dispersion parameter alpha not \"\n",
      "c:\\Users\\User\\GPcounts\\.venv\\lib\\site-packages\\statsmodels\\genmod\\generalized_linear_model.py:308: DomainWarning: The identity link function does not respect the domain of the NegativeBinomial family.\n",
      "  warnings.warn((f\"The {type(family.link).__name__} link function \"\n",
      "C:\\Users\\User\\AppData\\Local\\Temp\\ipykernel_3908\\863504745.py:19: FutureWarning: Series.__getitem__ treating keys as positions is deprecated. In a future version, integer keys will always be treated as labels (consistent with DataFrame behavior). To access a value by position, use `ser.iloc[pos]`\n",
      "  res = model.params[0]*spatial_locations['total_counts']\n",
      "c:\\Users\\User\\GPcounts\\.venv\\lib\\site-packages\\statsmodels\\genmod\\families\\links.py:13: FutureWarning: The identity link alias is deprecated. Use Identity instead. The identity link alias will be removed after the 0.15.0 release.\n",
      "  warnings.warn(\n",
      "c:\\Users\\User\\GPcounts\\.venv\\lib\\site-packages\\statsmodels\\genmod\\families\\family.py:1367: ValueWarning: Negative binomial dispersion parameter alpha not set. Using default value alpha=1.0.\n",
      "  warnings.warn(\"Negative binomial dispersion parameter alpha not \"\n",
      "c:\\Users\\User\\GPcounts\\.venv\\lib\\site-packages\\statsmodels\\genmod\\generalized_linear_model.py:308: DomainWarning: The identity link function does not respect the domain of the NegativeBinomial family.\n",
      "  warnings.warn((f\"The {type(family.link).__name__} link function \"\n",
      "C:\\Users\\User\\AppData\\Local\\Temp\\ipykernel_3908\\863504745.py:19: FutureWarning: Series.__getitem__ treating keys as positions is deprecated. In a future version, integer keys will always be treated as labels (consistent with DataFrame behavior). To access a value by position, use `ser.iloc[pos]`\n",
      "  res = model.params[0]*spatial_locations['total_counts']\n",
      "c:\\Users\\User\\GPcounts\\.venv\\lib\\site-packages\\statsmodels\\genmod\\families\\links.py:13: FutureWarning: The identity link alias is deprecated. Use Identity instead. The identity link alias will be removed after the 0.15.0 release.\n",
      "  warnings.warn(\n",
      "c:\\Users\\User\\GPcounts\\.venv\\lib\\site-packages\\statsmodels\\genmod\\families\\family.py:1367: ValueWarning: Negative binomial dispersion parameter alpha not set. Using default value alpha=1.0.\n",
      "  warnings.warn(\"Negative binomial dispersion parameter alpha not \"\n",
      "c:\\Users\\User\\GPcounts\\.venv\\lib\\site-packages\\statsmodels\\genmod\\generalized_linear_model.py:308: DomainWarning: The identity link function does not respect the domain of the NegativeBinomial family.\n",
      "  warnings.warn((f\"The {type(family.link).__name__} link function \"\n",
      "C:\\Users\\User\\AppData\\Local\\Temp\\ipykernel_3908\\863504745.py:19: FutureWarning: Series.__getitem__ treating keys as positions is deprecated. In a future version, integer keys will always be treated as labels (consistent with DataFrame behavior). To access a value by position, use `ser.iloc[pos]`\n",
      "  res = model.params[0]*spatial_locations['total_counts']\n",
      "c:\\Users\\User\\GPcounts\\.venv\\lib\\site-packages\\statsmodels\\genmod\\families\\links.py:13: FutureWarning: The identity link alias is deprecated. Use Identity instead. The identity link alias will be removed after the 0.15.0 release.\n",
      "  warnings.warn(\n",
      "c:\\Users\\User\\GPcounts\\.venv\\lib\\site-packages\\statsmodels\\genmod\\families\\family.py:1367: ValueWarning: Negative binomial dispersion parameter alpha not set. Using default value alpha=1.0.\n",
      "  warnings.warn(\"Negative binomial dispersion parameter alpha not \"\n",
      "c:\\Users\\User\\GPcounts\\.venv\\lib\\site-packages\\statsmodels\\genmod\\generalized_linear_model.py:308: DomainWarning: The identity link function does not respect the domain of the NegativeBinomial family.\n",
      "  warnings.warn((f\"The {type(family.link).__name__} link function \"\n",
      "C:\\Users\\User\\AppData\\Local\\Temp\\ipykernel_3908\\863504745.py:19: FutureWarning: Series.__getitem__ treating keys as positions is deprecated. In a future version, integer keys will always be treated as labels (consistent with DataFrame behavior). To access a value by position, use `ser.iloc[pos]`\n",
      "  res = model.params[0]*spatial_locations['total_counts']\n",
      "c:\\Users\\User\\GPcounts\\.venv\\lib\\site-packages\\statsmodels\\genmod\\families\\links.py:13: FutureWarning: The identity link alias is deprecated. Use Identity instead. The identity link alias will be removed after the 0.15.0 release.\n",
      "  warnings.warn(\n",
      "c:\\Users\\User\\GPcounts\\.venv\\lib\\site-packages\\statsmodels\\genmod\\families\\family.py:1367: ValueWarning: Negative binomial dispersion parameter alpha not set. Using default value alpha=1.0.\n",
      "  warnings.warn(\"Negative binomial dispersion parameter alpha not \"\n",
      "c:\\Users\\User\\GPcounts\\.venv\\lib\\site-packages\\statsmodels\\genmod\\generalized_linear_model.py:308: DomainWarning: The identity link function does not respect the domain of the NegativeBinomial family.\n",
      "  warnings.warn((f\"The {type(family.link).__name__} link function \"\n",
      "C:\\Users\\User\\AppData\\Local\\Temp\\ipykernel_3908\\863504745.py:19: FutureWarning: Series.__getitem__ treating keys as positions is deprecated. In a future version, integer keys will always be treated as labels (consistent with DataFrame behavior). To access a value by position, use `ser.iloc[pos]`\n",
      "  res = model.params[0]*spatial_locations['total_counts']\n",
      "c:\\Users\\User\\GPcounts\\.venv\\lib\\site-packages\\statsmodels\\genmod\\families\\links.py:13: FutureWarning: The identity link alias is deprecated. Use Identity instead. The identity link alias will be removed after the 0.15.0 release.\n",
      "  warnings.warn(\n",
      "c:\\Users\\User\\GPcounts\\.venv\\lib\\site-packages\\statsmodels\\genmod\\families\\family.py:1367: ValueWarning: Negative binomial dispersion parameter alpha not set. Using default value alpha=1.0.\n",
      "  warnings.warn(\"Negative binomial dispersion parameter alpha not \"\n",
      "c:\\Users\\User\\GPcounts\\.venv\\lib\\site-packages\\statsmodels\\genmod\\generalized_linear_model.py:308: DomainWarning: The identity link function does not respect the domain of the NegativeBinomial family.\n",
      "  warnings.warn((f\"The {type(family.link).__name__} link function \"\n",
      "C:\\Users\\User\\AppData\\Local\\Temp\\ipykernel_3908\\863504745.py:19: FutureWarning: Series.__getitem__ treating keys as positions is deprecated. In a future version, integer keys will always be treated as labels (consistent with DataFrame behavior). To access a value by position, use `ser.iloc[pos]`\n",
      "  res = model.params[0]*spatial_locations['total_counts']\n",
      "c:\\Users\\User\\GPcounts\\.venv\\lib\\site-packages\\statsmodels\\genmod\\families\\links.py:13: FutureWarning: The identity link alias is deprecated. Use Identity instead. The identity link alias will be removed after the 0.15.0 release.\n",
      "  warnings.warn(\n",
      "c:\\Users\\User\\GPcounts\\.venv\\lib\\site-packages\\statsmodels\\genmod\\families\\family.py:1367: ValueWarning: Negative binomial dispersion parameter alpha not set. Using default value alpha=1.0.\n",
      "  warnings.warn(\"Negative binomial dispersion parameter alpha not \"\n",
      "c:\\Users\\User\\GPcounts\\.venv\\lib\\site-packages\\statsmodels\\genmod\\generalized_linear_model.py:308: DomainWarning: The identity link function does not respect the domain of the NegativeBinomial family.\n",
      "  warnings.warn((f\"The {type(family.link).__name__} link function \"\n",
      "C:\\Users\\User\\AppData\\Local\\Temp\\ipykernel_3908\\863504745.py:19: FutureWarning: Series.__getitem__ treating keys as positions is deprecated. In a future version, integer keys will always be treated as labels (consistent with DataFrame behavior). To access a value by position, use `ser.iloc[pos]`\n",
      "  res = model.params[0]*spatial_locations['total_counts']\n",
      "c:\\Users\\User\\GPcounts\\.venv\\lib\\site-packages\\statsmodels\\genmod\\families\\links.py:13: FutureWarning: The identity link alias is deprecated. Use Identity instead. The identity link alias will be removed after the 0.15.0 release.\n",
      "  warnings.warn(\n",
      "c:\\Users\\User\\GPcounts\\.venv\\lib\\site-packages\\statsmodels\\genmod\\families\\family.py:1367: ValueWarning: Negative binomial dispersion parameter alpha not set. Using default value alpha=1.0.\n",
      "  warnings.warn(\"Negative binomial dispersion parameter alpha not \"\n",
      "c:\\Users\\User\\GPcounts\\.venv\\lib\\site-packages\\statsmodels\\genmod\\generalized_linear_model.py:308: DomainWarning: The identity link function does not respect the domain of the NegativeBinomial family.\n",
      "  warnings.warn((f\"The {type(family.link).__name__} link function \"\n",
      "C:\\Users\\User\\AppData\\Local\\Temp\\ipykernel_3908\\863504745.py:19: FutureWarning: Series.__getitem__ treating keys as positions is deprecated. In a future version, integer keys will always be treated as labels (consistent with DataFrame behavior). To access a value by position, use `ser.iloc[pos]`\n",
      "  res = model.params[0]*spatial_locations['total_counts']\n",
      "c:\\Users\\User\\GPcounts\\.venv\\lib\\site-packages\\statsmodels\\genmod\\families\\links.py:13: FutureWarning: The identity link alias is deprecated. Use Identity instead. The identity link alias will be removed after the 0.15.0 release.\n",
      "  warnings.warn(\n",
      "c:\\Users\\User\\GPcounts\\.venv\\lib\\site-packages\\statsmodels\\genmod\\families\\family.py:1367: ValueWarning: Negative binomial dispersion parameter alpha not set. Using default value alpha=1.0.\n",
      "  warnings.warn(\"Negative binomial dispersion parameter alpha not \"\n",
      "c:\\Users\\User\\GPcounts\\.venv\\lib\\site-packages\\statsmodels\\genmod\\generalized_linear_model.py:308: DomainWarning: The identity link function does not respect the domain of the NegativeBinomial family.\n",
      "  warnings.warn((f\"The {type(family.link).__name__} link function \"\n",
      "C:\\Users\\User\\AppData\\Local\\Temp\\ipykernel_3908\\863504745.py:19: FutureWarning: Series.__getitem__ treating keys as positions is deprecated. In a future version, integer keys will always be treated as labels (consistent with DataFrame behavior). To access a value by position, use `ser.iloc[pos]`\n",
      "  res = model.params[0]*spatial_locations['total_counts']\n",
      "c:\\Users\\User\\GPcounts\\.venv\\lib\\site-packages\\statsmodels\\genmod\\families\\links.py:13: FutureWarning: The identity link alias is deprecated. Use Identity instead. The identity link alias will be removed after the 0.15.0 release.\n",
      "  warnings.warn(\n",
      "c:\\Users\\User\\GPcounts\\.venv\\lib\\site-packages\\statsmodels\\genmod\\families\\family.py:1367: ValueWarning: Negative binomial dispersion parameter alpha not set. Using default value alpha=1.0.\n",
      "  warnings.warn(\"Negative binomial dispersion parameter alpha not \"\n",
      "c:\\Users\\User\\GPcounts\\.venv\\lib\\site-packages\\statsmodels\\genmod\\generalized_linear_model.py:308: DomainWarning: The identity link function does not respect the domain of the NegativeBinomial family.\n",
      "  warnings.warn((f\"The {type(family.link).__name__} link function \"\n",
      "C:\\Users\\User\\AppData\\Local\\Temp\\ipykernel_3908\\863504745.py:19: FutureWarning: Series.__getitem__ treating keys as positions is deprecated. In a future version, integer keys will always be treated as labels (consistent with DataFrame behavior). To access a value by position, use `ser.iloc[pos]`\n",
      "  res = model.params[0]*spatial_locations['total_counts']\n",
      "c:\\Users\\User\\GPcounts\\.venv\\lib\\site-packages\\statsmodels\\genmod\\families\\links.py:13: FutureWarning: The identity link alias is deprecated. Use Identity instead. The identity link alias will be removed after the 0.15.0 release.\n",
      "  warnings.warn(\n",
      "c:\\Users\\User\\GPcounts\\.venv\\lib\\site-packages\\statsmodels\\genmod\\families\\family.py:1367: ValueWarning: Negative binomial dispersion parameter alpha not set. Using default value alpha=1.0.\n",
      "  warnings.warn(\"Negative binomial dispersion parameter alpha not \"\n",
      "c:\\Users\\User\\GPcounts\\.venv\\lib\\site-packages\\statsmodels\\genmod\\generalized_linear_model.py:308: DomainWarning: The identity link function does not respect the domain of the NegativeBinomial family.\n",
      "  warnings.warn((f\"The {type(family.link).__name__} link function \"\n",
      "C:\\Users\\User\\AppData\\Local\\Temp\\ipykernel_3908\\863504745.py:19: FutureWarning: Series.__getitem__ treating keys as positions is deprecated. In a future version, integer keys will always be treated as labels (consistent with DataFrame behavior). To access a value by position, use `ser.iloc[pos]`\n",
      "  res = model.params[0]*spatial_locations['total_counts']\n",
      "c:\\Users\\User\\GPcounts\\.venv\\lib\\site-packages\\statsmodels\\genmod\\families\\links.py:13: FutureWarning: The identity link alias is deprecated. Use Identity instead. The identity link alias will be removed after the 0.15.0 release.\n",
      "  warnings.warn(\n",
      "c:\\Users\\User\\GPcounts\\.venv\\lib\\site-packages\\statsmodels\\genmod\\families\\family.py:1367: ValueWarning: Negative binomial dispersion parameter alpha not set. Using default value alpha=1.0.\n",
      "  warnings.warn(\"Negative binomial dispersion parameter alpha not \"\n",
      "c:\\Users\\User\\GPcounts\\.venv\\lib\\site-packages\\statsmodels\\genmod\\generalized_linear_model.py:308: DomainWarning: The identity link function does not respect the domain of the NegativeBinomial family.\n",
      "  warnings.warn((f\"The {type(family.link).__name__} link function \"\n",
      "C:\\Users\\User\\AppData\\Local\\Temp\\ipykernel_3908\\863504745.py:19: FutureWarning: Series.__getitem__ treating keys as positions is deprecated. In a future version, integer keys will always be treated as labels (consistent with DataFrame behavior). To access a value by position, use `ser.iloc[pos]`\n",
      "  res = model.params[0]*spatial_locations['total_counts']\n",
      "c:\\Users\\User\\GPcounts\\.venv\\lib\\site-packages\\statsmodels\\genmod\\families\\links.py:13: FutureWarning: The identity link alias is deprecated. Use Identity instead. The identity link alias will be removed after the 0.15.0 release.\n",
      "  warnings.warn(\n",
      "c:\\Users\\User\\GPcounts\\.venv\\lib\\site-packages\\statsmodels\\genmod\\families\\family.py:1367: ValueWarning: Negative binomial dispersion parameter alpha not set. Using default value alpha=1.0.\n",
      "  warnings.warn(\"Negative binomial dispersion parameter alpha not \"\n",
      "c:\\Users\\User\\GPcounts\\.venv\\lib\\site-packages\\statsmodels\\genmod\\generalized_linear_model.py:308: DomainWarning: The identity link function does not respect the domain of the NegativeBinomial family.\n",
      "  warnings.warn((f\"The {type(family.link).__name__} link function \"\n",
      "C:\\Users\\User\\AppData\\Local\\Temp\\ipykernel_3908\\863504745.py:19: FutureWarning: Series.__getitem__ treating keys as positions is deprecated. In a future version, integer keys will always be treated as labels (consistent with DataFrame behavior). To access a value by position, use `ser.iloc[pos]`\n",
      "  res = model.params[0]*spatial_locations['total_counts']\n",
      "c:\\Users\\User\\GPcounts\\.venv\\lib\\site-packages\\statsmodels\\genmod\\families\\links.py:13: FutureWarning: The identity link alias is deprecated. Use Identity instead. The identity link alias will be removed after the 0.15.0 release.\n",
      "  warnings.warn(\n",
      "c:\\Users\\User\\GPcounts\\.venv\\lib\\site-packages\\statsmodels\\genmod\\families\\family.py:1367: ValueWarning: Negative binomial dispersion parameter alpha not set. Using default value alpha=1.0.\n",
      "  warnings.warn(\"Negative binomial dispersion parameter alpha not \"\n",
      "c:\\Users\\User\\GPcounts\\.venv\\lib\\site-packages\\statsmodels\\genmod\\generalized_linear_model.py:308: DomainWarning: The identity link function does not respect the domain of the NegativeBinomial family.\n",
      "  warnings.warn((f\"The {type(family.link).__name__} link function \"\n",
      "C:\\Users\\User\\AppData\\Local\\Temp\\ipykernel_3908\\863504745.py:19: FutureWarning: Series.__getitem__ treating keys as positions is deprecated. In a future version, integer keys will always be treated as labels (consistent with DataFrame behavior). To access a value by position, use `ser.iloc[pos]`\n",
      "  res = model.params[0]*spatial_locations['total_counts']\n",
      "c:\\Users\\User\\GPcounts\\.venv\\lib\\site-packages\\statsmodels\\genmod\\families\\links.py:13: FutureWarning: The identity link alias is deprecated. Use Identity instead. The identity link alias will be removed after the 0.15.0 release.\n",
      "  warnings.warn(\n",
      "c:\\Users\\User\\GPcounts\\.venv\\lib\\site-packages\\statsmodels\\genmod\\families\\family.py:1367: ValueWarning: Negative binomial dispersion parameter alpha not set. Using default value alpha=1.0.\n",
      "  warnings.warn(\"Negative binomial dispersion parameter alpha not \"\n",
      "c:\\Users\\User\\GPcounts\\.venv\\lib\\site-packages\\statsmodels\\genmod\\generalized_linear_model.py:308: DomainWarning: The identity link function does not respect the domain of the NegativeBinomial family.\n",
      "  warnings.warn((f\"The {type(family.link).__name__} link function \"\n",
      "C:\\Users\\User\\AppData\\Local\\Temp\\ipykernel_3908\\863504745.py:19: FutureWarning: Series.__getitem__ treating keys as positions is deprecated. In a future version, integer keys will always be treated as labels (consistent with DataFrame behavior). To access a value by position, use `ser.iloc[pos]`\n",
      "  res = model.params[0]*spatial_locations['total_counts']\n",
      "c:\\Users\\User\\GPcounts\\.venv\\lib\\site-packages\\statsmodels\\genmod\\families\\links.py:13: FutureWarning: The identity link alias is deprecated. Use Identity instead. The identity link alias will be removed after the 0.15.0 release.\n",
      "  warnings.warn(\n",
      "c:\\Users\\User\\GPcounts\\.venv\\lib\\site-packages\\statsmodels\\genmod\\families\\family.py:1367: ValueWarning: Negative binomial dispersion parameter alpha not set. Using default value alpha=1.0.\n",
      "  warnings.warn(\"Negative binomial dispersion parameter alpha not \"\n",
      "c:\\Users\\User\\GPcounts\\.venv\\lib\\site-packages\\statsmodels\\genmod\\generalized_linear_model.py:308: DomainWarning: The identity link function does not respect the domain of the NegativeBinomial family.\n",
      "  warnings.warn((f\"The {type(family.link).__name__} link function \"\n",
      "C:\\Users\\User\\AppData\\Local\\Temp\\ipykernel_3908\\863504745.py:19: FutureWarning: Series.__getitem__ treating keys as positions is deprecated. In a future version, integer keys will always be treated as labels (consistent with DataFrame behavior). To access a value by position, use `ser.iloc[pos]`\n",
      "  res = model.params[0]*spatial_locations['total_counts']\n",
      "c:\\Users\\User\\GPcounts\\.venv\\lib\\site-packages\\statsmodels\\genmod\\families\\links.py:13: FutureWarning: The identity link alias is deprecated. Use Identity instead. The identity link alias will be removed after the 0.15.0 release.\n",
      "  warnings.warn(\n",
      "c:\\Users\\User\\GPcounts\\.venv\\lib\\site-packages\\statsmodels\\genmod\\families\\family.py:1367: ValueWarning: Negative binomial dispersion parameter alpha not set. Using default value alpha=1.0.\n",
      "  warnings.warn(\"Negative binomial dispersion parameter alpha not \"\n",
      "c:\\Users\\User\\GPcounts\\.venv\\lib\\site-packages\\statsmodels\\genmod\\generalized_linear_model.py:308: DomainWarning: The identity link function does not respect the domain of the NegativeBinomial family.\n",
      "  warnings.warn((f\"The {type(family.link).__name__} link function \"\n",
      "C:\\Users\\User\\AppData\\Local\\Temp\\ipykernel_3908\\863504745.py:19: FutureWarning: Series.__getitem__ treating keys as positions is deprecated. In a future version, integer keys will always be treated as labels (consistent with DataFrame behavior). To access a value by position, use `ser.iloc[pos]`\n",
      "  res = model.params[0]*spatial_locations['total_counts']\n",
      "c:\\Users\\User\\GPcounts\\.venv\\lib\\site-packages\\statsmodels\\genmod\\families\\links.py:13: FutureWarning: The identity link alias is deprecated. Use Identity instead. The identity link alias will be removed after the 0.15.0 release.\n",
      "  warnings.warn(\n",
      "c:\\Users\\User\\GPcounts\\.venv\\lib\\site-packages\\statsmodels\\genmod\\families\\family.py:1367: ValueWarning: Negative binomial dispersion parameter alpha not set. Using default value alpha=1.0.\n",
      "  warnings.warn(\"Negative binomial dispersion parameter alpha not \"\n",
      "c:\\Users\\User\\GPcounts\\.venv\\lib\\site-packages\\statsmodels\\genmod\\generalized_linear_model.py:308: DomainWarning: The identity link function does not respect the domain of the NegativeBinomial family.\n",
      "  warnings.warn((f\"The {type(family.link).__name__} link function \"\n",
      "C:\\Users\\User\\AppData\\Local\\Temp\\ipykernel_3908\\863504745.py:19: FutureWarning: Series.__getitem__ treating keys as positions is deprecated. In a future version, integer keys will always be treated as labels (consistent with DataFrame behavior). To access a value by position, use `ser.iloc[pos]`\n",
      "  res = model.params[0]*spatial_locations['total_counts']\n",
      "c:\\Users\\User\\GPcounts\\.venv\\lib\\site-packages\\statsmodels\\genmod\\families\\links.py:13: FutureWarning: The identity link alias is deprecated. Use Identity instead. The identity link alias will be removed after the 0.15.0 release.\n",
      "  warnings.warn(\n",
      "c:\\Users\\User\\GPcounts\\.venv\\lib\\site-packages\\statsmodels\\genmod\\families\\family.py:1367: ValueWarning: Negative binomial dispersion parameter alpha not set. Using default value alpha=1.0.\n",
      "  warnings.warn(\"Negative binomial dispersion parameter alpha not \"\n",
      "c:\\Users\\User\\GPcounts\\.venv\\lib\\site-packages\\statsmodels\\genmod\\generalized_linear_model.py:308: DomainWarning: The identity link function does not respect the domain of the NegativeBinomial family.\n",
      "  warnings.warn((f\"The {type(family.link).__name__} link function \"\n",
      "C:\\Users\\User\\AppData\\Local\\Temp\\ipykernel_3908\\863504745.py:19: FutureWarning: Series.__getitem__ treating keys as positions is deprecated. In a future version, integer keys will always be treated as labels (consistent with DataFrame behavior). To access a value by position, use `ser.iloc[pos]`\n",
      "  res = model.params[0]*spatial_locations['total_counts']\n",
      "c:\\Users\\User\\GPcounts\\.venv\\lib\\site-packages\\statsmodels\\genmod\\families\\links.py:13: FutureWarning: The identity link alias is deprecated. Use Identity instead. The identity link alias will be removed after the 0.15.0 release.\n",
      "  warnings.warn(\n",
      "c:\\Users\\User\\GPcounts\\.venv\\lib\\site-packages\\statsmodels\\genmod\\families\\family.py:1367: ValueWarning: Negative binomial dispersion parameter alpha not set. Using default value alpha=1.0.\n",
      "  warnings.warn(\"Negative binomial dispersion parameter alpha not \"\n",
      "c:\\Users\\User\\GPcounts\\.venv\\lib\\site-packages\\statsmodels\\genmod\\generalized_linear_model.py:308: DomainWarning: The identity link function does not respect the domain of the NegativeBinomial family.\n",
      "  warnings.warn((f\"The {type(family.link).__name__} link function \"\n",
      "C:\\Users\\User\\AppData\\Local\\Temp\\ipykernel_3908\\863504745.py:19: FutureWarning: Series.__getitem__ treating keys as positions is deprecated. In a future version, integer keys will always be treated as labels (consistent with DataFrame behavior). To access a value by position, use `ser.iloc[pos]`\n",
      "  res = model.params[0]*spatial_locations['total_counts']\n",
      "c:\\Users\\User\\GPcounts\\.venv\\lib\\site-packages\\statsmodels\\genmod\\families\\links.py:13: FutureWarning: The identity link alias is deprecated. Use Identity instead. The identity link alias will be removed after the 0.15.0 release.\n",
      "  warnings.warn(\n",
      "c:\\Users\\User\\GPcounts\\.venv\\lib\\site-packages\\statsmodels\\genmod\\families\\family.py:1367: ValueWarning: Negative binomial dispersion parameter alpha not set. Using default value alpha=1.0.\n",
      "  warnings.warn(\"Negative binomial dispersion parameter alpha not \"\n",
      "c:\\Users\\User\\GPcounts\\.venv\\lib\\site-packages\\statsmodels\\genmod\\generalized_linear_model.py:308: DomainWarning: The identity link function does not respect the domain of the NegativeBinomial family.\n",
      "  warnings.warn((f\"The {type(family.link).__name__} link function \"\n",
      "C:\\Users\\User\\AppData\\Local\\Temp\\ipykernel_3908\\863504745.py:19: FutureWarning: Series.__getitem__ treating keys as positions is deprecated. In a future version, integer keys will always be treated as labels (consistent with DataFrame behavior). To access a value by position, use `ser.iloc[pos]`\n",
      "  res = model.params[0]*spatial_locations['total_counts']\n",
      "c:\\Users\\User\\GPcounts\\.venv\\lib\\site-packages\\statsmodels\\genmod\\families\\links.py:13: FutureWarning: The identity link alias is deprecated. Use Identity instead. The identity link alias will be removed after the 0.15.0 release.\n",
      "  warnings.warn(\n",
      "c:\\Users\\User\\GPcounts\\.venv\\lib\\site-packages\\statsmodels\\genmod\\families\\family.py:1367: ValueWarning: Negative binomial dispersion parameter alpha not set. Using default value alpha=1.0.\n",
      "  warnings.warn(\"Negative binomial dispersion parameter alpha not \"\n",
      "c:\\Users\\User\\GPcounts\\.venv\\lib\\site-packages\\statsmodels\\genmod\\generalized_linear_model.py:308: DomainWarning: The identity link function does not respect the domain of the NegativeBinomial family.\n",
      "  warnings.warn((f\"The {type(family.link).__name__} link function \"\n",
      "C:\\Users\\User\\AppData\\Local\\Temp\\ipykernel_3908\\863504745.py:19: FutureWarning: Series.__getitem__ treating keys as positions is deprecated. In a future version, integer keys will always be treated as labels (consistent with DataFrame behavior). To access a value by position, use `ser.iloc[pos]`\n",
      "  res = model.params[0]*spatial_locations['total_counts']\n",
      "c:\\Users\\User\\GPcounts\\.venv\\lib\\site-packages\\statsmodels\\genmod\\families\\links.py:13: FutureWarning: The identity link alias is deprecated. Use Identity instead. The identity link alias will be removed after the 0.15.0 release.\n",
      "  warnings.warn(\n",
      "c:\\Users\\User\\GPcounts\\.venv\\lib\\site-packages\\statsmodels\\genmod\\families\\family.py:1367: ValueWarning: Negative binomial dispersion parameter alpha not set. Using default value alpha=1.0.\n",
      "  warnings.warn(\"Negative binomial dispersion parameter alpha not \"\n",
      "c:\\Users\\User\\GPcounts\\.venv\\lib\\site-packages\\statsmodels\\genmod\\generalized_linear_model.py:308: DomainWarning: The identity link function does not respect the domain of the NegativeBinomial family.\n",
      "  warnings.warn((f\"The {type(family.link).__name__} link function \"\n",
      "C:\\Users\\User\\AppData\\Local\\Temp\\ipykernel_3908\\863504745.py:19: FutureWarning: Series.__getitem__ treating keys as positions is deprecated. In a future version, integer keys will always be treated as labels (consistent with DataFrame behavior). To access a value by position, use `ser.iloc[pos]`\n",
      "  res = model.params[0]*spatial_locations['total_counts']\n",
      "c:\\Users\\User\\GPcounts\\.venv\\lib\\site-packages\\statsmodels\\genmod\\families\\links.py:13: FutureWarning: The identity link alias is deprecated. Use Identity instead. The identity link alias will be removed after the 0.15.0 release.\n",
      "  warnings.warn(\n",
      "c:\\Users\\User\\GPcounts\\.venv\\lib\\site-packages\\statsmodels\\genmod\\families\\family.py:1367: ValueWarning: Negative binomial dispersion parameter alpha not set. Using default value alpha=1.0.\n",
      "  warnings.warn(\"Negative binomial dispersion parameter alpha not \"\n",
      "c:\\Users\\User\\GPcounts\\.venv\\lib\\site-packages\\statsmodels\\genmod\\generalized_linear_model.py:308: DomainWarning: The identity link function does not respect the domain of the NegativeBinomial family.\n",
      "  warnings.warn((f\"The {type(family.link).__name__} link function \"\n",
      "C:\\Users\\User\\AppData\\Local\\Temp\\ipykernel_3908\\863504745.py:19: FutureWarning: Series.__getitem__ treating keys as positions is deprecated. In a future version, integer keys will always be treated as labels (consistent with DataFrame behavior). To access a value by position, use `ser.iloc[pos]`\n",
      "  res = model.params[0]*spatial_locations['total_counts']\n",
      "c:\\Users\\User\\GPcounts\\.venv\\lib\\site-packages\\statsmodels\\genmod\\families\\links.py:13: FutureWarning: The identity link alias is deprecated. Use Identity instead. The identity link alias will be removed after the 0.15.0 release.\n",
      "  warnings.warn(\n",
      "c:\\Users\\User\\GPcounts\\.venv\\lib\\site-packages\\statsmodels\\genmod\\families\\family.py:1367: ValueWarning: Negative binomial dispersion parameter alpha not set. Using default value alpha=1.0.\n",
      "  warnings.warn(\"Negative binomial dispersion parameter alpha not \"\n",
      "c:\\Users\\User\\GPcounts\\.venv\\lib\\site-packages\\statsmodels\\genmod\\generalized_linear_model.py:308: DomainWarning: The identity link function does not respect the domain of the NegativeBinomial family.\n",
      "  warnings.warn((f\"The {type(family.link).__name__} link function \"\n",
      "C:\\Users\\User\\AppData\\Local\\Temp\\ipykernel_3908\\863504745.py:19: FutureWarning: Series.__getitem__ treating keys as positions is deprecated. In a future version, integer keys will always be treated as labels (consistent with DataFrame behavior). To access a value by position, use `ser.iloc[pos]`\n",
      "  res = model.params[0]*spatial_locations['total_counts']\n",
      "c:\\Users\\User\\GPcounts\\.venv\\lib\\site-packages\\statsmodels\\genmod\\families\\links.py:13: FutureWarning: The identity link alias is deprecated. Use Identity instead. The identity link alias will be removed after the 0.15.0 release.\n",
      "  warnings.warn(\n",
      "c:\\Users\\User\\GPcounts\\.venv\\lib\\site-packages\\statsmodels\\genmod\\families\\family.py:1367: ValueWarning: Negative binomial dispersion parameter alpha not set. Using default value alpha=1.0.\n",
      "  warnings.warn(\"Negative binomial dispersion parameter alpha not \"\n",
      "c:\\Users\\User\\GPcounts\\.venv\\lib\\site-packages\\statsmodels\\genmod\\generalized_linear_model.py:308: DomainWarning: The identity link function does not respect the domain of the NegativeBinomial family.\n",
      "  warnings.warn((f\"The {type(family.link).__name__} link function \"\n",
      "C:\\Users\\User\\AppData\\Local\\Temp\\ipykernel_3908\\863504745.py:19: FutureWarning: Series.__getitem__ treating keys as positions is deprecated. In a future version, integer keys will always be treated as labels (consistent with DataFrame behavior). To access a value by position, use `ser.iloc[pos]`\n",
      "  res = model.params[0]*spatial_locations['total_counts']\n",
      "c:\\Users\\User\\GPcounts\\.venv\\lib\\site-packages\\statsmodels\\genmod\\families\\links.py:13: FutureWarning: The identity link alias is deprecated. Use Identity instead. The identity link alias will be removed after the 0.15.0 release.\n",
      "  warnings.warn(\n",
      "c:\\Users\\User\\GPcounts\\.venv\\lib\\site-packages\\statsmodels\\genmod\\families\\family.py:1367: ValueWarning: Negative binomial dispersion parameter alpha not set. Using default value alpha=1.0.\n",
      "  warnings.warn(\"Negative binomial dispersion parameter alpha not \"\n",
      "c:\\Users\\User\\GPcounts\\.venv\\lib\\site-packages\\statsmodels\\genmod\\generalized_linear_model.py:308: DomainWarning: The identity link function does not respect the domain of the NegativeBinomial family.\n",
      "  warnings.warn((f\"The {type(family.link).__name__} link function \"\n",
      "C:\\Users\\User\\AppData\\Local\\Temp\\ipykernel_3908\\863504745.py:19: FutureWarning: Series.__getitem__ treating keys as positions is deprecated. In a future version, integer keys will always be treated as labels (consistent with DataFrame behavior). To access a value by position, use `ser.iloc[pos]`\n",
      "  res = model.params[0]*spatial_locations['total_counts']\n",
      "c:\\Users\\User\\GPcounts\\.venv\\lib\\site-packages\\statsmodels\\genmod\\families\\links.py:13: FutureWarning: The identity link alias is deprecated. Use Identity instead. The identity link alias will be removed after the 0.15.0 release.\n",
      "  warnings.warn(\n",
      "c:\\Users\\User\\GPcounts\\.venv\\lib\\site-packages\\statsmodels\\genmod\\families\\family.py:1367: ValueWarning: Negative binomial dispersion parameter alpha not set. Using default value alpha=1.0.\n",
      "  warnings.warn(\"Negative binomial dispersion parameter alpha not \"\n",
      "c:\\Users\\User\\GPcounts\\.venv\\lib\\site-packages\\statsmodels\\genmod\\generalized_linear_model.py:308: DomainWarning: The identity link function does not respect the domain of the NegativeBinomial family.\n",
      "  warnings.warn((f\"The {type(family.link).__name__} link function \"\n",
      "C:\\Users\\User\\AppData\\Local\\Temp\\ipykernel_3908\\863504745.py:19: FutureWarning: Series.__getitem__ treating keys as positions is deprecated. In a future version, integer keys will always be treated as labels (consistent with DataFrame behavior). To access a value by position, use `ser.iloc[pos]`\n",
      "  res = model.params[0]*spatial_locations['total_counts']\n",
      "c:\\Users\\User\\GPcounts\\.venv\\lib\\site-packages\\statsmodels\\genmod\\families\\links.py:13: FutureWarning: The identity link alias is deprecated. Use Identity instead. The identity link alias will be removed after the 0.15.0 release.\n",
      "  warnings.warn(\n",
      "c:\\Users\\User\\GPcounts\\.venv\\lib\\site-packages\\statsmodels\\genmod\\families\\family.py:1367: ValueWarning: Negative binomial dispersion parameter alpha not set. Using default value alpha=1.0.\n",
      "  warnings.warn(\"Negative binomial dispersion parameter alpha not \"\n",
      "c:\\Users\\User\\GPcounts\\.venv\\lib\\site-packages\\statsmodels\\genmod\\generalized_linear_model.py:308: DomainWarning: The identity link function does not respect the domain of the NegativeBinomial family.\n",
      "  warnings.warn((f\"The {type(family.link).__name__} link function \"\n",
      "C:\\Users\\User\\AppData\\Local\\Temp\\ipykernel_3908\\863504745.py:19: FutureWarning: Series.__getitem__ treating keys as positions is deprecated. In a future version, integer keys will always be treated as labels (consistent with DataFrame behavior). To access a value by position, use `ser.iloc[pos]`\n",
      "  res = model.params[0]*spatial_locations['total_counts']\n",
      "c:\\Users\\User\\GPcounts\\.venv\\lib\\site-packages\\statsmodels\\genmod\\families\\links.py:13: FutureWarning: The identity link alias is deprecated. Use Identity instead. The identity link alias will be removed after the 0.15.0 release.\n",
      "  warnings.warn(\n",
      "c:\\Users\\User\\GPcounts\\.venv\\lib\\site-packages\\statsmodels\\genmod\\families\\family.py:1367: ValueWarning: Negative binomial dispersion parameter alpha not set. Using default value alpha=1.0.\n",
      "  warnings.warn(\"Negative binomial dispersion parameter alpha not \"\n",
      "c:\\Users\\User\\GPcounts\\.venv\\lib\\site-packages\\statsmodels\\genmod\\generalized_linear_model.py:308: DomainWarning: The identity link function does not respect the domain of the NegativeBinomial family.\n",
      "  warnings.warn((f\"The {type(family.link).__name__} link function \"\n",
      "C:\\Users\\User\\AppData\\Local\\Temp\\ipykernel_3908\\863504745.py:19: FutureWarning: Series.__getitem__ treating keys as positions is deprecated. In a future version, integer keys will always be treated as labels (consistent with DataFrame behavior). To access a value by position, use `ser.iloc[pos]`\n",
      "  res = model.params[0]*spatial_locations['total_counts']\n",
      "c:\\Users\\User\\GPcounts\\.venv\\lib\\site-packages\\statsmodels\\genmod\\families\\links.py:13: FutureWarning: The identity link alias is deprecated. Use Identity instead. The identity link alias will be removed after the 0.15.0 release.\n",
      "  warnings.warn(\n",
      "c:\\Users\\User\\GPcounts\\.venv\\lib\\site-packages\\statsmodels\\genmod\\families\\family.py:1367: ValueWarning: Negative binomial dispersion parameter alpha not set. Using default value alpha=1.0.\n",
      "  warnings.warn(\"Negative binomial dispersion parameter alpha not \"\n",
      "c:\\Users\\User\\GPcounts\\.venv\\lib\\site-packages\\statsmodels\\genmod\\generalized_linear_model.py:308: DomainWarning: The identity link function does not respect the domain of the NegativeBinomial family.\n",
      "  warnings.warn((f\"The {type(family.link).__name__} link function \"\n",
      "C:\\Users\\User\\AppData\\Local\\Temp\\ipykernel_3908\\863504745.py:19: FutureWarning: Series.__getitem__ treating keys as positions is deprecated. In a future version, integer keys will always be treated as labels (consistent with DataFrame behavior). To access a value by position, use `ser.iloc[pos]`\n",
      "  res = model.params[0]*spatial_locations['total_counts']\n",
      "c:\\Users\\User\\GPcounts\\.venv\\lib\\site-packages\\statsmodels\\genmod\\families\\links.py:13: FutureWarning: The identity link alias is deprecated. Use Identity instead. The identity link alias will be removed after the 0.15.0 release.\n",
      "  warnings.warn(\n",
      "c:\\Users\\User\\GPcounts\\.venv\\lib\\site-packages\\statsmodels\\genmod\\families\\family.py:1367: ValueWarning: Negative binomial dispersion parameter alpha not set. Using default value alpha=1.0.\n",
      "  warnings.warn(\"Negative binomial dispersion parameter alpha not \"\n",
      "c:\\Users\\User\\GPcounts\\.venv\\lib\\site-packages\\statsmodels\\genmod\\generalized_linear_model.py:308: DomainWarning: The identity link function does not respect the domain of the NegativeBinomial family.\n",
      "  warnings.warn((f\"The {type(family.link).__name__} link function \"\n",
      "C:\\Users\\User\\AppData\\Local\\Temp\\ipykernel_3908\\863504745.py:19: FutureWarning: Series.__getitem__ treating keys as positions is deprecated. In a future version, integer keys will always be treated as labels (consistent with DataFrame behavior). To access a value by position, use `ser.iloc[pos]`\n",
      "  res = model.params[0]*spatial_locations['total_counts']\n",
      "c:\\Users\\User\\GPcounts\\.venv\\lib\\site-packages\\statsmodels\\genmod\\families\\links.py:13: FutureWarning: The identity link alias is deprecated. Use Identity instead. The identity link alias will be removed after the 0.15.0 release.\n",
      "  warnings.warn(\n",
      "c:\\Users\\User\\GPcounts\\.venv\\lib\\site-packages\\statsmodels\\genmod\\families\\family.py:1367: ValueWarning: Negative binomial dispersion parameter alpha not set. Using default value alpha=1.0.\n",
      "  warnings.warn(\"Negative binomial dispersion parameter alpha not \"\n",
      "c:\\Users\\User\\GPcounts\\.venv\\lib\\site-packages\\statsmodels\\genmod\\generalized_linear_model.py:308: DomainWarning: The identity link function does not respect the domain of the NegativeBinomial family.\n",
      "  warnings.warn((f\"The {type(family.link).__name__} link function \"\n",
      "C:\\Users\\User\\AppData\\Local\\Temp\\ipykernel_3908\\863504745.py:19: FutureWarning: Series.__getitem__ treating keys as positions is deprecated. In a future version, integer keys will always be treated as labels (consistent with DataFrame behavior). To access a value by position, use `ser.iloc[pos]`\n",
      "  res = model.params[0]*spatial_locations['total_counts']\n",
      "c:\\Users\\User\\GPcounts\\.venv\\lib\\site-packages\\statsmodels\\genmod\\families\\links.py:13: FutureWarning: The identity link alias is deprecated. Use Identity instead. The identity link alias will be removed after the 0.15.0 release.\n",
      "  warnings.warn(\n",
      "c:\\Users\\User\\GPcounts\\.venv\\lib\\site-packages\\statsmodels\\genmod\\families\\family.py:1367: ValueWarning: Negative binomial dispersion parameter alpha not set. Using default value alpha=1.0.\n",
      "  warnings.warn(\"Negative binomial dispersion parameter alpha not \"\n",
      "c:\\Users\\User\\GPcounts\\.venv\\lib\\site-packages\\statsmodels\\genmod\\generalized_linear_model.py:308: DomainWarning: The identity link function does not respect the domain of the NegativeBinomial family.\n",
      "  warnings.warn((f\"The {type(family.link).__name__} link function \"\n",
      "C:\\Users\\User\\AppData\\Local\\Temp\\ipykernel_3908\\863504745.py:19: FutureWarning: Series.__getitem__ treating keys as positions is deprecated. In a future version, integer keys will always be treated as labels (consistent with DataFrame behavior). To access a value by position, use `ser.iloc[pos]`\n",
      "  res = model.params[0]*spatial_locations['total_counts']\n",
      "c:\\Users\\User\\GPcounts\\.venv\\lib\\site-packages\\statsmodels\\genmod\\families\\links.py:13: FutureWarning: The identity link alias is deprecated. Use Identity instead. The identity link alias will be removed after the 0.15.0 release.\n",
      "  warnings.warn(\n",
      "c:\\Users\\User\\GPcounts\\.venv\\lib\\site-packages\\statsmodels\\genmod\\families\\family.py:1367: ValueWarning: Negative binomial dispersion parameter alpha not set. Using default value alpha=1.0.\n",
      "  warnings.warn(\"Negative binomial dispersion parameter alpha not \"\n",
      "c:\\Users\\User\\GPcounts\\.venv\\lib\\site-packages\\statsmodels\\genmod\\generalized_linear_model.py:308: DomainWarning: The identity link function does not respect the domain of the NegativeBinomial family.\n",
      "  warnings.warn((f\"The {type(family.link).__name__} link function \"\n",
      "C:\\Users\\User\\AppData\\Local\\Temp\\ipykernel_3908\\863504745.py:19: FutureWarning: Series.__getitem__ treating keys as positions is deprecated. In a future version, integer keys will always be treated as labels (consistent with DataFrame behavior). To access a value by position, use `ser.iloc[pos]`\n",
      "  res = model.params[0]*spatial_locations['total_counts']\n",
      "c:\\Users\\User\\GPcounts\\.venv\\lib\\site-packages\\statsmodels\\genmod\\families\\links.py:13: FutureWarning: The identity link alias is deprecated. Use Identity instead. The identity link alias will be removed after the 0.15.0 release.\n",
      "  warnings.warn(\n",
      "c:\\Users\\User\\GPcounts\\.venv\\lib\\site-packages\\statsmodels\\genmod\\families\\family.py:1367: ValueWarning: Negative binomial dispersion parameter alpha not set. Using default value alpha=1.0.\n",
      "  warnings.warn(\"Negative binomial dispersion parameter alpha not \"\n",
      "c:\\Users\\User\\GPcounts\\.venv\\lib\\site-packages\\statsmodels\\genmod\\generalized_linear_model.py:308: DomainWarning: The identity link function does not respect the domain of the NegativeBinomial family.\n",
      "  warnings.warn((f\"The {type(family.link).__name__} link function \"\n",
      "C:\\Users\\User\\AppData\\Local\\Temp\\ipykernel_3908\\863504745.py:19: FutureWarning: Series.__getitem__ treating keys as positions is deprecated. In a future version, integer keys will always be treated as labels (consistent with DataFrame behavior). To access a value by position, use `ser.iloc[pos]`\n",
      "  res = model.params[0]*spatial_locations['total_counts']\n",
      "c:\\Users\\User\\GPcounts\\.venv\\lib\\site-packages\\statsmodels\\genmod\\families\\links.py:13: FutureWarning: The identity link alias is deprecated. Use Identity instead. The identity link alias will be removed after the 0.15.0 release.\n",
      "  warnings.warn(\n",
      "c:\\Users\\User\\GPcounts\\.venv\\lib\\site-packages\\statsmodels\\genmod\\families\\family.py:1367: ValueWarning: Negative binomial dispersion parameter alpha not set. Using default value alpha=1.0.\n",
      "  warnings.warn(\"Negative binomial dispersion parameter alpha not \"\n",
      "c:\\Users\\User\\GPcounts\\.venv\\lib\\site-packages\\statsmodels\\genmod\\generalized_linear_model.py:308: DomainWarning: The identity link function does not respect the domain of the NegativeBinomial family.\n",
      "  warnings.warn((f\"The {type(family.link).__name__} link function \"\n",
      "C:\\Users\\User\\AppData\\Local\\Temp\\ipykernel_3908\\863504745.py:19: FutureWarning: Series.__getitem__ treating keys as positions is deprecated. In a future version, integer keys will always be treated as labels (consistent with DataFrame behavior). To access a value by position, use `ser.iloc[pos]`\n",
      "  res = model.params[0]*spatial_locations['total_counts']\n",
      "c:\\Users\\User\\GPcounts\\.venv\\lib\\site-packages\\statsmodels\\genmod\\families\\links.py:13: FutureWarning: The identity link alias is deprecated. Use Identity instead. The identity link alias will be removed after the 0.15.0 release.\n",
      "  warnings.warn(\n",
      "c:\\Users\\User\\GPcounts\\.venv\\lib\\site-packages\\statsmodels\\genmod\\families\\family.py:1367: ValueWarning: Negative binomial dispersion parameter alpha not set. Using default value alpha=1.0.\n",
      "  warnings.warn(\"Negative binomial dispersion parameter alpha not \"\n",
      "c:\\Users\\User\\GPcounts\\.venv\\lib\\site-packages\\statsmodels\\genmod\\generalized_linear_model.py:308: DomainWarning: The identity link function does not respect the domain of the NegativeBinomial family.\n",
      "  warnings.warn((f\"The {type(family.link).__name__} link function \"\n",
      "C:\\Users\\User\\AppData\\Local\\Temp\\ipykernel_3908\\863504745.py:19: FutureWarning: Series.__getitem__ treating keys as positions is deprecated. In a future version, integer keys will always be treated as labels (consistent with DataFrame behavior). To access a value by position, use `ser.iloc[pos]`\n",
      "  res = model.params[0]*spatial_locations['total_counts']\n",
      "c:\\Users\\User\\GPcounts\\.venv\\lib\\site-packages\\statsmodels\\genmod\\families\\links.py:13: FutureWarning: The identity link alias is deprecated. Use Identity instead. The identity link alias will be removed after the 0.15.0 release.\n",
      "  warnings.warn(\n",
      "c:\\Users\\User\\GPcounts\\.venv\\lib\\site-packages\\statsmodels\\genmod\\families\\family.py:1367: ValueWarning: Negative binomial dispersion parameter alpha not set. Using default value alpha=1.0.\n",
      "  warnings.warn(\"Negative binomial dispersion parameter alpha not \"\n",
      "c:\\Users\\User\\GPcounts\\.venv\\lib\\site-packages\\statsmodels\\genmod\\generalized_linear_model.py:308: DomainWarning: The identity link function does not respect the domain of the NegativeBinomial family.\n",
      "  warnings.warn((f\"The {type(family.link).__name__} link function \"\n",
      "C:\\Users\\User\\AppData\\Local\\Temp\\ipykernel_3908\\863504745.py:19: FutureWarning: Series.__getitem__ treating keys as positions is deprecated. In a future version, integer keys will always be treated as labels (consistent with DataFrame behavior). To access a value by position, use `ser.iloc[pos]`\n",
      "  res = model.params[0]*spatial_locations['total_counts']\n",
      "c:\\Users\\User\\GPcounts\\.venv\\lib\\site-packages\\statsmodels\\genmod\\families\\links.py:13: FutureWarning: The identity link alias is deprecated. Use Identity instead. The identity link alias will be removed after the 0.15.0 release.\n",
      "  warnings.warn(\n",
      "c:\\Users\\User\\GPcounts\\.venv\\lib\\site-packages\\statsmodels\\genmod\\families\\family.py:1367: ValueWarning: Negative binomial dispersion parameter alpha not set. Using default value alpha=1.0.\n",
      "  warnings.warn(\"Negative binomial dispersion parameter alpha not \"\n",
      "c:\\Users\\User\\GPcounts\\.venv\\lib\\site-packages\\statsmodels\\genmod\\generalized_linear_model.py:308: DomainWarning: The identity link function does not respect the domain of the NegativeBinomial family.\n",
      "  warnings.warn((f\"The {type(family.link).__name__} link function \"\n",
      "C:\\Users\\User\\AppData\\Local\\Temp\\ipykernel_3908\\863504745.py:19: FutureWarning: Series.__getitem__ treating keys as positions is deprecated. In a future version, integer keys will always be treated as labels (consistent with DataFrame behavior). To access a value by position, use `ser.iloc[pos]`\n",
      "  res = model.params[0]*spatial_locations['total_counts']\n",
      "c:\\Users\\User\\GPcounts\\.venv\\lib\\site-packages\\statsmodels\\genmod\\families\\links.py:13: FutureWarning: The identity link alias is deprecated. Use Identity instead. The identity link alias will be removed after the 0.15.0 release.\n",
      "  warnings.warn(\n",
      "c:\\Users\\User\\GPcounts\\.venv\\lib\\site-packages\\statsmodels\\genmod\\families\\family.py:1367: ValueWarning: Negative binomial dispersion parameter alpha not set. Using default value alpha=1.0.\n",
      "  warnings.warn(\"Negative binomial dispersion parameter alpha not \"\n",
      "c:\\Users\\User\\GPcounts\\.venv\\lib\\site-packages\\statsmodels\\genmod\\generalized_linear_model.py:308: DomainWarning: The identity link function does not respect the domain of the NegativeBinomial family.\n",
      "  warnings.warn((f\"The {type(family.link).__name__} link function \"\n",
      "C:\\Users\\User\\AppData\\Local\\Temp\\ipykernel_3908\\863504745.py:19: FutureWarning: Series.__getitem__ treating keys as positions is deprecated. In a future version, integer keys will always be treated as labels (consistent with DataFrame behavior). To access a value by position, use `ser.iloc[pos]`\n",
      "  res = model.params[0]*spatial_locations['total_counts']\n",
      "c:\\Users\\User\\GPcounts\\.venv\\lib\\site-packages\\statsmodels\\genmod\\families\\links.py:13: FutureWarning: The identity link alias is deprecated. Use Identity instead. The identity link alias will be removed after the 0.15.0 release.\n",
      "  warnings.warn(\n",
      "c:\\Users\\User\\GPcounts\\.venv\\lib\\site-packages\\statsmodels\\genmod\\families\\family.py:1367: ValueWarning: Negative binomial dispersion parameter alpha not set. Using default value alpha=1.0.\n",
      "  warnings.warn(\"Negative binomial dispersion parameter alpha not \"\n",
      "c:\\Users\\User\\GPcounts\\.venv\\lib\\site-packages\\statsmodels\\genmod\\generalized_linear_model.py:308: DomainWarning: The identity link function does not respect the domain of the NegativeBinomial family.\n",
      "  warnings.warn((f\"The {type(family.link).__name__} link function \"\n",
      "C:\\Users\\User\\AppData\\Local\\Temp\\ipykernel_3908\\863504745.py:19: FutureWarning: Series.__getitem__ treating keys as positions is deprecated. In a future version, integer keys will always be treated as labels (consistent with DataFrame behavior). To access a value by position, use `ser.iloc[pos]`\n",
      "  res = model.params[0]*spatial_locations['total_counts']\n",
      "c:\\Users\\User\\GPcounts\\.venv\\lib\\site-packages\\statsmodels\\genmod\\families\\links.py:13: FutureWarning: The identity link alias is deprecated. Use Identity instead. The identity link alias will be removed after the 0.15.0 release.\n",
      "  warnings.warn(\n",
      "c:\\Users\\User\\GPcounts\\.venv\\lib\\site-packages\\statsmodels\\genmod\\families\\family.py:1367: ValueWarning: Negative binomial dispersion parameter alpha not set. Using default value alpha=1.0.\n",
      "  warnings.warn(\"Negative binomial dispersion parameter alpha not \"\n",
      "c:\\Users\\User\\GPcounts\\.venv\\lib\\site-packages\\statsmodels\\genmod\\generalized_linear_model.py:308: DomainWarning: The identity link function does not respect the domain of the NegativeBinomial family.\n",
      "  warnings.warn((f\"The {type(family.link).__name__} link function \"\n",
      "C:\\Users\\User\\AppData\\Local\\Temp\\ipykernel_3908\\863504745.py:19: FutureWarning: Series.__getitem__ treating keys as positions is deprecated. In a future version, integer keys will always be treated as labels (consistent with DataFrame behavior). To access a value by position, use `ser.iloc[pos]`\n",
      "  res = model.params[0]*spatial_locations['total_counts']\n",
      "c:\\Users\\User\\GPcounts\\.venv\\lib\\site-packages\\statsmodels\\genmod\\families\\links.py:13: FutureWarning: The identity link alias is deprecated. Use Identity instead. The identity link alias will be removed after the 0.15.0 release.\n",
      "  warnings.warn(\n",
      "c:\\Users\\User\\GPcounts\\.venv\\lib\\site-packages\\statsmodels\\genmod\\families\\family.py:1367: ValueWarning: Negative binomial dispersion parameter alpha not set. Using default value alpha=1.0.\n",
      "  warnings.warn(\"Negative binomial dispersion parameter alpha not \"\n",
      "c:\\Users\\User\\GPcounts\\.venv\\lib\\site-packages\\statsmodels\\genmod\\generalized_linear_model.py:308: DomainWarning: The identity link function does not respect the domain of the NegativeBinomial family.\n",
      "  warnings.warn((f\"The {type(family.link).__name__} link function \"\n",
      "C:\\Users\\User\\AppData\\Local\\Temp\\ipykernel_3908\\863504745.py:19: FutureWarning: Series.__getitem__ treating keys as positions is deprecated. In a future version, integer keys will always be treated as labels (consistent with DataFrame behavior). To access a value by position, use `ser.iloc[pos]`\n",
      "  res = model.params[0]*spatial_locations['total_counts']\n",
      "c:\\Users\\User\\GPcounts\\.venv\\lib\\site-packages\\statsmodels\\genmod\\families\\links.py:13: FutureWarning: The identity link alias is deprecated. Use Identity instead. The identity link alias will be removed after the 0.15.0 release.\n",
      "  warnings.warn(\n",
      "c:\\Users\\User\\GPcounts\\.venv\\lib\\site-packages\\statsmodels\\genmod\\families\\family.py:1367: ValueWarning: Negative binomial dispersion parameter alpha not set. Using default value alpha=1.0.\n",
      "  warnings.warn(\"Negative binomial dispersion parameter alpha not \"\n",
      "c:\\Users\\User\\GPcounts\\.venv\\lib\\site-packages\\statsmodels\\genmod\\generalized_linear_model.py:308: DomainWarning: The identity link function does not respect the domain of the NegativeBinomial family.\n",
      "  warnings.warn((f\"The {type(family.link).__name__} link function \"\n",
      "C:\\Users\\User\\AppData\\Local\\Temp\\ipykernel_3908\\863504745.py:19: FutureWarning: Series.__getitem__ treating keys as positions is deprecated. In a future version, integer keys will always be treated as labels (consistent with DataFrame behavior). To access a value by position, use `ser.iloc[pos]`\n",
      "  res = model.params[0]*spatial_locations['total_counts']\n",
      "c:\\Users\\User\\GPcounts\\.venv\\lib\\site-packages\\statsmodels\\genmod\\families\\links.py:13: FutureWarning: The identity link alias is deprecated. Use Identity instead. The identity link alias will be removed after the 0.15.0 release.\n",
      "  warnings.warn(\n",
      "c:\\Users\\User\\GPcounts\\.venv\\lib\\site-packages\\statsmodels\\genmod\\families\\family.py:1367: ValueWarning: Negative binomial dispersion parameter alpha not set. Using default value alpha=1.0.\n",
      "  warnings.warn(\"Negative binomial dispersion parameter alpha not \"\n",
      "c:\\Users\\User\\GPcounts\\.venv\\lib\\site-packages\\statsmodels\\genmod\\generalized_linear_model.py:308: DomainWarning: The identity link function does not respect the domain of the NegativeBinomial family.\n",
      "  warnings.warn((f\"The {type(family.link).__name__} link function \"\n",
      "C:\\Users\\User\\AppData\\Local\\Temp\\ipykernel_3908\\863504745.py:19: FutureWarning: Series.__getitem__ treating keys as positions is deprecated. In a future version, integer keys will always be treated as labels (consistent with DataFrame behavior). To access a value by position, use `ser.iloc[pos]`\n",
      "  res = model.params[0]*spatial_locations['total_counts']\n",
      "c:\\Users\\User\\GPcounts\\.venv\\lib\\site-packages\\statsmodels\\genmod\\families\\links.py:13: FutureWarning: The identity link alias is deprecated. Use Identity instead. The identity link alias will be removed after the 0.15.0 release.\n",
      "  warnings.warn(\n",
      "c:\\Users\\User\\GPcounts\\.venv\\lib\\site-packages\\statsmodels\\genmod\\families\\family.py:1367: ValueWarning: Negative binomial dispersion parameter alpha not set. Using default value alpha=1.0.\n",
      "  warnings.warn(\"Negative binomial dispersion parameter alpha not \"\n",
      "c:\\Users\\User\\GPcounts\\.venv\\lib\\site-packages\\statsmodels\\genmod\\generalized_linear_model.py:308: DomainWarning: The identity link function does not respect the domain of the NegativeBinomial family.\n",
      "  warnings.warn((f\"The {type(family.link).__name__} link function \"\n",
      "C:\\Users\\User\\AppData\\Local\\Temp\\ipykernel_3908\\863504745.py:19: FutureWarning: Series.__getitem__ treating keys as positions is deprecated. In a future version, integer keys will always be treated as labels (consistent with DataFrame behavior). To access a value by position, use `ser.iloc[pos]`\n",
      "  res = model.params[0]*spatial_locations['total_counts']\n",
      "c:\\Users\\User\\GPcounts\\.venv\\lib\\site-packages\\statsmodels\\genmod\\families\\links.py:13: FutureWarning: The identity link alias is deprecated. Use Identity instead. The identity link alias will be removed after the 0.15.0 release.\n",
      "  warnings.warn(\n",
      "c:\\Users\\User\\GPcounts\\.venv\\lib\\site-packages\\statsmodels\\genmod\\families\\family.py:1367: ValueWarning: Negative binomial dispersion parameter alpha not set. Using default value alpha=1.0.\n",
      "  warnings.warn(\"Negative binomial dispersion parameter alpha not \"\n",
      "c:\\Users\\User\\GPcounts\\.venv\\lib\\site-packages\\statsmodels\\genmod\\generalized_linear_model.py:308: DomainWarning: The identity link function does not respect the domain of the NegativeBinomial family.\n",
      "  warnings.warn((f\"The {type(family.link).__name__} link function \"\n",
      "C:\\Users\\User\\AppData\\Local\\Temp\\ipykernel_3908\\863504745.py:19: FutureWarning: Series.__getitem__ treating keys as positions is deprecated. In a future version, integer keys will always be treated as labels (consistent with DataFrame behavior). To access a value by position, use `ser.iloc[pos]`\n",
      "  res = model.params[0]*spatial_locations['total_counts']\n",
      "c:\\Users\\User\\GPcounts\\.venv\\lib\\site-packages\\statsmodels\\genmod\\families\\links.py:13: FutureWarning: The identity link alias is deprecated. Use Identity instead. The identity link alias will be removed after the 0.15.0 release.\n",
      "  warnings.warn(\n",
      "c:\\Users\\User\\GPcounts\\.venv\\lib\\site-packages\\statsmodels\\genmod\\families\\family.py:1367: ValueWarning: Negative binomial dispersion parameter alpha not set. Using default value alpha=1.0.\n",
      "  warnings.warn(\"Negative binomial dispersion parameter alpha not \"\n",
      "c:\\Users\\User\\GPcounts\\.venv\\lib\\site-packages\\statsmodels\\genmod\\generalized_linear_model.py:308: DomainWarning: The identity link function does not respect the domain of the NegativeBinomial family.\n",
      "  warnings.warn((f\"The {type(family.link).__name__} link function \"\n",
      "C:\\Users\\User\\AppData\\Local\\Temp\\ipykernel_3908\\863504745.py:19: FutureWarning: Series.__getitem__ treating keys as positions is deprecated. In a future version, integer keys will always be treated as labels (consistent with DataFrame behavior). To access a value by position, use `ser.iloc[pos]`\n",
      "  res = model.params[0]*spatial_locations['total_counts']\n",
      "c:\\Users\\User\\GPcounts\\.venv\\lib\\site-packages\\statsmodels\\genmod\\families\\links.py:13: FutureWarning: The identity link alias is deprecated. Use Identity instead. The identity link alias will be removed after the 0.15.0 release.\n",
      "  warnings.warn(\n",
      "c:\\Users\\User\\GPcounts\\.venv\\lib\\site-packages\\statsmodels\\genmod\\families\\family.py:1367: ValueWarning: Negative binomial dispersion parameter alpha not set. Using default value alpha=1.0.\n",
      "  warnings.warn(\"Negative binomial dispersion parameter alpha not \"\n",
      "c:\\Users\\User\\GPcounts\\.venv\\lib\\site-packages\\statsmodels\\genmod\\generalized_linear_model.py:308: DomainWarning: The identity link function does not respect the domain of the NegativeBinomial family.\n",
      "  warnings.warn((f\"The {type(family.link).__name__} link function \"\n",
      "C:\\Users\\User\\AppData\\Local\\Temp\\ipykernel_3908\\863504745.py:19: FutureWarning: Series.__getitem__ treating keys as positions is deprecated. In a future version, integer keys will always be treated as labels (consistent with DataFrame behavior). To access a value by position, use `ser.iloc[pos]`\n",
      "  res = model.params[0]*spatial_locations['total_counts']\n",
      "c:\\Users\\User\\GPcounts\\.venv\\lib\\site-packages\\statsmodels\\genmod\\families\\links.py:13: FutureWarning: The identity link alias is deprecated. Use Identity instead. The identity link alias will be removed after the 0.15.0 release.\n",
      "  warnings.warn(\n",
      "c:\\Users\\User\\GPcounts\\.venv\\lib\\site-packages\\statsmodels\\genmod\\families\\family.py:1367: ValueWarning: Negative binomial dispersion parameter alpha not set. Using default value alpha=1.0.\n",
      "  warnings.warn(\"Negative binomial dispersion parameter alpha not \"\n",
      "c:\\Users\\User\\GPcounts\\.venv\\lib\\site-packages\\statsmodels\\genmod\\generalized_linear_model.py:308: DomainWarning: The identity link function does not respect the domain of the NegativeBinomial family.\n",
      "  warnings.warn((f\"The {type(family.link).__name__} link function \"\n",
      "C:\\Users\\User\\AppData\\Local\\Temp\\ipykernel_3908\\863504745.py:19: FutureWarning: Series.__getitem__ treating keys as positions is deprecated. In a future version, integer keys will always be treated as labels (consistent with DataFrame behavior). To access a value by position, use `ser.iloc[pos]`\n",
      "  res = model.params[0]*spatial_locations['total_counts']\n"
     ]
    }
   ],
   "source": [
    "import pandas as pd\n",
    "import statsmodels.formula.api as smf\n",
    "import statsmodels.api as sm\n",
    "\n",
    "Y = pd.DataFrame(data=data.X.todense().astype(int).copy(), \n",
    "                    index=data.obs_names, \n",
    "                    columns=data.var_names)\n",
    "\n",
    "spatial_locations = pd.DataFrame(data=data.obsm['spatial'], \n",
    "                                    index=data.obs_names, \n",
    "                                    columns=['x', 'y'])\n",
    "spatial_locations['total_counts'] = data.X.sum(axis=1)\n",
    "\n",
    "scales = []\n",
    "for i in range(0, len(Y.columns)):\n",
    "    model=smf.glm(formula = \"Y.iloc[:, i]~0+spatial_locations['total_counts']\", \n",
    "                    data=Y, \n",
    "                    family=sm.families.NegativeBinomial(sm.families.links.identity())).fit()\n",
    "    res = model.params[0]*spatial_locations['total_counts']\n",
    "    scales.append(res)\n",
    "\n",
    "scalesdf=pd.DataFrame(scales)\n",
    "scalesdf=scalesdf.T\n",
    "\n",
    "Y = Y.T\n",
    "X = spatial_locations[['x', 'y']]"
   ]
  },
  {
   "cell_type": "code",
   "execution_count": 4,
   "metadata": {},
   "outputs": [
    {
     "name": "stdout",
     "output_type": "stream",
     "text": [
      "WARNING:tensorflow:From c:\\Users\\User\\GPcounts\\.venv\\lib\\site-packages\\tf_keras\\src\\losses.py:2976: The name tf.losses.sparse_softmax_cross_entropy is deprecated. Please use tf.compat.v1.losses.sparse_softmax_cross_entropy instead.\n",
      "\n",
      "WARNING:tensorflow:From c:\\Users\\User\\GPcounts\\.venv\\lib\\site-packages\\tensorflow_probability\\python\\internal\\backend\\numpy\\_utils.py:48: The name tf.logging.TaskLevelStatusMessage is deprecated. Please use tf.compat.v1.logging.TaskLevelStatusMessage instead.\n",
      "\n",
      "WARNING:tensorflow:From c:\\Users\\User\\GPcounts\\.venv\\lib\\site-packages\\tensorflow_probability\\python\\internal\\backend\\numpy\\_utils.py:48: The name tf.control_flow_v2_enabled is deprecated. Please use tf.compat.v1.control_flow_v2_enabled instead.\n",
      "\n"
     ]
    },
    {
     "name": "stderr",
     "output_type": "stream",
     "text": [
      "  0%|          | 0/200 [00:00<?, ?it/s]"
     ]
    },
    {
     "name": "stdout",
     "output_type": "stream",
     "text": [
      "here\n",
      "model 1 log likelihood = -3962.2073835543415, alpha = 4.196143799823953e-08, km = None\n",
      "here\n"
     ]
    },
    {
     "name": "stderr",
     "output_type": "stream",
     "text": [
      "  0%|          | 1/200 [00:10<35:05, 10.58s/it]"
     ]
    },
    {
     "name": "stdout",
     "output_type": "stream",
     "text": [
      "results: [-3962.2073835543415, -3966.136555544137, 3.9291719897955772]\n",
      "here\n",
      "model 1 log likelihood = -3953.0121422159127, alpha = 8.132152521949112e-08, km = None\n",
      "here\n",
      "here\n"
     ]
    },
    {
     "name": "stderr",
     "output_type": "stream",
     "text": [
      "  1%|          | 2/200 [00:20<33:00, 10.00s/it]"
     ]
    },
    {
     "name": "stdout",
     "output_type": "stream",
     "text": [
      "results: [-3953.0121422159127, -3958.509285812716, 5.497143596803198]\n",
      "here\n",
      "here\n",
      "model 1 log likelihood = -3946.6379378353304, alpha = 6.79114075513769e-08, km = None\n",
      "here\n"
     ]
    },
    {
     "name": "stderr",
     "output_type": "stream",
     "text": [
      "  2%|▏         | 3/200 [00:34<39:29, 12.03s/it]"
     ]
    },
    {
     "name": "stdout",
     "output_type": "stream",
     "text": [
      "results: [-3946.6379378353304, -3934.3510337311513, -12.28690410417903]\n",
      "here\n",
      "model 1 log likelihood = -3965.607275712456, alpha = 3.273200712586914e-08, km = None\n",
      "here\n"
     ]
    },
    {
     "name": "stderr",
     "output_type": "stream",
     "text": [
      "  2%|▏         | 4/200 [00:41<32:26,  9.93s/it]"
     ]
    },
    {
     "name": "stdout",
     "output_type": "stream",
     "text": [
      "results: [-3965.607275712456, -3969.393850565562, 3.786574853105776]\n",
      "here\n",
      "model 1 log likelihood = -3940.885352060506, alpha = 9.749272469493042e-08, km = None\n",
      "here\n"
     ]
    },
    {
     "name": "stderr",
     "output_type": "stream",
     "text": [
      "  2%|▎         | 5/200 [00:47<27:44,  8.54s/it]"
     ]
    },
    {
     "name": "stdout",
     "output_type": "stream",
     "text": [
      "results: [-3940.885352060506, -3938.284341563145, -2.6010104973611305]\n",
      "here\n",
      "here\n",
      "model 1 log likelihood = -3951.219920385343, alpha = 3.747067750989115e-08, km = None\n",
      "here\n",
      "here\n",
      "here\n"
     ]
    },
    {
     "name": "stderr",
     "output_type": "stream",
     "text": [
      "  3%|▎         | 6/200 [01:03<35:59, 11.13s/it]"
     ]
    },
    {
     "name": "stdout",
     "output_type": "stream",
     "text": [
      "results: [-3951.219920385343, -6622.887967538137, 2671.668047152794]\n",
      "here\n",
      "model 1 log likelihood = -3949.033613989062, alpha = 6.347496337337892e-08, km = None\n",
      "here\n"
     ]
    },
    {
     "name": "stderr",
     "output_type": "stream",
     "text": [
      "  4%|▎         | 7/200 [01:08<29:41,  9.23s/it]"
     ]
    },
    {
     "name": "stdout",
     "output_type": "stream",
     "text": [
      "results: [-3949.033613989062, -3953.1948700170105, 4.161256027948639]\n",
      "here\n",
      "here\n",
      "model 1 log likelihood = -3952.229194528215, alpha = 4.732344841460763e-08, km = None\n",
      "here\n"
     ]
    },
    {
     "name": "stderr",
     "output_type": "stream",
     "text": [
      "  4%|▍         | 8/200 [01:19<31:10,  9.74s/it]"
     ]
    },
    {
     "name": "stdout",
     "output_type": "stream",
     "text": [
      "results: [-3952.229194528215, -3955.9678358293113, 3.7386413010963224]\n",
      "here\n",
      "model 1 log likelihood = -3943.6952618979603, alpha = 8.184748290786544e-08, km = None\n",
      "here\n"
     ]
    },
    {
     "name": "stderr",
     "output_type": "stream",
     "text": [
      "  4%|▍         | 9/200 [01:26<28:18,  8.89s/it]"
     ]
    },
    {
     "name": "stdout",
     "output_type": "stream",
     "text": [
      "results: [-3943.6952618979603, -3947.881704723342, 4.186442825381619]\n",
      "here\n",
      "model 1 log likelihood = -3956.5933110725987, alpha = 8.82822619216578e-09, km = None\n",
      "here\n",
      "here\n"
     ]
    },
    {
     "name": "stderr",
     "output_type": "stream",
     "text": [
      "  5%|▌         | 10/200 [01:35<28:29,  9.00s/it]"
     ]
    },
    {
     "name": "stdout",
     "output_type": "stream",
     "text": [
      "results: [-3956.5933110725987, -3962.0928735383536, 5.499562465754934]\n",
      "here\n",
      "here\n",
      "model 1 log likelihood = -3945.648465572678, alpha = 9.121671962114852e-08, km = None\n",
      "here\n"
     ]
    },
    {
     "name": "stderr",
     "output_type": "stream",
     "text": [
      "  6%|▌         | 11/200 [01:48<31:29, 10.00s/it]"
     ]
    },
    {
     "name": "stdout",
     "output_type": "stream",
     "text": [
      "results: [-3945.648465572678, -3949.5439324556673, 3.89546688298924]\n",
      "here\n",
      "model 1 log likelihood = -3946.1073145284613, alpha = 2.951324783534991e-08, km = None\n",
      "here\n"
     ]
    },
    {
     "name": "stderr",
     "output_type": "stream",
     "text": [
      "  6%|▌         | 12/200 [01:53<26:34,  8.48s/it]"
     ]
    },
    {
     "name": "stdout",
     "output_type": "stream",
     "text": [
      "results: [-3946.1073145284613, -3950.180334620506, 4.0730200920447714]\n",
      "here\n",
      "model 1 log likelihood = -3943.2929061954947, alpha = 7.382590493588812e-08, km = None\n",
      "here\n"
     ]
    },
    {
     "name": "stderr",
     "output_type": "stream",
     "text": [
      "  6%|▋         | 13/200 [01:59<24:02,  7.71s/it]"
     ]
    },
    {
     "name": "stdout",
     "output_type": "stream",
     "text": [
      "results: [-3943.2929061954947, -3947.366846119314, 4.073939923819125]\n",
      "here\n",
      "model 1 log likelihood = -3976.790299023726, alpha = 8.599833868306151e-08, km = None\n",
      "here\n",
      "here\n"
     ]
    },
    {
     "name": "stderr",
     "output_type": "stream",
     "text": [
      "  7%|▋         | 14/200 [02:06<23:54,  7.71s/it]"
     ]
    },
    {
     "name": "stdout",
     "output_type": "stream",
     "text": [
      "results: [-3976.790299023726, -3982.2966880014733, 5.506388977747065]\n",
      "here\n",
      "here\n",
      "model 1 log likelihood = -3936.466851520798, alpha = 6.923360899393762e-08, km = None\n",
      "here\n",
      "here\n"
     ]
    },
    {
     "name": "stderr",
     "output_type": "stream",
     "text": [
      "  8%|▊         | 15/200 [02:18<27:49,  9.03s/it]"
     ]
    },
    {
     "name": "stdout",
     "output_type": "stream",
     "text": [
      "results: [-3936.466851520798, -3941.958278599547, 5.491427078748984]\n",
      "here\n",
      "model 1 log likelihood = -3965.544257029988, alpha = 6.503097537692595e-08, km = None\n",
      "here\n",
      "here\n"
     ]
    },
    {
     "name": "stderr",
     "output_type": "stream",
     "text": [
      "  8%|▊         | 16/200 [02:26<26:09,  8.53s/it]"
     ]
    },
    {
     "name": "stdout",
     "output_type": "stream",
     "text": [
      "results: [-3965.544257029988, -3971.0456532281887, 5.501396198200837]\n",
      "here\n",
      "here\n",
      "model 1 log likelihood = -3963.99163396076, alpha = 9.440820233644371e-08, km = None\n",
      "here\n"
     ]
    },
    {
     "name": "stderr",
     "output_type": "stream",
     "text": [
      "  8%|▊         | 17/200 [02:36<27:55,  9.16s/it]"
     ]
    },
    {
     "name": "stdout",
     "output_type": "stream",
     "text": [
      "results: [-3963.99163396076, -3963.991510820737, -0.00012314002287894255]\n",
      "here\n",
      "here\n",
      "model 1 log likelihood = -3950.924493041504, alpha = 7.632114059106601e-10, km = None\n",
      "here\n",
      "here\n"
     ]
    },
    {
     "name": "stderr",
     "output_type": "stream",
     "text": [
      "  9%|▉         | 18/200 [02:51<32:37, 10.76s/it]"
     ]
    },
    {
     "name": "stdout",
     "output_type": "stream",
     "text": [
      "results: [-3950.924493041504, -3956.4279280897076, 5.503435048203755]\n",
      "here\n",
      "here\n",
      "model 1 log likelihood = -3950.102899269288, alpha = 3.6447441178334205e-08, km = None\n",
      "here\n"
     ]
    },
    {
     "name": "stderr",
     "output_type": "stream",
     "text": [
      " 10%|▉         | 19/200 [03:04<34:07, 11.31s/it]"
     ]
    },
    {
     "name": "stdout",
     "output_type": "stream",
     "text": [
      "results: [-3950.102899269288, -3944.3434453610757, -5.759453908212436]\n",
      "here\n",
      "model 1 log likelihood = -3945.2716943669075, alpha = 5.577892940265922e-08, km = None\n",
      "here\n"
     ]
    },
    {
     "name": "stderr",
     "output_type": "stream",
     "text": [
      " 10%|█         | 20/200 [03:13<32:08, 10.71s/it]"
     ]
    },
    {
     "name": "stdout",
     "output_type": "stream",
     "text": [
      "results: [-3945.2716943669075, -3945.4811234172657, 0.20942905035826698]\n",
      "here\n",
      "here\n",
      "model 1 log likelihood = -3943.435240188297, alpha = 1.1715913669002107e-08, km = None\n",
      "here\n",
      "here\n"
     ]
    },
    {
     "name": "stderr",
     "output_type": "stream",
     "text": [
      " 10%|█         | 21/200 [03:29<37:05, 12.43s/it]"
     ]
    },
    {
     "name": "stdout",
     "output_type": "stream",
     "text": [
      "results: [-3943.435240188297, -3948.9296934263944, 5.4944532380973214]\n",
      "here\n",
      "here\n",
      "model 1 log likelihood = -3948.625959063516, alpha = 7.473850169682667e-08, km = None\n",
      "here\n",
      "here\n"
     ]
    },
    {
     "name": "stderr",
     "output_type": "stream",
     "text": [
      " 11%|█         | 22/200 [03:44<38:35, 13.01s/it]"
     ]
    },
    {
     "name": "stdout",
     "output_type": "stream",
     "text": [
      "results: [-3948.625959063516, -3954.120349332627, 5.494390269111136]\n",
      "here\n",
      "model 1 log likelihood = -3941.0751887061533, alpha = 3.8672349377262565e-08, km = None\n",
      "here\n"
     ]
    },
    {
     "name": "stderr",
     "output_type": "stream",
     "text": [
      " 12%|█▏        | 23/200 [03:53<34:44, 11.78s/it]"
     ]
    },
    {
     "name": "stdout",
     "output_type": "stream",
     "text": [
      "results: [-3941.0751887061533, -3941.044552255375, -0.030636450778274593]\n",
      "here\n",
      "here\n",
      "here\n",
      "here\n",
      "model 1 log likelihood = -3953.9125126627864, alpha = 1.991287293273574e-08, km = None\n",
      "here\n"
     ]
    },
    {
     "name": "stderr",
     "output_type": "stream",
     "text": [
      " 12%|█▏        | 24/200 [04:13<42:13, 14.39s/it]"
     ]
    },
    {
     "name": "stdout",
     "output_type": "stream",
     "text": [
      "results: [-3953.9125126627864, -3740.1701484247437, -213.74236423804268]\n",
      "here\n",
      "model 1 log likelihood = -3942.0978239289566, alpha = 4.8609804549710784e-08, km = None\n",
      "here\n"
     ]
    },
    {
     "name": "stderr",
     "output_type": "stream",
     "text": [
      " 12%|█▎        | 25/200 [04:19<34:38, 11.88s/it]"
     ]
    },
    {
     "name": "stdout",
     "output_type": "stream",
     "text": [
      "results: [-3942.0978239289566, -3945.137401415584, 3.0395774866274223]\n",
      "here\n",
      "model 1 log likelihood = -3978.404610256193, alpha = 9.456873506988577e-08, km = None\n",
      "here\n"
     ]
    },
    {
     "name": "stderr",
     "output_type": "stream",
     "text": [
      " 13%|█▎        | 26/200 [04:27<30:37, 10.56s/it]"
     ]
    },
    {
     "name": "stdout",
     "output_type": "stream",
     "text": [
      "results: [-3978.404610256193, -3979.4073518090804, 1.002741552887528]\n",
      "here\n",
      "model 1 log likelihood = -3975.091687385015, alpha = 6.640563402586327e-08, km = None\n",
      "here\n",
      "here\n"
     ]
    },
    {
     "name": "stderr",
     "output_type": "stream",
     "text": [
      " 14%|█▎        | 27/200 [04:36<29:47, 10.33s/it]"
     ]
    },
    {
     "name": "stdout",
     "output_type": "stream",
     "text": [
      "results: [-3975.091687385015, -3980.5971375526547, 5.5054501676395375]\n",
      "here\n",
      "model 1 log likelihood = -3943.625181054673, alpha = 5.2033793585703806e-08, km = None\n",
      "here\n"
     ]
    },
    {
     "name": "stderr",
     "output_type": "stream",
     "text": [
      " 14%|█▍        | 28/200 [04:43<26:15,  9.16s/it]"
     ]
    },
    {
     "name": "stdout",
     "output_type": "stream",
     "text": [
      "results: [-3943.625181054673, -3947.8330532287755, 4.207872174102704]\n",
      "here\n",
      "model 1 log likelihood = -3916.8019261481477, alpha = 4.66051745692204e-08, km = None\n",
      "here\n"
     ]
    },
    {
     "name": "stderr",
     "output_type": "stream",
     "text": [
      " 14%|█▍        | 29/200 [04:49<23:38,  8.30s/it]"
     ]
    },
    {
     "name": "stdout",
     "output_type": "stream",
     "text": [
      "results: [-3916.8019261481477, -3920.6026460299877, 3.8007198818399957]\n",
      "here\n",
      "here\n",
      "model 1 log likelihood = -3953.847792726358, alpha = 1.0347550021641413e-07, km = None\n",
      "here\n",
      "here\n",
      "here\n"
     ]
    },
    {
     "name": "stderr",
     "output_type": "stream",
     "text": [
      " 15%|█▌        | 30/200 [05:07<31:53, 11.26s/it]"
     ]
    },
    {
     "name": "stdout",
     "output_type": "stream",
     "text": [
      "results: [-3953.847792726358, -6645.233310439711, 2691.3855177133532]\n",
      "here\n",
      "model 1 log likelihood = -3941.2156953473677, alpha = 1.3756108041522878e-07, km = None\n",
      "here\n"
     ]
    },
    {
     "name": "stderr",
     "output_type": "stream",
     "text": [
      " 16%|█▌        | 31/200 [05:13<27:17,  9.69s/it]"
     ]
    },
    {
     "name": "stdout",
     "output_type": "stream",
     "text": [
      "results: [-3941.2156953473677, -3945.433507615137, 4.2178122677692045]\n",
      "here\n",
      "model 1 log likelihood = -3963.346354324622, alpha = 3.960745084924609e-09, km = None\n",
      "here\n"
     ]
    },
    {
     "name": "stderr",
     "output_type": "stream",
     "text": [
      " 16%|█▌        | 32/200 [05:19<24:08,  8.62s/it]"
     ]
    },
    {
     "name": "stdout",
     "output_type": "stream",
     "text": [
      "results: [-3963.346354324622, -3967.6838510913653, 4.337496766743243]\n",
      "here\n",
      "model 1 log likelihood = -3949.9646781229185, alpha = 7.392428282179519e-08, km = None\n",
      "here\n",
      "here\n"
     ]
    },
    {
     "name": "stderr",
     "output_type": "stream",
     "text": [
      " 16%|█▋        | 33/200 [05:28<24:14,  8.71s/it]"
     ]
    },
    {
     "name": "stdout",
     "output_type": "stream",
     "text": [
      "results: [-3949.9646781229185, -3955.460617402745, 5.495939279826416]\n",
      "here\n",
      "model 1 log likelihood = -3943.0111989073434, alpha = 8.805972214858007e-12, km = None\n",
      "here\n"
     ]
    },
    {
     "name": "stderr",
     "output_type": "stream",
     "text": [
      " 17%|█▋        | 34/200 [05:35<22:28,  8.12s/it]"
     ]
    },
    {
     "name": "stdout",
     "output_type": "stream",
     "text": [
      "results: [-3943.0111989073434, -3944.251507737779, 1.2403088304354242]\n",
      "here\n",
      "model 1 log likelihood = -3966.507478201607, alpha = 9.693486350825199e-08, km = None\n",
      "here\n"
     ]
    },
    {
     "name": "stderr",
     "output_type": "stream",
     "text": [
      " 18%|█▊        | 35/200 [05:41<20:53,  7.60s/it]"
     ]
    },
    {
     "name": "stdout",
     "output_type": "stream",
     "text": [
      "results: [-3966.507478201607, -3970.9461287939034, 4.4386505922966535]\n",
      "here\n",
      "model 1 log likelihood = -3935.9200573773087, alpha = 3.152738045667037e-08, km = None\n",
      "here\n"
     ]
    },
    {
     "name": "stderr",
     "output_type": "stream",
     "text": [
      " 18%|█▊        | 36/200 [05:47<19:17,  7.06s/it]"
     ]
    },
    {
     "name": "stdout",
     "output_type": "stream",
     "text": [
      "results: [-3935.9200573773087, -3940.069911763771, 4.149854386462266]\n",
      "here\n",
      "here\n",
      "model 1 log likelihood = -3953.513293033856, alpha = 6.185583062853733e-08, km = None\n",
      "here\n",
      "here\n"
     ]
    },
    {
     "name": "stderr",
     "output_type": "stream",
     "text": [
      " 18%|█▊        | 37/200 [06:04<27:22, 10.08s/it]"
     ]
    },
    {
     "name": "stdout",
     "output_type": "stream",
     "text": [
      "results: [-3953.513293033856, -3959.0097215443743, 5.496428510518399]\n",
      "here\n",
      "model 1 log likelihood = -3948.734971961178, alpha = 6.540768016565445e-08, km = None\n",
      "here\n",
      "here\n"
     ]
    },
    {
     "name": "stderr",
     "output_type": "stream",
     "text": [
      " 19%|█▉        | 38/200 [06:13<25:55,  9.60s/it]"
     ]
    },
    {
     "name": "stdout",
     "output_type": "stream",
     "text": [
      "results: [-3948.734971961178, -3954.230051331275, 5.495079370096846]\n",
      "here\n",
      "here\n",
      "model 1 log likelihood = -3942.77794553528, alpha = 1.4441855092949115e-07, km = None\n",
      "here\n",
      "here\n"
     ]
    },
    {
     "name": "stderr",
     "output_type": "stream",
     "text": [
      " 20%|█▉        | 39/200 [06:25<28:06, 10.48s/it]"
     ]
    },
    {
     "name": "stdout",
     "output_type": "stream",
     "text": [
      "results: [-3942.77794553528, -3948.270484518552, 5.49253898327197]\n",
      "here\n",
      "model 1 log likelihood = -3948.5194529881783, alpha = 9.105869580132956e-08, km = None\n",
      "here\n"
     ]
    },
    {
     "name": "stderr",
     "output_type": "stream",
     "text": [
      " 20%|██        | 40/200 [06:31<23:52,  8.95s/it]"
     ]
    },
    {
     "name": "stdout",
     "output_type": "stream",
     "text": [
      "results: [-3948.5194529881783, -3948.4734613685223, -0.045991619655978866]\n",
      "here\n",
      "model 1 log likelihood = -3971.8428871562332, alpha = 5.008358795702587e-08, km = None\n",
      "here\n",
      "here\n",
      "here\n",
      "here\n",
      "here\n"
     ]
    },
    {
     "name": "stderr",
     "output_type": "stream",
     "text": [
      " 20%|██        | 41/200 [06:47<29:10, 11.01s/it]"
     ]
    },
    {
     "name": "stdout",
     "output_type": "stream",
     "text": [
      "results: [-3971.8428871562332, -5400.928510996262, 1429.0856238400288]\n",
      "here\n",
      "here\n",
      "model 1 log likelihood = -3966.705339747076, alpha = 6.335592737884163e-09, km = None\n",
      "here\n"
     ]
    },
    {
     "name": "stderr",
     "output_type": "stream",
     "text": [
      " 21%|██        | 42/200 [06:57<28:40, 10.89s/it]"
     ]
    },
    {
     "name": "stdout",
     "output_type": "stream",
     "text": [
      "results: [-3966.705339747076, -3970.9894293358157, 4.284089588739789]\n",
      "here\n",
      "model 1 log likelihood = -3950.363330196677, alpha = 1.3235832308726915e-07, km = None\n",
      "here\n"
     ]
    },
    {
     "name": "stderr",
     "output_type": "stream",
     "text": [
      " 22%|██▏       | 43/200 [07:03<24:13,  9.26s/it]"
     ]
    },
    {
     "name": "stdout",
     "output_type": "stream",
     "text": [
      "results: [-3950.363330196677, -3954.0632814819, 3.699951285223051]\n",
      "here\n",
      "model 1 log likelihood = -3959.6171752724604, alpha = 4.8737435567183596e-08, km = None\n",
      "here\n",
      "here\n",
      "here\n"
     ]
    },
    {
     "name": "stderr",
     "output_type": "stream",
     "text": [
      " 22%|██▏       | 44/200 [07:12<24:12,  9.31s/it]"
     ]
    },
    {
     "name": "stdout",
     "output_type": "stream",
     "text": [
      "results: [-3959.6171752724604, -6651.187920981462, 2691.570745709002]\n",
      "here\n",
      "model 1 log likelihood = -3949.9313388248465, alpha = 6.414936348651546e-08, km = None\n",
      "here\n",
      "here\n",
      "here\n"
     ]
    },
    {
     "name": "stderr",
     "output_type": "stream",
     "text": [
      " 22%|██▎       | 45/200 [07:22<24:46,  9.59s/it]"
     ]
    },
    {
     "name": "stdout",
     "output_type": "stream",
     "text": [
      "results: [-3949.9313388248465, -6621.902194156024, 2671.9708553311775]\n",
      "here\n",
      "model 1 log likelihood = -3949.3648079871605, alpha = 2.6719236386770793e-08, km = None\n",
      "here\n"
     ]
    },
    {
     "name": "stderr",
     "output_type": "stream",
     "text": [
      " 23%|██▎       | 46/200 [07:30<22:47,  8.88s/it]"
     ]
    },
    {
     "name": "stdout",
     "output_type": "stream",
     "text": [
      "results: [-3949.3648079871605, -3942.040923636599, -7.323884350561457]\n",
      "here\n",
      "model 1 log likelihood = -3953.597214001073, alpha = 1.1385325763580888e-07, km = None\n",
      "here\n"
     ]
    },
    {
     "name": "stderr",
     "output_type": "stream",
     "text": [
      " 24%|██▎       | 47/200 [07:34<19:30,  7.65s/it]"
     ]
    },
    {
     "name": "stdout",
     "output_type": "stream",
     "text": [
      "results: [-3953.597214001073, -3957.8113511451625, 4.214137144089364]\n",
      "here\n",
      "model 1 log likelihood = -3951.764178975713, alpha = 4.010561826509696e-09, km = None\n",
      "here\n",
      "here\n",
      "here\n",
      "here\n"
     ]
    },
    {
     "name": "stderr",
     "output_type": "stream",
     "text": [
      " 24%|██▍       | 48/200 [07:48<24:02,  9.49s/it]"
     ]
    },
    {
     "name": "stdout",
     "output_type": "stream",
     "text": [
      "results: [-3951.764178975713, -3613.2068842415965, -338.55729473411657]\n",
      "here\n",
      "model 1 log likelihood = -3957.3914807757674, alpha = 6.264191866611409e-08, km = None\n",
      "here\n"
     ]
    },
    {
     "name": "stderr",
     "output_type": "stream",
     "text": [
      " 24%|██▍       | 49/200 [07:54<20:47,  8.26s/it]"
     ]
    },
    {
     "name": "stdout",
     "output_type": "stream",
     "text": [
      "results: [-3957.3914807757674, -3961.29349382161, 3.902013045842523]\n",
      "here\n",
      "model 1 log likelihood = -3963.6194070478837, alpha = 7.485163695737448e-08, km = None\n",
      "here\n"
     ]
    },
    {
     "name": "stderr",
     "output_type": "stream",
     "text": [
      " 25%|██▌       | 50/200 [07:59<18:47,  7.52s/it]"
     ]
    },
    {
     "name": "stdout",
     "output_type": "stream",
     "text": [
      "results: [-3963.6194070478837, -3967.8307576267384, 4.211350578854763]\n",
      "here\n",
      "model 1 log likelihood = -3950.1670595730643, alpha = 1.4741604887106313e-07, km = None\n",
      "here\n"
     ]
    },
    {
     "name": "stderr",
     "output_type": "stream",
     "text": [
      " 26%|██▌       | 51/200 [08:04<16:45,  6.75s/it]"
     ]
    },
    {
     "name": "stdout",
     "output_type": "stream",
     "text": [
      "results: [-3950.1670595730643, -3954.348907181434, 4.18184760836948]\n",
      "here\n",
      "model 1 log likelihood = -3972.6046035343225, alpha = 1.1332827801709965e-07, km = None\n",
      "here\n"
     ]
    },
    {
     "name": "stderr",
     "output_type": "stream",
     "text": [
      " 26%|██▌       | 52/200 [08:09<15:19,  6.21s/it]"
     ]
    },
    {
     "name": "stdout",
     "output_type": "stream",
     "text": [
      "results: [-3972.6046035343225, -3917.1617598190583, -55.44284371526419]\n",
      "here\n",
      "model 1 log likelihood = -3948.9372456517435, alpha = 9.834300099893838e-08, km = None\n",
      "here\n"
     ]
    },
    {
     "name": "stderr",
     "output_type": "stream",
     "text": [
      " 26%|██▋       | 53/200 [08:15<14:43,  6.01s/it]"
     ]
    },
    {
     "name": "stdout",
     "output_type": "stream",
     "text": [
      "results: [-3948.9372456517435, -3949.4617728817066, 0.5245272299630415]\n",
      "here\n",
      "here\n",
      "model 1 log likelihood = -3947.9765537109774, alpha = 5.204585183090048e-09, km = None\n",
      "here\n",
      "here\n"
     ]
    },
    {
     "name": "stderr",
     "output_type": "stream",
     "text": [
      " 27%|██▋       | 54/200 [08:28<20:11,  8.30s/it]"
     ]
    },
    {
     "name": "stdout",
     "output_type": "stream",
     "text": [
      "results: [-3947.9765537109774, -3953.4720519117677, 5.49549820079028]\n",
      "here\n",
      "here\n",
      "model 1 log likelihood = -3953.7695624251905, alpha = 3.736782017135147e-08, km = None\n",
      "here\n"
     ]
    },
    {
     "name": "stderr",
     "output_type": "stream",
     "text": [
      " 28%|██▊       | 55/200 [08:40<22:15,  9.21s/it]"
     ]
    },
    {
     "name": "stdout",
     "output_type": "stream",
     "text": [
      "results: [-3953.7695624251905, -3630.9072865367543, -322.8622758884362]\n",
      "here\n",
      "here\n",
      "here\n",
      "model 1 log likelihood = -3933.3795820941214, alpha = 1.3478943506261116e-07, km = None\n",
      "here\n",
      "here\n"
     ]
    },
    {
     "name": "stderr",
     "output_type": "stream",
     "text": [
      " 28%|██▊       | 56/200 [08:55<26:37, 11.09s/it]"
     ]
    },
    {
     "name": "stdout",
     "output_type": "stream",
     "text": [
      "results: [-3933.3795820941214, -3938.8687367360585, 5.489154641937148]\n",
      "here\n",
      "model 1 log likelihood = -3944.9972159424938, alpha = 8.349618333265011e-08, km = None\n",
      "here\n"
     ]
    },
    {
     "name": "stderr",
     "output_type": "stream",
     "text": [
      " 28%|██▊       | 57/200 [09:03<24:12, 10.16s/it]"
     ]
    },
    {
     "name": "stdout",
     "output_type": "stream",
     "text": [
      "results: [-3944.9972159424938, -3949.159100183457, 4.161884240963445]\n",
      "here\n",
      "model 1 log likelihood = -3950.0660450029586, alpha = 1.6159035547010773e-07, km = None\n",
      "here\n",
      "here\n",
      "here\n"
     ]
    },
    {
     "name": "stderr",
     "output_type": "stream",
     "text": [
      " 29%|██▉       | 58/200 [09:15<25:04, 10.60s/it]"
     ]
    },
    {
     "name": "stdout",
     "output_type": "stream",
     "text": [
      "results: [-3950.0660450029586, -6624.029437413847, 2673.963392410888]\n",
      "here\n",
      "model 1 log likelihood = -3957.2430762409235, alpha = 4.726713743510188e-08, km = None\n",
      "here\n"
     ]
    },
    {
     "name": "stderr",
     "output_type": "stream",
     "text": [
      " 30%|██▉       | 59/200 [09:22<22:20,  9.51s/it]"
     ]
    },
    {
     "name": "stdout",
     "output_type": "stream",
     "text": [
      "results: [-3957.2430762409235, -3958.877383716065, 1.634307475141668]\n",
      "here\n",
      "model 1 log likelihood = -3946.5087947937773, alpha = 6.184750266034103e-08, km = None\n",
      "here\n",
      "here\n"
     ]
    },
    {
     "name": "stderr",
     "output_type": "stream",
     "text": [
      " 30%|███       | 60/200 [09:30<21:09,  9.07s/it]"
     ]
    },
    {
     "name": "stdout",
     "output_type": "stream",
     "text": [
      "results: [-3946.5087947937773, -3952.0044699244727, 5.4956751306954175]\n",
      "here\n",
      "model 1 log likelihood = -3944.15892135741, alpha = 8.006485865430505e-08, km = None\n",
      "here\n"
     ]
    },
    {
     "name": "stderr",
     "output_type": "stream",
     "text": [
      " 30%|███       | 61/200 [09:36<18:56,  8.18s/it]"
     ]
    },
    {
     "name": "stdout",
     "output_type": "stream",
     "text": [
      "results: [-3944.15892135741, -3886.6524324262537, -57.50648893115613]\n",
      "here\n",
      "model 1 log likelihood = -3949.680228177486, alpha = 8.565189888085253e-08, km = None\n",
      "here\n"
     ]
    },
    {
     "name": "stderr",
     "output_type": "stream",
     "text": [
      " 31%|███       | 62/200 [09:41<16:59,  7.39s/it]"
     ]
    },
    {
     "name": "stdout",
     "output_type": "stream",
     "text": [
      "results: [-3949.680228177486, -3953.653282279742, 3.9730541022563557]\n",
      "here\n",
      "model 1 log likelihood = -3941.8572640872917, alpha = 1.0288035293423615e-07, km = None\n",
      "here\n",
      "here\n"
     ]
    },
    {
     "name": "stderr",
     "output_type": "stream",
     "text": [
      " 32%|███▏      | 63/200 [09:49<17:10,  7.52s/it]"
     ]
    },
    {
     "name": "stdout",
     "output_type": "stream",
     "text": [
      "results: [-3941.8572640872917, -3947.349124436685, 5.4918603493933915]\n",
      "here\n",
      "here\n",
      "model 1 log likelihood = -3951.5916844383187, alpha = 7.910918490795508e-08, km = None\n",
      "here\n"
     ]
    },
    {
     "name": "stderr",
     "output_type": "stream",
     "text": [
      " 32%|███▏      | 64/200 [09:59<18:48,  8.30s/it]"
     ]
    },
    {
     "name": "stdout",
     "output_type": "stream",
     "text": [
      "results: [-3951.5916844383187, -3955.7827890316776, 4.191104593358887]\n",
      "here\n",
      "here\n",
      "model 1 log likelihood = -3945.364977064021, alpha = 9.759671188855332e-08, km = None\n",
      "here\n"
     ]
    },
    {
     "name": "stderr",
     "output_type": "stream",
     "text": [
      " 32%|███▎      | 65/200 [10:12<21:38,  9.62s/it]"
     ]
    },
    {
     "name": "stdout",
     "output_type": "stream",
     "text": [
      "results: [-3945.364977064021, -3945.3294904650556, -0.035486598965235316]\n",
      "here\n",
      "model 1 log likelihood = -3969.265495456614, alpha = 9.638206396156246e-08, km = None\n",
      "here\n",
      "here\n"
     ]
    },
    {
     "name": "stderr",
     "output_type": "stream",
     "text": [
      " 33%|███▎      | 66/200 [10:20<20:22,  9.12s/it]"
     ]
    },
    {
     "name": "stdout",
     "output_type": "stream",
     "text": [
      "results: [-3969.265495456614, -3974.768747915836, 5.503252459221585]\n",
      "here\n",
      "model 1 log likelihood = -3940.5720266680737, alpha = 1.582501297879501e-08, km = None\n",
      "here\n"
     ]
    },
    {
     "name": "stderr",
     "output_type": "stream",
     "text": [
      " 34%|███▎      | 67/200 [10:25<17:15,  7.79s/it]"
     ]
    },
    {
     "name": "stdout",
     "output_type": "stream",
     "text": [
      "results: [-3940.5720266680737, -3944.7373920638147, 4.1653653957409915]\n",
      "here\n",
      "here\n",
      "here\n",
      "model 1 log likelihood = -3964.12226669882, alpha = 1.041586886156391e-07, km = None\n",
      "here\n"
     ]
    },
    {
     "name": "stderr",
     "output_type": "stream",
     "text": [
      " 34%|███▍      | 68/200 [10:38<20:59,  9.54s/it]"
     ]
    },
    {
     "name": "stdout",
     "output_type": "stream",
     "text": [
      "results: [-3964.12226669882, -3968.3838116205397, 4.261544921719633]\n",
      "here\n",
      "model 1 log likelihood = -3938.7102802550617, alpha = 3.2189763747041945e-08, km = None\n",
      "here\n",
      "here\n",
      "here\n"
     ]
    },
    {
     "name": "stderr",
     "output_type": "stream",
     "text": [
      " 34%|███▍      | 69/200 [10:50<21:56, 10.05s/it]"
     ]
    },
    {
     "name": "stdout",
     "output_type": "stream",
     "text": [
      "results: [-3938.7102802550617, -6591.438030766675, 2652.7277505116135]\n",
      "here\n",
      "model 1 log likelihood = -3937.6504333846237, alpha = 1.019777481961145e-07, km = None\n",
      "here\n",
      "here\n"
     ]
    },
    {
     "name": "stderr",
     "output_type": "stream",
     "text": [
      " 35%|███▌      | 70/200 [10:58<20:48,  9.60s/it]"
     ]
    },
    {
     "name": "stdout",
     "output_type": "stream",
     "text": [
      "results: [-3937.6504333846237, -3943.141172834546, 5.49073944992233]\n",
      "here\n",
      "model 1 log likelihood = -3933.163037236811, alpha = 3.958726424576229e-08, km = None\n",
      "here\n",
      "here\n"
     ]
    },
    {
     "name": "stderr",
     "output_type": "stream",
     "text": [
      " 36%|███▌      | 71/200 [11:07<19:50,  9.23s/it]"
     ]
    },
    {
     "name": "stdout",
     "output_type": "stream",
     "text": [
      "results: [-3933.163037236811, -3938.6520646988547, 5.48902746204385]\n",
      "here\n",
      "model 1 log likelihood = -3944.161574183341, alpha = 1.1969193780327901e-09, km = None\n",
      "here\n"
     ]
    },
    {
     "name": "stderr",
     "output_type": "stream",
     "text": [
      " 36%|███▌      | 72/200 [11:12<17:20,  8.13s/it]"
     ]
    },
    {
     "name": "stdout",
     "output_type": "stream",
     "text": [
      "results: [-3944.161574183341, -3948.0125615800866, 3.850987396745495]\n",
      "here\n",
      "model 1 log likelihood = -3965.6471843575973, alpha = 7.938526587037037e-08, km = None\n",
      "here\n",
      "here\n"
     ]
    },
    {
     "name": "stderr",
     "output_type": "stream",
     "text": [
      " 36%|███▋      | 73/200 [11:21<17:41,  8.36s/it]"
     ]
    },
    {
     "name": "stdout",
     "output_type": "stream",
     "text": [
      "results: [-3965.6471843575973, -3971.147721505264, 5.500537147666819]\n",
      "here\n",
      "model 1 log likelihood = -3958.164775193552, alpha = 2.5645102014847702e-08, km = None\n",
      "here\n"
     ]
    },
    {
     "name": "stderr",
     "output_type": "stream",
     "text": [
      " 37%|███▋      | 74/200 [11:27<15:53,  7.57s/it]"
     ]
    },
    {
     "name": "stdout",
     "output_type": "stream",
     "text": [
      "results: [-3958.164775193552, -3946.6031214916165, -11.561653701935484]\n",
      "here\n",
      "model 1 log likelihood = -3972.5425490785997, alpha = 2.6712641970698497e-08, km = None\n",
      "here\n"
     ]
    },
    {
     "name": "stderr",
     "output_type": "stream",
     "text": [
      " 38%|███▊      | 75/200 [11:33<14:41,  7.05s/it]"
     ]
    },
    {
     "name": "stdout",
     "output_type": "stream",
     "text": [
      "results: [-3972.5425490785997, -3976.317774491327, 3.7752254127271954]\n",
      "here\n",
      "here\n",
      "model 1 log likelihood = -3944.8373879701535, alpha = 8.45232234699907e-08, km = None\n",
      "here\n"
     ]
    },
    {
     "name": "stderr",
     "output_type": "stream",
     "text": [
      " 38%|███▊      | 76/200 [11:42<16:16,  7.88s/it]"
     ]
    },
    {
     "name": "stdout",
     "output_type": "stream",
     "text": [
      "results: [-3944.8373879701535, -3947.5892376357815, 2.751849665628015]\n",
      "here\n",
      "here\n",
      "model 1 log likelihood = -3949.2666697996524, alpha = 1.2749200780437448e-07, km = None\n",
      "here\n",
      "here\n"
     ]
    },
    {
     "name": "stderr",
     "output_type": "stream",
     "text": [
      " 38%|███▊      | 77/200 [11:55<19:15,  9.39s/it]"
     ]
    },
    {
     "name": "stdout",
     "output_type": "stream",
     "text": [
      "results: [-3949.2666697996524, -3954.763201475674, 5.496531676021732]\n",
      "here\n",
      "model 1 log likelihood = -3966.067389804352, alpha = 7.67735263885891e-08, km = None\n",
      "here\n",
      "here\n"
     ]
    },
    {
     "name": "stderr",
     "output_type": "stream",
     "text": [
      " 39%|███▉      | 78/200 [12:06<19:43,  9.70s/it]"
     ]
    },
    {
     "name": "stdout",
     "output_type": "stream",
     "text": [
      "results: [-3966.067389804352, -3971.570225034629, 5.5028352302770145]\n",
      "here\n",
      "here\n",
      "model 1 log likelihood = -3942.1488310730533, alpha = 7.214284901412857e-08, km = None\n",
      "here\n",
      "here\n"
     ]
    },
    {
     "name": "stderr",
     "output_type": "stream",
     "text": [
      " 40%|███▉      | 79/200 [12:20<22:16, 11.04s/it]"
     ]
    },
    {
     "name": "stdout",
     "output_type": "stream",
     "text": [
      "results: [-3942.1488310730533, -3947.6426266475423, 5.493795574489013]\n",
      "here\n",
      "here\n",
      "model 1 log likelihood = -3952.843314579642, alpha = 6.108507013814234e-08, km = None\n",
      "here\n",
      "here\n"
     ]
    },
    {
     "name": "stderr",
     "output_type": "stream",
     "text": [
      " 40%|████      | 80/200 [12:37<25:35, 12.80s/it]"
     ]
    },
    {
     "name": "stdout",
     "output_type": "stream",
     "text": [
      "results: [-3952.843314579642, -3958.339706093747, 5.496391514104744]\n",
      "here\n",
      "model 1 log likelihood = -3966.0577397832167, alpha = 6.64046831296192e-08, km = None\n",
      "here\n",
      "here\n"
     ]
    },
    {
     "name": "stderr",
     "output_type": "stream",
     "text": [
      " 40%|████      | 81/200 [12:49<25:08, 12.68s/it]"
     ]
    },
    {
     "name": "stdout",
     "output_type": "stream",
     "text": [
      "results: [-3966.0577397832167, -3971.5585773372186, 5.500837554001919]\n",
      "here\n",
      "here\n",
      "model 1 log likelihood = -3966.2704942844775, alpha = 5.647405978718715e-08, km = None\n",
      "here\n"
     ]
    },
    {
     "name": "stderr",
     "output_type": "stream",
     "text": [
      " 41%|████      | 82/200 [13:08<28:37, 14.55s/it]"
     ]
    },
    {
     "name": "stdout",
     "output_type": "stream",
     "text": [
      "results: [-3966.2704942844775, -3964.5525436794114, -1.7179506050661075]\n",
      "here\n",
      "model 1 log likelihood = -3948.6088870177955, alpha = 4.801107674930247e-08, km = None\n",
      "here\n",
      "here\n"
     ]
    },
    {
     "name": "stderr",
     "output_type": "stream",
     "text": [
      " 42%|████▏     | 83/200 [13:24<29:12, 14.98s/it]"
     ]
    },
    {
     "name": "stdout",
     "output_type": "stream",
     "text": [
      "results: [-3948.6088870177955, -3954.1032444515467, 5.494357433751247]\n",
      "here\n",
      "model 1 log likelihood = -3940.8117555639096, alpha = 7.78660495457209e-08, km = None\n",
      "here\n"
     ]
    },
    {
     "name": "stderr",
     "output_type": "stream",
     "text": [
      " 42%|████▏     | 84/200 [13:33<25:23, 13.13s/it]"
     ]
    },
    {
     "name": "stdout",
     "output_type": "stream",
     "text": [
      "results: [-3940.8117555639096, -3945.0629697733666, 4.251214209456975]\n",
      "here\n",
      "model 1 log likelihood = -3941.7569002173923, alpha = 1.1567788680796766e-07, km = None\n",
      "here\n"
     ]
    },
    {
     "name": "stderr",
     "output_type": "stream",
     "text": [
      " 42%|████▎     | 85/200 [13:41<22:34, 11.78s/it]"
     ]
    },
    {
     "name": "stdout",
     "output_type": "stream",
     "text": [
      "results: [-3941.7569002173923, -3924.007784083671, -17.749116133721145]\n",
      "here\n",
      "model 1 log likelihood = -3940.148256352529, alpha = 6.595787144341912e-08, km = None\n",
      "here\n"
     ]
    },
    {
     "name": "stderr",
     "output_type": "stream",
     "text": [
      " 43%|████▎     | 86/200 [13:49<20:10, 10.62s/it]"
     ]
    },
    {
     "name": "stdout",
     "output_type": "stream",
     "text": [
      "results: [-3940.148256352529, -3944.325370855231, 4.177114502701897]\n",
      "here\n",
      "model 1 log likelihood = -3937.212977482726, alpha = 9.196929524088344e-08, km = None\n",
      "here\n"
     ]
    },
    {
     "name": "stderr",
     "output_type": "stream",
     "text": [
      " 44%|████▎     | 87/200 [13:57<18:15,  9.70s/it]"
     ]
    },
    {
     "name": "stdout",
     "output_type": "stream",
     "text": [
      "results: [-3937.212977482726, -3936.0521041258353, -1.1608733568905336]\n",
      "here\n",
      "here\n",
      "model 1 log likelihood = -3939.261091215626, alpha = 1.0866626268779858e-10, km = None\n",
      "here\n"
     ]
    },
    {
     "name": "stderr",
     "output_type": "stream",
     "text": [
      " 44%|████▍     | 88/200 [14:11<20:28, 10.97s/it]"
     ]
    },
    {
     "name": "stdout",
     "output_type": "stream",
     "text": [
      "results: [-3939.261091215626, -3943.630809427024, 4.369718211397867]\n",
      "here\n",
      "model 1 log likelihood = -3961.9956722179772, alpha = 7.494439103214306e-08, km = None\n",
      "here\n"
     ]
    },
    {
     "name": "stderr",
     "output_type": "stream",
     "text": [
      " 44%|████▍     | 89/200 [14:18<17:59,  9.72s/it]"
     ]
    },
    {
     "name": "stdout",
     "output_type": "stream",
     "text": [
      "results: [-3961.9956722179772, -3909.026015629573, -52.96965658840418]\n",
      "here\n",
      "model 1 log likelihood = -3935.357968203027, alpha = 8.329507231778605e-08, km = None\n",
      "here\n"
     ]
    },
    {
     "name": "stderr",
     "output_type": "stream",
     "text": [
      " 45%|████▌     | 90/200 [14:25<16:22,  8.93s/it]"
     ]
    },
    {
     "name": "stdout",
     "output_type": "stream",
     "text": [
      "results: [-3935.357968203027, -3935.3581502793018, 0.00018207627454103203]\n",
      "here\n",
      "model 1 log likelihood = -3936.28497548256, alpha = 3.011101758354933e-08, km = None\n",
      "here\n"
     ]
    },
    {
     "name": "stderr",
     "output_type": "stream",
     "text": [
      " 46%|████▌     | 91/200 [14:31<14:56,  8.23s/it]"
     ]
    },
    {
     "name": "stdout",
     "output_type": "stream",
     "text": [
      "results: [-3936.28497548256, -3940.2225844362465, 3.937608953686322]\n",
      "here\n",
      "model 1 log likelihood = -3943.7984086923343, alpha = 4.9932478264278846e-08, km = None\n",
      "here\n"
     ]
    },
    {
     "name": "stderr",
     "output_type": "stream",
     "text": [
      " 46%|████▌     | 92/200 [14:38<13:59,  7.77s/it]"
     ]
    },
    {
     "name": "stdout",
     "output_type": "stream",
     "text": [
      "results: [-3943.7984086923343, -3947.6737066047135, 3.87529791237921]\n",
      "here\n",
      "model 1 log likelihood = -3967.3244681335827, alpha = 3.3939312750803474e-12, km = None\n",
      "here\n"
     ]
    },
    {
     "name": "stderr",
     "output_type": "stream",
     "text": [
      " 46%|████▋     | 93/200 [14:46<13:45,  7.72s/it]"
     ]
    },
    {
     "name": "stdout",
     "output_type": "stream",
     "text": [
      "results: [-3967.3244681335827, -3968.3664690526166, 1.0420009190338533]\n",
      "here\n",
      "model 1 log likelihood = -3962.649015999665, alpha = 3.1591039398582766e-08, km = None\n",
      "here\n"
     ]
    },
    {
     "name": "stderr",
     "output_type": "stream",
     "text": [
      " 47%|████▋     | 94/200 [14:52<13:01,  7.38s/it]"
     ]
    },
    {
     "name": "stdout",
     "output_type": "stream",
     "text": [
      "results: [-3962.649015999665, -3962.6516564957747, 0.0026404961095067847]\n",
      "here\n",
      "model 1 log likelihood = -3939.392475995155, alpha = 2.4767966255505553e-08, km = None\n",
      "here\n"
     ]
    },
    {
     "name": "stderr",
     "output_type": "stream",
     "text": [
      " 48%|████▊     | 95/200 [15:00<13:18,  7.60s/it]"
     ]
    },
    {
     "name": "stdout",
     "output_type": "stream",
     "text": [
      "results: [-3939.392475995155, -3943.5511171711264, 4.158641175971297]\n",
      "here\n",
      "model 1 log likelihood = -3947.6996805861163, alpha = 6.030910140764937e-08, km = None\n",
      "here\n"
     ]
    },
    {
     "name": "stderr",
     "output_type": "stream",
     "text": [
      " 48%|████▊     | 96/200 [15:09<13:34,  7.84s/it]"
     ]
    },
    {
     "name": "stdout",
     "output_type": "stream",
     "text": [
      "results: [-3947.6996805861163, 8455.336168532682, -12403.035849118798]\n",
      "here\n",
      "model 1 log likelihood = -3956.689766269819, alpha = 9.905773105184656e-08, km = None\n",
      "here\n"
     ]
    },
    {
     "name": "stderr",
     "output_type": "stream",
     "text": [
      " 48%|████▊     | 97/200 [15:16<12:56,  7.54s/it]"
     ]
    },
    {
     "name": "stdout",
     "output_type": "stream",
     "text": [
      "results: [-3956.689766269819, -3958.906432588731, 2.216666318912303]\n",
      "here\n",
      "model 1 log likelihood = -3959.3744080784177, alpha = 6.640352564884913e-08, km = None\n",
      "here\n"
     ]
    },
    {
     "name": "stderr",
     "output_type": "stream",
     "text": [
      " 49%|████▉     | 98/200 [15:23<12:35,  7.40s/it]"
     ]
    },
    {
     "name": "stdout",
     "output_type": "stream",
     "text": [
      "results: [-3959.3744080784177, -3963.326076227257, 3.951668148839417]\n",
      "here\n",
      "model 1 log likelihood = -3955.4444542505626, alpha = 1.2117582675542798e-07, km = None\n",
      "here\n",
      "here\n"
     ]
    },
    {
     "name": "stderr",
     "output_type": "stream",
     "text": [
      " 50%|████▉     | 99/200 [15:35<15:02,  8.93s/it]"
     ]
    },
    {
     "name": "stdout",
     "output_type": "stream",
     "text": [
      "results: [-3955.4444542505626, -3960.9423657468883, 5.497911496325742]\n",
      "here\n",
      "model 1 log likelihood = -3952.5691790655724, alpha = 7.190381994935457e-08, km = None\n",
      "here\n"
     ]
    },
    {
     "name": "stderr",
     "output_type": "stream",
     "text": [
      " 50%|█████     | 100/200 [15:43<14:18,  8.58s/it]"
     ]
    },
    {
     "name": "stdout",
     "output_type": "stream",
     "text": [
      "results: [-3952.5691790655724, -3948.1886974168765, -4.380481648695877]\n",
      "here\n",
      "model 1 log likelihood = -3978.8886033614504, alpha = 5.449471537233289e-08, km = None\n",
      "here\n"
     ]
    },
    {
     "name": "stderr",
     "output_type": "stream",
     "text": [
      " 50%|█████     | 101/200 [15:51<13:53,  8.42s/it]"
     ]
    },
    {
     "name": "stdout",
     "output_type": "stream",
     "text": [
      "results: [-3978.8886033614504, -3961.4168911530855, -17.471712208364806]\n",
      "here\n",
      "model 1 log likelihood = -3984.6048696018443, alpha = 3.641655428085812e-08, km = None\n",
      "here\n"
     ]
    },
    {
     "name": "stderr",
     "output_type": "stream",
     "text": [
      " 51%|█████     | 102/200 [15:58<13:14,  8.10s/it]"
     ]
    },
    {
     "name": "stdout",
     "output_type": "stream",
     "text": [
      "results: [-3984.6048696018443, -3988.9998363110767, 4.394966709232449]\n",
      "here\n",
      "model 1 log likelihood = -3972.5745322283237, alpha = 1.236305312105207e-07, km = None\n",
      "here\n"
     ]
    },
    {
     "name": "stderr",
     "output_type": "stream",
     "text": [
      " 52%|█████▏    | 103/200 [16:06<12:45,  7.89s/it]"
     ]
    },
    {
     "name": "stdout",
     "output_type": "stream",
     "text": [
      "results: [-3972.5745322283237, -3976.7754081741773, 4.200875945853568]\n",
      "here\n",
      "model 1 log likelihood = -3967.6462143569242, alpha = 6.71066213772527e-08, km = None\n",
      "here\n",
      "here\n"
     ]
    },
    {
     "name": "stderr",
     "output_type": "stream",
     "text": [
      " 52%|█████▏    | 104/200 [16:17<14:13,  8.89s/it]"
     ]
    },
    {
     "name": "stdout",
     "output_type": "stream",
     "text": [
      "results: [-3967.6462143569242, -3973.1401573229386, 5.4939429660144015]\n",
      "here\n",
      "model 1 log likelihood = -3977.147350154263, alpha = 2.3655668238253044e-08, km = None\n",
      "here\n"
     ]
    },
    {
     "name": "stderr",
     "output_type": "stream",
     "text": [
      " 52%|█████▎    | 105/200 [16:27<14:24,  9.10s/it]"
     ]
    },
    {
     "name": "stdout",
     "output_type": "stream",
     "text": [
      "results: [-3977.147350154263, -3977.072649717941, -0.0747004363220185]\n",
      "here\n",
      "model 1 log likelihood = -3983.3410686351745, alpha = 1.3170423753891347e-08, km = None\n",
      "here\n"
     ]
    },
    {
     "name": "stderr",
     "output_type": "stream",
     "text": [
      " 53%|█████▎    | 106/200 [16:35<13:45,  8.78s/it]"
     ]
    },
    {
     "name": "stdout",
     "output_type": "stream",
     "text": [
      "results: [-3983.3410686351745, -3987.4610470150587, 4.119978379884287]\n",
      "here\n",
      "model 1 log likelihood = -3966.1485510309785, alpha = 2.5464277616608e-08, km = None\n",
      "here\n"
     ]
    },
    {
     "name": "stderr",
     "output_type": "stream",
     "text": [
      " 54%|█████▎    | 107/200 [16:42<13:10,  8.50s/it]"
     ]
    },
    {
     "name": "stdout",
     "output_type": "stream",
     "text": [
      "results: [-3966.1485510309785, -3970.1837056879676, 4.035154656989107]\n",
      "here\n",
      "here\n",
      "here\n",
      "model 1 log likelihood = -3978.722874973603, alpha = 1.4397983076113466e-07, km = None\n",
      "here\n"
     ]
    },
    {
     "name": "stderr",
     "output_type": "stream",
     "text": [
      " 54%|█████▍    | 108/200 [16:59<16:41, 10.89s/it]"
     ]
    },
    {
     "name": "stdout",
     "output_type": "stream",
     "text": [
      "results: [-3978.722874973603, -3982.6716459757517, 3.9487710021485327]\n",
      "here\n",
      "model 1 log likelihood = -3982.886963349251, alpha = 1.728979580392189e-08, km = None\n",
      "here\n",
      "here\n"
     ]
    },
    {
     "name": "stderr",
     "output_type": "stream",
     "text": [
      " 55%|█████▍    | 109/200 [17:08<15:43, 10.37s/it]"
     ]
    },
    {
     "name": "stdout",
     "output_type": "stream",
     "text": [
      "results: [-3982.886963349251, -3988.3866074950674, 5.499644145816546]\n",
      "here\n",
      "model 1 log likelihood = -3980.681216377649, alpha = 6.288500794978298e-08, km = None\n",
      "here\n"
     ]
    },
    {
     "name": "stderr",
     "output_type": "stream",
     "text": [
      " 55%|█████▌    | 110/200 [17:15<13:53,  9.27s/it]"
     ]
    },
    {
     "name": "stdout",
     "output_type": "stream",
     "text": [
      "results: [-3980.681216377649, -3983.640772263276, 2.9595558856271964]\n",
      "here\n",
      "model 1 log likelihood = -3969.7599410052935, alpha = 1.201879145549067e-07, km = None\n",
      "here\n"
     ]
    },
    {
     "name": "stderr",
     "output_type": "stream",
     "text": [
      " 56%|█████▌    | 111/200 [17:21<12:22,  8.35s/it]"
     ]
    },
    {
     "name": "stdout",
     "output_type": "stream",
     "text": [
      "results: [-3969.7599410052935, -3969.7598458915586, -9.51137349147757e-05]\n",
      "here\n",
      "model 1 log likelihood = -3976.7009860674925, alpha = 6.075244925440771e-08, km = None\n",
      "here\n"
     ]
    },
    {
     "name": "stderr",
     "output_type": "stream",
     "text": [
      " 56%|█████▌    | 112/200 [17:26<10:49,  7.38s/it]"
     ]
    },
    {
     "name": "stdout",
     "output_type": "stream",
     "text": [
      "results: [-3976.7009860674925, -3981.1186712234794, 4.417685155986874]\n",
      "here\n",
      "model 1 log likelihood = -3980.483600094771, alpha = 1.037879992475805e-07, km = None\n",
      "here\n",
      "here\n",
      "here\n"
     ]
    },
    {
     "name": "stderr",
     "output_type": "stream",
     "text": [
      " 56%|█████▋    | 113/200 [17:37<12:05,  8.34s/it]"
     ]
    },
    {
     "name": "stdout",
     "output_type": "stream",
     "text": [
      "results: [-3980.483600094771, -4038.401446555862, 57.9178464610909]\n",
      "here\n",
      "here\n",
      "model 1 log likelihood = -3985.7066454878423, alpha = 6.433537531390073e-08, km = None\n",
      "here\n"
     ]
    },
    {
     "name": "stderr",
     "output_type": "stream",
     "text": [
      " 57%|█████▋    | 114/200 [17:47<12:45,  8.90s/it]"
     ]
    },
    {
     "name": "stdout",
     "output_type": "stream",
     "text": [
      "results: [-3985.7066454878423, -3988.8811243194077, 3.174478831565466]\n",
      "here\n",
      "model 1 log likelihood = -3972.5614111865434, alpha = 3.9935974831730105e-08, km = None\n",
      "here\n"
     ]
    },
    {
     "name": "stderr",
     "output_type": "stream",
     "text": [
      " 57%|█████▊    | 115/200 [17:53<11:22,  8.03s/it]"
     ]
    },
    {
     "name": "stdout",
     "output_type": "stream",
     "text": [
      "results: [-3972.5614111865434, -3976.6379583974012, 4.076547210857825]\n",
      "here\n",
      "model 1 log likelihood = -3971.1947214476027, alpha = 6.221470406400952e-08, km = None\n",
      "here\n"
     ]
    },
    {
     "name": "stderr",
     "output_type": "stream",
     "text": [
      " 58%|█████▊    | 116/200 [18:01<11:28,  8.19s/it]"
     ]
    },
    {
     "name": "stdout",
     "output_type": "stream",
     "text": [
      "results: [-3971.1947214476027, 11480.185668700371, -15451.380390147973]\n",
      "here\n",
      "model 1 log likelihood = -3982.362959173606, alpha = 9.429989198566735e-08, km = None\n",
      "here\n",
      "here\n"
     ]
    },
    {
     "name": "stderr",
     "output_type": "stream",
     "text": [
      " 58%|█████▊    | 117/200 [18:12<12:23,  8.96s/it]"
     ]
    },
    {
     "name": "stdout",
     "output_type": "stream",
     "text": [
      "results: [-3982.362959173606, -3987.8624542996713, 5.499495126065085]\n",
      "here\n",
      "model 1 log likelihood = -3986.1661986670165, alpha = 1.0795390416937768e-07, km = None\n",
      "here\n"
     ]
    },
    {
     "name": "stderr",
     "output_type": "stream",
     "text": [
      " 59%|█████▉    | 118/200 [18:19<11:27,  8.39s/it]"
     ]
    },
    {
     "name": "stdout",
     "output_type": "stream",
     "text": [
      "results: [-3986.1661986670165, -3990.509973600421, 4.343774933404347]\n",
      "here\n",
      "model 1 log likelihood = -3978.987130308617, alpha = 9.839254589267293e-11, km = None\n",
      "here\n",
      "here\n",
      "here\n"
     ]
    },
    {
     "name": "stderr",
     "output_type": "stream",
     "text": [
      " 60%|█████▉    | 119/200 [18:32<12:59,  9.62s/it]"
     ]
    },
    {
     "name": "stdout",
     "output_type": "stream",
     "text": [
      "results: [-3978.987130308617, 329163.6039321905, -333142.59106249915]\n",
      "here\n",
      "here\n",
      "model 1 log likelihood = -3982.071419513492, alpha = 5.934880916436751e-08, km = None\n",
      "here\n",
      "here\n"
     ]
    },
    {
     "name": "stderr",
     "output_type": "stream",
     "text": [
      " 60%|██████    | 120/200 [18:46<14:31, 10.90s/it]"
     ]
    },
    {
     "name": "stdout",
     "output_type": "stream",
     "text": [
      "results: [-3982.071419513492, -3987.5695142288623, 5.498094715370371]\n",
      "here\n",
      "model 1 log likelihood = -3965.514341739957, alpha = 3.735490876580926e-08, km = None\n",
      "here\n",
      "here\n"
     ]
    },
    {
     "name": "stderr",
     "output_type": "stream",
     "text": [
      " 60%|██████    | 121/200 [18:55<13:51, 10.52s/it]"
     ]
    },
    {
     "name": "stdout",
     "output_type": "stream",
     "text": [
      "results: [-3965.514341739957, -3971.0087964827035, 5.494454742746257]\n",
      "here\n",
      "model 1 log likelihood = -3962.6871199733746, alpha = 5.354542437726623e-13, km = None\n",
      "here\n",
      "here\n",
      "here\n"
     ]
    },
    {
     "name": "stderr",
     "output_type": "stream",
     "text": [
      " 61%|██████    | 122/200 [19:06<13:49, 10.63s/it]"
     ]
    },
    {
     "name": "stdout",
     "output_type": "stream",
     "text": [
      "results: [-3962.6871199733746, -6651.132084514013, 2688.444964540638]\n",
      "here\n",
      "model 1 log likelihood = -3983.7244792699144, alpha = 6.035888007397923e-08, km = None\n",
      "here\n",
      "here\n"
     ]
    },
    {
     "name": "stderr",
     "output_type": "stream",
     "text": [
      " 62%|██████▏   | 123/200 [19:15<12:53, 10.05s/it]"
     ]
    },
    {
     "name": "stdout",
     "output_type": "stream",
     "text": [
      "results: [-3983.7244792699144, -3989.2200736324426, 5.495594362528209]\n",
      "here\n",
      "here\n",
      "model 1 log likelihood = -3973.0211408823598, alpha = 7.441919910101913e-08, km = None\n",
      "here\n"
     ]
    },
    {
     "name": "stderr",
     "output_type": "stream",
     "text": [
      " 62%|██████▏   | 124/200 [19:27<13:33, 10.70s/it]"
     ]
    },
    {
     "name": "stdout",
     "output_type": "stream",
     "text": [
      "results: [-3973.0211408823598, -3976.7832890633254, 3.762148180965596]\n",
      "here\n",
      "here\n",
      "model 1 log likelihood = -3975.09898305863, alpha = 4.845437808719708e-08, km = None\n",
      "here\n"
     ]
    },
    {
     "name": "stderr",
     "output_type": "stream",
     "text": [
      " 62%|██████▎   | 125/200 [19:38<13:31, 10.82s/it]"
     ]
    },
    {
     "name": "stdout",
     "output_type": "stream",
     "text": [
      "results: [-3975.09898305863, -3979.118921251378, 4.019938192748214]\n",
      "here\n",
      "model 1 log likelihood = -3968.077377010955, alpha = 1.3187542307959532e-07, km = None\n",
      "here\n"
     ]
    },
    {
     "name": "stderr",
     "output_type": "stream",
     "text": [
      " 63%|██████▎   | 126/200 [19:44<11:22,  9.22s/it]"
     ]
    },
    {
     "name": "stdout",
     "output_type": "stream",
     "text": [
      "results: [-3968.077377010955, -3969.2691563416674, 1.1917793307125066]\n",
      "here\n",
      "model 1 log likelihood = -3979.7219494722867, alpha = 3.760682041538503e-08, km = None\n",
      "here\n",
      "here\n"
     ]
    },
    {
     "name": "stderr",
     "output_type": "stream",
     "text": [
      " 64%|██████▎   | 127/200 [19:52<10:45,  8.84s/it]"
     ]
    },
    {
     "name": "stdout",
     "output_type": "stream",
     "text": [
      "results: [-3979.7219494722867, -3985.220452250938, 5.498502778651073]\n",
      "here\n",
      "model 1 log likelihood = -3971.4231455215163, alpha = 1.352389022452024e-07, km = None\n",
      "here\n",
      "here\n"
     ]
    },
    {
     "name": "stderr",
     "output_type": "stream",
     "text": [
      " 64%|██████▍   | 128/200 [20:01<10:42,  8.93s/it]"
     ]
    },
    {
     "name": "stdout",
     "output_type": "stream",
     "text": [
      "results: [-3971.4231455215163, -3976.916891995841, 5.49374647432478]\n",
      "here\n",
      "model 1 log likelihood = -3971.195918268134, alpha = 9.922853543773779e-08, km = None\n",
      "here\n",
      "here\n"
     ]
    },
    {
     "name": "stderr",
     "output_type": "stream",
     "text": [
      " 64%|██████▍   | 129/200 [20:09<10:16,  8.68s/it]"
     ]
    },
    {
     "name": "stdout",
     "output_type": "stream",
     "text": [
      "results: [-3971.195918268134, -3976.6901335853668, 5.494215317232829]\n",
      "here\n",
      "model 1 log likelihood = -3970.262708817611, alpha = 6.151257623650465e-08, km = None\n",
      "here\n",
      "here\n"
     ]
    },
    {
     "name": "stderr",
     "output_type": "stream",
     "text": [
      " 65%|██████▌   | 130/200 [20:16<09:41,  8.31s/it]"
     ]
    },
    {
     "name": "stdout",
     "output_type": "stream",
     "text": [
      "results: [-3970.262708817611, -3975.758553893789, 5.495845076178284]\n",
      "here\n",
      "here\n",
      "model 1 log likelihood = -3963.3873933272744, alpha = 9.245578432509147e-08, km = None\n",
      "here\n",
      "here\n"
     ]
    },
    {
     "name": "stderr",
     "output_type": "stream",
     "text": [
      " 66%|██████▌   | 131/200 [20:30<11:17,  9.82s/it]"
     ]
    },
    {
     "name": "stdout",
     "output_type": "stream",
     "text": [
      "results: [-3963.3873933272744, -3968.8781800564616, 5.490786729187221]\n",
      "here\n",
      "model 1 log likelihood = -3982.597201169091, alpha = 6.475652943930541e-08, km = None\n",
      "here\n"
     ]
    },
    {
     "name": "stderr",
     "output_type": "stream",
     "text": [
      " 66%|██████▌   | 132/200 [20:36<10:03,  8.88s/it]"
     ]
    },
    {
     "name": "stdout",
     "output_type": "stream",
     "text": [
      "results: [-3982.597201169091, -3981.2800583104954, -1.3171428585956164]\n",
      "here\n",
      "model 1 log likelihood = -3983.060947816375, alpha = 1.1428178821690814e-08, km = None\n",
      "here\n",
      "here\n"
     ]
    },
    {
     "name": "stderr",
     "output_type": "stream",
     "text": [
      " 66%|██████▋   | 133/200 [20:46<10:04,  9.02s/it]"
     ]
    },
    {
     "name": "stdout",
     "output_type": "stream",
     "text": [
      "results: [-3983.060947816375, -3988.5617718023886, 5.500823986013529]\n",
      "here\n",
      "here\n",
      "model 1 log likelihood = 1698.5232486973705, alpha = 1.7832294502072354e-15, km = None\n",
      "here\n"
     ]
    },
    {
     "name": "stderr",
     "output_type": "stream",
     "text": [
      " 67%|██████▋   | 134/200 [20:57<10:43,  9.75s/it]"
     ]
    },
    {
     "name": "stdout",
     "output_type": "stream",
     "text": [
      "results: [1698.5232486973705, -3778.8395649934046, 5477.3628136907755]\n",
      "here\n",
      "here\n",
      "model 1 log likelihood = -3974.4766856778742, alpha = 1.2691859586681135e-08, km = None\n",
      "here\n"
     ]
    },
    {
     "name": "stderr",
     "output_type": "stream",
     "text": [
      " 68%|██████▊   | 135/200 [21:08<11:00, 10.16s/it]"
     ]
    },
    {
     "name": "stdout",
     "output_type": "stream",
     "text": [
      "results: [-3974.4766856778742, -3978.7758953671478, 4.299209689273539]\n",
      "here\n",
      "here\n",
      "model 1 log likelihood = -3972.4939750918356, alpha = 8.718673667067813e-08, km = None\n",
      "here\n"
     ]
    },
    {
     "name": "stderr",
     "output_type": "stream",
     "text": [
      " 68%|██████▊   | 136/200 [21:20<11:15, 10.55s/it]"
     ]
    },
    {
     "name": "stdout",
     "output_type": "stream",
     "text": [
      "results: [-3972.4939750918356, -3976.7653663511624, 4.27139125932672]\n",
      "here\n",
      "model 1 log likelihood = -3974.923776165704, alpha = 8.89744058523132e-08, km = None\n",
      "here\n"
     ]
    },
    {
     "name": "stderr",
     "output_type": "stream",
     "text": [
      " 68%|██████▊   | 137/200 [21:25<09:24,  8.96s/it]"
     ]
    },
    {
     "name": "stdout",
     "output_type": "stream",
     "text": [
      "results: [-3974.923776165704, -3966.6433066173117, -8.280469548392375]\n",
      "here\n",
      "model 1 log likelihood = -3976.020614522902, alpha = 8.671802679094748e-08, km = None\n",
      "here\n"
     ]
    },
    {
     "name": "stderr",
     "output_type": "stream",
     "text": [
      " 69%|██████▉   | 138/200 [21:31<08:19,  8.05s/it]"
     ]
    },
    {
     "name": "stdout",
     "output_type": "stream",
     "text": [
      "results: [-3976.020614522902, -3980.3197608220794, 4.29914629917721]\n",
      "here\n",
      "here\n",
      "model 1 log likelihood = -3979.83811553568, alpha = 7.549927918034496e-08, km = None\n",
      "here\n",
      "here\n"
     ]
    },
    {
     "name": "stderr",
     "output_type": "stream",
     "text": [
      " 70%|██████▉   | 139/200 [21:44<09:42,  9.55s/it]"
     ]
    },
    {
     "name": "stdout",
     "output_type": "stream",
     "text": [
      "results: [-3979.83811553568, -3985.335184170287, 5.497068634606876]\n",
      "here\n",
      "model 1 log likelihood = -3973.086093927584, alpha = 9.844877487365573e-08, km = None\n",
      "here\n"
     ]
    },
    {
     "name": "stderr",
     "output_type": "stream",
     "text": [
      " 70%|███████   | 140/200 [21:51<08:41,  8.70s/it]"
     ]
    },
    {
     "name": "stdout",
     "output_type": "stream",
     "text": [
      "results: [-3973.086093927584, -3977.399839300533, 4.313745372949143]\n",
      "here\n",
      "model 1 log likelihood = -3989.703446947836, alpha = 5.572338774721699e-08, km = None\n",
      "here\n"
     ]
    },
    {
     "name": "stderr",
     "output_type": "stream",
     "text": [
      " 70%|███████   | 141/200 [21:56<07:31,  7.65s/it]"
     ]
    },
    {
     "name": "stdout",
     "output_type": "stream",
     "text": [
      "results: [-3989.703446947836, -3993.861018063837, 4.157571116001236]\n",
      "here\n",
      "model 1 log likelihood = -3976.7542927848754, alpha = 3.038560860321296e-08, km = None\n",
      "here\n",
      "here\n",
      "here\n",
      "here\n"
     ]
    },
    {
     "name": "stderr",
     "output_type": "stream",
     "text": [
      " 71%|███████   | 142/200 [22:12<09:48, 10.14s/it]"
     ]
    },
    {
     "name": "stdout",
     "output_type": "stream",
     "text": [
      "results: [-3976.7542927848754, -3982.218460466964, 5.464167682088828]\n",
      "here\n",
      "model 1 log likelihood = -3980.3249834134276, alpha = 9.899860688234375e-08, km = None\n",
      "here\n",
      "here\n"
     ]
    },
    {
     "name": "stderr",
     "output_type": "stream",
     "text": [
      " 72%|███████▏  | 143/200 [22:21<09:26,  9.94s/it]"
     ]
    },
    {
     "name": "stdout",
     "output_type": "stream",
     "text": [
      "results: [-3980.3249834134276, -3985.821091373333, 5.496107959905203]\n",
      "here\n",
      "model 1 log likelihood = -3978.1701079435556, alpha = 9.784322755757195e-08, km = None\n",
      "here\n",
      "here\n"
     ]
    },
    {
     "name": "stderr",
     "output_type": "stream",
     "text": [
      " 72%|███████▏  | 144/200 [22:30<09:03,  9.70s/it]"
     ]
    },
    {
     "name": "stdout",
     "output_type": "stream",
     "text": [
      "results: [-3978.1701079435556, -3983.6680092829747, 5.497901339419059]\n",
      "here\n",
      "here\n",
      "here\n",
      "here\n",
      "here\n",
      "here\n",
      "model 1 log likelihood = -3979.0054416359885, alpha = 5.538008280273596e-09, km = None\n",
      "here\n"
     ]
    },
    {
     "name": "stderr",
     "output_type": "stream",
     "text": [
      " 72%|███████▎  | 145/200 [22:57<13:24, 14.62s/it]"
     ]
    },
    {
     "name": "stdout",
     "output_type": "stream",
     "text": [
      "results: [-3979.0054416359885, -3982.7139775373516, 3.7085359013631205]\n",
      "here\n",
      "here\n",
      "model 1 log likelihood = -3976.258192194775, alpha = 8.779134877555999e-08, km = None\n",
      "here\n"
     ]
    },
    {
     "name": "stderr",
     "output_type": "stream",
     "text": [
      " 73%|███████▎  | 146/200 [23:07<11:59, 13.32s/it]"
     ]
    },
    {
     "name": "stdout",
     "output_type": "stream",
     "text": [
      "results: [-3976.258192194775, -3950.0384218132695, -26.21977038150544]\n",
      "here\n",
      "here\n",
      "model 1 log likelihood = -3979.812181670977, alpha = 1.2969719003502783e-07, km = None\n",
      "here\n",
      "here\n"
     ]
    },
    {
     "name": "stderr",
     "output_type": "stream",
     "text": [
      " 74%|███████▎  | 147/200 [23:23<12:24, 14.06s/it]"
     ]
    },
    {
     "name": "stdout",
     "output_type": "stream",
     "text": [
      "results: [-3979.812181670977, -3985.3100816626493, 5.497899991672057]\n",
      "here\n",
      "model 1 log likelihood = -3977.5114356235613, alpha = 1.8197488306197294e-07, km = None\n",
      "here\n"
     ]
    },
    {
     "name": "stderr",
     "output_type": "stream",
     "text": [
      " 74%|███████▍  | 148/200 [23:29<10:14, 11.82s/it]"
     ]
    },
    {
     "name": "stdout",
     "output_type": "stream",
     "text": [
      "results: [-3977.5114356235613, -3981.9321154545846, 4.420679831023335]\n",
      "here\n",
      "model 1 log likelihood = -3935.5745408771772, alpha = 2.990920923825601e-13, km = None\n",
      "here\n",
      "here\n"
     ]
    },
    {
     "name": "stderr",
     "output_type": "stream",
     "text": [
      " 74%|███████▍  | 149/200 [23:39<09:28, 11.15s/it]"
     ]
    },
    {
     "name": "stdout",
     "output_type": "stream",
     "text": [
      "results: [-3935.5745408771772, -3971.09448592463, 35.51994504745289]\n",
      "here\n",
      "here\n",
      "model 1 log likelihood = -3980.3022594986637, alpha = 7.379295410718683e-08, km = None\n",
      "here\n"
     ]
    },
    {
     "name": "stderr",
     "output_type": "stream",
     "text": [
      " 75%|███████▌  | 150/200 [23:50<09:17, 11.15s/it]"
     ]
    },
    {
     "name": "stdout",
     "output_type": "stream",
     "text": [
      "results: [-3980.3022594986637, -3918.0566787566877, -62.24558074197603]\n",
      "here\n",
      "model 1 log likelihood = -3981.656969002665, alpha = 6.592256538017503e-08, km = None\n",
      "here\n"
     ]
    },
    {
     "name": "stderr",
     "output_type": "stream",
     "text": [
      " 76%|███████▌  | 151/200 [23:56<07:58,  9.76s/it]"
     ]
    },
    {
     "name": "stdout",
     "output_type": "stream",
     "text": [
      "results: [-3981.656969002665, -3986.0917996499484, 4.434830647283434]\n",
      "here\n",
      "model 1 log likelihood = -3977.00700194321, alpha = 2.8695632804988567e-08, km = None\n",
      "here\n"
     ]
    },
    {
     "name": "stderr",
     "output_type": "stream",
     "text": [
      " 76%|███████▌  | 152/200 [24:04<07:17,  9.11s/it]"
     ]
    },
    {
     "name": "stdout",
     "output_type": "stream",
     "text": [
      "results: [-3977.00700194321, -3981.3377887383162, 4.330786795106178]\n",
      "here\n",
      "model 1 log likelihood = -3981.6384452460175, alpha = 7.756699787210147e-08, km = None\n",
      "here\n"
     ]
    },
    {
     "name": "stderr",
     "output_type": "stream",
     "text": [
      " 76%|███████▋  | 153/200 [24:11<06:43,  8.58s/it]"
     ]
    },
    {
     "name": "stdout",
     "output_type": "stream",
     "text": [
      "results: [-3981.6384452460175, -3974.5559172848925, -7.082527961124924]\n",
      "here\n",
      "model 1 log likelihood = -3978.6416382397247, alpha = 8.516746699729144e-08, km = None\n",
      "here\n"
     ]
    },
    {
     "name": "stderr",
     "output_type": "stream",
     "text": [
      " 77%|███████▋  | 154/200 [24:17<05:59,  7.82s/it]"
     ]
    },
    {
     "name": "stdout",
     "output_type": "stream",
     "text": [
      "results: [-3978.6416382397247, -3959.1926506356554, -19.448987604069316]\n",
      "here\n",
      "model 1 log likelihood = -3970.156922372125, alpha = 6.676494214735814e-08, km = None\n",
      "here\n"
     ]
    },
    {
     "name": "stderr",
     "output_type": "stream",
     "text": [
      " 78%|███████▊  | 155/200 [24:24<05:29,  7.32s/it]"
     ]
    },
    {
     "name": "stdout",
     "output_type": "stream",
     "text": [
      "results: [-3970.156922372125, -3952.453110303074, -17.703812069050855]\n",
      "here\n",
      "here\n",
      "model 1 log likelihood = -3973.455729905107, alpha = 9.133570086569993e-08, km = None\n",
      "here\n",
      "here\n"
     ]
    },
    {
     "name": "stderr",
     "output_type": "stream",
     "text": [
      " 78%|███████▊  | 156/200 [24:38<06:59,  9.53s/it]"
     ]
    },
    {
     "name": "stdout",
     "output_type": "stream",
     "text": [
      "results: [-3973.455729905107, -3978.9499725473806, 5.494242642273548]\n",
      "here\n",
      "here\n",
      "here\n",
      "model 1 log likelihood = -3974.517746695158, alpha = 1.517007394309071e-07, km = None\n",
      "here\n"
     ]
    },
    {
     "name": "stderr",
     "output_type": "stream",
     "text": [
      " 78%|███████▊  | 157/200 [24:55<08:18, 11.59s/it]"
     ]
    },
    {
     "name": "stdout",
     "output_type": "stream",
     "text": [
      "results: [-3974.517746695158, 313961.6970245409, -317936.21477123606]\n",
      "here\n",
      "model 1 log likelihood = -3979.82586405301, alpha = 6.251531400154893e-08, km = None\n",
      "here\n"
     ]
    },
    {
     "name": "stderr",
     "output_type": "stream",
     "text": [
      " 79%|███████▉  | 158/200 [25:04<07:38, 10.91s/it]"
     ]
    },
    {
     "name": "stdout",
     "output_type": "stream",
     "text": [
      "results: [-3979.82586405301, -3668.305663379492, -311.5202006735176]\n",
      "here\n",
      "here\n",
      "here\n",
      "model 1 log likelihood = -3982.2127618375475, alpha = 1.497022741334203e-07, km = None\n",
      "here\n"
     ]
    },
    {
     "name": "stderr",
     "output_type": "stream",
     "text": [
      " 80%|███████▉  | 159/200 [25:21<08:42, 12.74s/it]"
     ]
    },
    {
     "name": "stdout",
     "output_type": "stream",
     "text": [
      "results: [-3982.2127618375475, -3982.184569544381, -0.028192293166739546]\n",
      "here\n",
      "model 1 log likelihood = -3953.484282128695, alpha = 2.870344839756699e-13, km = None\n",
      "here\n",
      "here\n"
     ]
    },
    {
     "name": "stderr",
     "output_type": "stream",
     "text": [
      " 80%|████████  | 160/200 [25:31<08:02, 12.06s/it]"
     ]
    },
    {
     "name": "stdout",
     "output_type": "stream",
     "text": [
      "results: [-3953.484282128695, -3975.9607897331384, 22.476507604443213]\n",
      "here\n",
      "model 1 log likelihood = -3977.5332453515043, alpha = 8.608293522340762e-08, km = None\n",
      "here\n"
     ]
    },
    {
     "name": "stderr",
     "output_type": "stream",
     "text": [
      " 80%|████████  | 161/200 [25:37<06:30, 10.02s/it]"
     ]
    },
    {
     "name": "stdout",
     "output_type": "stream",
     "text": [
      "results: [-3977.5332453515043, -3981.816747433458, 4.283502081953884]\n",
      "here\n",
      "here\n",
      "model 1 log likelihood = -3976.8265672576144, alpha = 1.0396483760601806e-07, km = None\n",
      "here\n"
     ]
    },
    {
     "name": "stderr",
     "output_type": "stream",
     "text": [
      " 81%|████████  | 162/200 [25:46<06:15,  9.88s/it]"
     ]
    },
    {
     "name": "stdout",
     "output_type": "stream",
     "text": [
      "results: [-3976.8265672576144, -3981.06413388021, 4.23756662259575]\n",
      "here\n",
      "model 1 log likelihood = -3987.5401472002723, alpha = 6.732191262971572e-08, km = None\n",
      "here\n",
      "here\n"
     ]
    },
    {
     "name": "stderr",
     "output_type": "stream",
     "text": [
      " 82%|████████▏ | 163/200 [25:55<05:47,  9.39s/it]"
     ]
    },
    {
     "name": "stdout",
     "output_type": "stream",
     "text": [
      "results: [-3987.5401472002723, -3993.040207967917, 5.500060767644754]\n",
      "here\n",
      "model 1 log likelihood = -3971.2255088499883, alpha = 6.914948071222464e-08, km = None\n",
      "here\n",
      "here\n"
     ]
    },
    {
     "name": "stderr",
     "output_type": "stream",
     "text": [
      " 82%|████████▏ | 164/200 [26:02<05:20,  8.91s/it]"
     ]
    },
    {
     "name": "stdout",
     "output_type": "stream",
     "text": [
      "results: [-3971.2255088499883, -3976.7204857250654, 5.4949768750771]\n",
      "here\n",
      "model 1 log likelihood = -3970.6803463811175, alpha = 1.3080237641845632e-07, km = None\n",
      "here\n",
      "here\n"
     ]
    },
    {
     "name": "stderr",
     "output_type": "stream",
     "text": [
      " 82%|████████▎ | 165/200 [26:11<05:13,  8.95s/it]"
     ]
    },
    {
     "name": "stdout",
     "output_type": "stream",
     "text": [
      "results: [-3970.6803463811175, -3976.175231571659, 5.494885190541481]\n",
      "here\n",
      "here\n",
      "model 1 log likelihood = -3983.7431339635073, alpha = 1.0607551217669578e-07, km = None\n",
      "here\n"
     ]
    },
    {
     "name": "stderr",
     "output_type": "stream",
     "text": [
      " 83%|████████▎ | 166/200 [26:25<05:52, 10.37s/it]"
     ]
    },
    {
     "name": "stdout",
     "output_type": "stream",
     "text": [
      "results: [-3983.7431339635073, -3988.0212124677305, 4.278078504223231]\n",
      "here\n",
      "here\n",
      "here\n",
      "here\n",
      "model 1 log likelihood = -3980.440146530724, alpha = 1.7672128374823064e-09, km = None\n",
      "here\n"
     ]
    },
    {
     "name": "stderr",
     "output_type": "stream",
     "text": [
      " 84%|████████▎ | 167/200 [26:48<07:48, 14.20s/it]"
     ]
    },
    {
     "name": "stdout",
     "output_type": "stream",
     "text": [
      "results: [-3980.440146530724, -3981.8889184322466, 1.4487719015223774]\n",
      "here\n",
      "here\n",
      "model 1 log likelihood = -3978.3804726065537, alpha = 5.860636578400093e-08, km = None\n",
      "here\n",
      "here\n"
     ]
    },
    {
     "name": "stderr",
     "output_type": "stream",
     "text": [
      " 84%|████████▍ | 168/200 [27:02<07:34, 14.21s/it]"
     ]
    },
    {
     "name": "stdout",
     "output_type": "stream",
     "text": [
      "results: [-3978.3804726065537, -3983.8753591322074, 5.494886525653783]\n",
      "here\n",
      "model 1 log likelihood = -3980.518834184497, alpha = 9.07162939586509e-08, km = None\n",
      "here\n",
      "here\n",
      "here\n"
     ]
    },
    {
     "name": "stderr",
     "output_type": "stream",
     "text": [
      " 84%|████████▍ | 169/200 [27:13<06:44, 13.03s/it]"
     ]
    },
    {
     "name": "stdout",
     "output_type": "stream",
     "text": [
      "results: [-3980.518834184497, -6661.286221904672, 2680.767387720175]\n",
      "here\n",
      "here\n",
      "model 1 log likelihood = -3981.348028070178, alpha = 3.687645161836034e-08, km = None\n",
      "here\n"
     ]
    },
    {
     "name": "stderr",
     "output_type": "stream",
     "text": [
      " 85%|████████▌ | 170/200 [27:24<06:15, 12.52s/it]"
     ]
    },
    {
     "name": "stdout",
     "output_type": "stream",
     "text": [
      "results: [-3981.348028070178, -3985.64557478873, 4.297546718551985]\n",
      "here\n",
      "model 1 log likelihood = -3981.5817552451426, alpha = 1.5656113149111948e-10, km = None\n",
      "here\n"
     ]
    },
    {
     "name": "stderr",
     "output_type": "stream",
     "text": [
      " 86%|████████▌ | 171/200 [27:31<05:13, 10.83s/it]"
     ]
    },
    {
     "name": "stdout",
     "output_type": "stream",
     "text": [
      "results: [-3981.5817552451426, -3985.9242987468247, 4.34254350168203]\n",
      "here\n",
      "here\n",
      "model 1 log likelihood = -3966.7570518637676, alpha = 7.375908789338802e-08, km = None\n",
      "here\n"
     ]
    },
    {
     "name": "stderr",
     "output_type": "stream",
     "text": [
      " 86%|████████▌ | 172/200 [27:42<05:01, 10.77s/it]"
     ]
    },
    {
     "name": "stdout",
     "output_type": "stream",
     "text": [
      "results: [-3966.7570518637676, -3358.279452327461, -608.4775995363066]\n",
      "here\n",
      "model 1 log likelihood = -3931.71930045675, alpha = 4.456307287500748e-14, km = None\n",
      "here\n",
      "here\n"
     ]
    },
    {
     "name": "stderr",
     "output_type": "stream",
     "text": [
      " 86%|████████▋ | 173/200 [27:50<04:29,  9.99s/it]"
     ]
    },
    {
     "name": "stdout",
     "output_type": "stream",
     "text": [
      "results: [-3931.71930045675, -3988.8726866825345, 57.15338622578474]\n",
      "here\n",
      "model 1 log likelihood = -3971.434233270988, alpha = 8.011476125802435e-08, km = None\n",
      "here\n"
     ]
    },
    {
     "name": "stderr",
     "output_type": "stream",
     "text": [
      " 87%|████████▋ | 174/200 [27:55<03:46,  8.69s/it]"
     ]
    },
    {
     "name": "stdout",
     "output_type": "stream",
     "text": [
      "results: [-3971.434233270988, -3975.6497004268144, 4.215467155826445]\n",
      "here\n",
      "here\n",
      "here\n",
      "model 1 log likelihood = -3976.877595972121, alpha = 1.501311748930079e-07, km = None\n",
      "here\n"
     ]
    },
    {
     "name": "stderr",
     "output_type": "stream",
     "text": [
      " 88%|████████▊ | 175/200 [28:09<04:17, 10.29s/it]"
     ]
    },
    {
     "name": "stdout",
     "output_type": "stream",
     "text": [
      "results: [-3976.877595972121, -3981.1654407304354, 4.28784475831435]\n",
      "here\n",
      "here\n",
      "model 1 log likelihood = -3982.0340049809233, alpha = 9.485185163929989e-08, km = None\n",
      "here\n"
     ]
    },
    {
     "name": "stderr",
     "output_type": "stream",
     "text": [
      " 88%|████████▊ | 176/200 [28:21<04:17, 10.72s/it]"
     ]
    },
    {
     "name": "stdout",
     "output_type": "stream",
     "text": [
      "results: [-3982.0340049809233, -3986.267850993731, 4.233846012807589]\n",
      "here\n",
      "model 1 log likelihood = -3983.495844905779, alpha = 4.018584052767045e-08, km = None\n",
      "here\n"
     ]
    },
    {
     "name": "stderr",
     "output_type": "stream",
     "text": [
      " 88%|████████▊ | 177/200 [28:27<03:36,  9.41s/it]"
     ]
    },
    {
     "name": "stdout",
     "output_type": "stream",
     "text": [
      "results: [-3983.495844905779, -3987.682199986665, 4.186355080886187]\n",
      "here\n",
      "model 1 log likelihood = -3976.9328687410607, alpha = 9.591126941036176e-08, km = None\n",
      "here\n"
     ]
    },
    {
     "name": "stderr",
     "output_type": "stream",
     "text": [
      " 89%|████████▉ | 178/200 [28:35<03:12,  8.76s/it]"
     ]
    },
    {
     "name": "stdout",
     "output_type": "stream",
     "text": [
      "results: [-3976.9328687410607, -3981.1222220900363, 4.189353348975601]\n",
      "here\n",
      "model 1 log likelihood = -3984.0498445496964, alpha = 7.128581346798072e-08, km = None\n",
      "here\n"
     ]
    },
    {
     "name": "stderr",
     "output_type": "stream",
     "text": [
      " 90%|████████▉ | 179/200 [28:41<02:50,  8.14s/it]"
     ]
    },
    {
     "name": "stdout",
     "output_type": "stream",
     "text": [
      "results: [-3984.0498445496964, -3984.9401196712565, 0.8902751215600802]\n",
      "here\n",
      "model 1 log likelihood = -3966.480375762234, alpha = 9.562212007366102e-08, km = None\n",
      "here\n",
      "here\n"
     ]
    },
    {
     "name": "stderr",
     "output_type": "stream",
     "text": [
      " 90%|█████████ | 180/200 [28:50<02:47,  8.37s/it]"
     ]
    },
    {
     "name": "stdout",
     "output_type": "stream",
     "text": [
      "results: [-3966.480375762234, -3971.971968747305, 5.491592985070838]\n",
      "here\n",
      "model 1 log likelihood = -3974.361448888534, alpha = 9.208776906613008e-08, km = None\n",
      "here\n",
      "here\n",
      "here\n"
     ]
    },
    {
     "name": "stderr",
     "output_type": "stream",
     "text": [
      " 90%|█████████ | 181/200 [29:04<03:10, 10.02s/it]"
     ]
    },
    {
     "name": "stdout",
     "output_type": "stream",
     "text": [
      "results: [-3974.361448888534, -4390.017738921968, 415.65629003343383]\n",
      "here\n",
      "here\n",
      "model 1 log likelihood = -3984.9797657303766, alpha = 8.081106452182503e-08, km = None\n",
      "here\n"
     ]
    },
    {
     "name": "stderr",
     "output_type": "stream",
     "text": [
      " 91%|█████████ | 182/200 [29:15<03:06, 10.38s/it]"
     ]
    },
    {
     "name": "stdout",
     "output_type": "stream",
     "text": [
      "results: [-3984.9797657303766, -3989.3170066365105, 4.337240906133957]\n",
      "here\n",
      "here\n",
      "model 1 log likelihood = -3975.8585767628388, alpha = 5.047614570170779e-08, km = None\n",
      "here\n"
     ]
    },
    {
     "name": "stderr",
     "output_type": "stream",
     "text": [
      " 92%|█████████▏| 183/200 [29:27<03:01, 10.68s/it]"
     ]
    },
    {
     "name": "stdout",
     "output_type": "stream",
     "text": [
      "results: [-3975.8585767628388, -3724.4189790320183, -251.43959773082042]\n",
      "here\n",
      "here\n",
      "here\n",
      "here\n",
      "model 1 log likelihood = -3967.5044165357904, alpha = 1.2993132717865704e-08, km = None\n",
      "here\n"
     ]
    },
    {
     "name": "stderr",
     "output_type": "stream",
     "text": [
      " 92%|█████████▏| 184/200 [29:49<03:44, 14.02s/it]"
     ]
    },
    {
     "name": "stdout",
     "output_type": "stream",
     "text": [
      "results: [-3967.5044165357904, -3971.8730638305465, 4.3686472947561015]\n",
      "here\n",
      "here\n",
      "model 1 log likelihood = -3984.309611009629, alpha = 2.204701905613344e-08, km = None\n",
      "here\n"
     ]
    },
    {
     "name": "stderr",
     "output_type": "stream",
     "text": [
      " 92%|█████████▎| 185/200 [30:03<03:33, 14.23s/it]"
     ]
    },
    {
     "name": "stdout",
     "output_type": "stream",
     "text": [
      "results: [-3984.309611009629, -3988.575095875084, 4.265484865455164]\n",
      "here\n",
      "model 1 log likelihood = -3976.9683037897535, alpha = 3.189382208814619e-08, km = None\n",
      "here\n"
     ]
    },
    {
     "name": "stderr",
     "output_type": "stream",
     "text": [
      " 93%|█████████▎| 186/200 [30:11<02:49, 12.12s/it]"
     ]
    },
    {
     "name": "stdout",
     "output_type": "stream",
     "text": [
      "results: [-3976.9683037897535, -3981.110531103934, 4.142227314180673]\n",
      "here\n",
      "model 1 log likelihood = -3974.236138437773, alpha = 6.509959655378357e-08, km = None\n",
      "here\n"
     ]
    },
    {
     "name": "stderr",
     "output_type": "stream",
     "text": [
      " 94%|█████████▎| 187/200 [30:17<02:15, 10.43s/it]"
     ]
    },
    {
     "name": "stdout",
     "output_type": "stream",
     "text": [
      "results: [-3974.236138437773, -3977.0586911829337, 2.822552745160465]\n",
      "here\n",
      "here\n",
      "here\n",
      "model 1 log likelihood = -3984.412945482234, alpha = 1.5904567726683033e-07, km = None\n",
      "here\n"
     ]
    },
    {
     "name": "stderr",
     "output_type": "stream",
     "text": [
      " 94%|█████████▍| 188/200 [30:36<02:34, 12.89s/it]"
     ]
    },
    {
     "name": "stdout",
     "output_type": "stream",
     "text": [
      "results: [-3984.412945482234, -3988.016811590511, 3.6038661082770886]\n",
      "here\n",
      "model 1 log likelihood = -3972.9679910879495, alpha = 6.774853716415866e-08, km = None\n",
      "here\n"
     ]
    },
    {
     "name": "stderr",
     "output_type": "stream",
     "text": [
      " 94%|█████████▍| 189/200 [30:44<02:05, 11.39s/it]"
     ]
    },
    {
     "name": "stdout",
     "output_type": "stream",
     "text": [
      "results: [-3972.9679910879495, -1765.0814508654612, -2207.8865402224883]\n",
      "here\n",
      "model 1 log likelihood = -3981.1313741182275, alpha = 7.311954717656989e-08, km = None\n",
      "here\n",
      "here\n"
     ]
    },
    {
     "name": "stderr",
     "output_type": "stream",
     "text": [
      " 95%|█████████▌| 190/200 [30:53<01:48, 10.84s/it]"
     ]
    },
    {
     "name": "stdout",
     "output_type": "stream",
     "text": [
      "results: [-3981.1313741182275, -3986.6297107842784, 5.498336666050818]\n",
      "here\n",
      "model 1 log likelihood = -3978.6683395295304, alpha = 3.2924762875702335e-08, km = None\n",
      "here\n",
      "here\n"
     ]
    },
    {
     "name": "stderr",
     "output_type": "stream",
     "text": [
      " 96%|█████████▌| 191/200 [31:03<01:34, 10.47s/it]"
     ]
    },
    {
     "name": "stdout",
     "output_type": "stream",
     "text": [
      "results: [-3978.6683395295304, -3984.167766335722, 5.499426806191423]\n",
      "here\n",
      "here\n",
      "here\n",
      "model 1 log likelihood = -3974.1528513958738, alpha = 1.426135283354865e-07, km = None\n",
      "here\n",
      "here\n"
     ]
    },
    {
     "name": "stderr",
     "output_type": "stream",
     "text": [
      " 96%|█████████▌| 192/200 [31:20<01:40, 12.52s/it]"
     ]
    },
    {
     "name": "stdout",
     "output_type": "stream",
     "text": [
      "results: [-3974.1528513958738, -3979.6509473263095, 5.498095930435738]\n",
      "here\n",
      "model 1 log likelihood = -3991.6164470613685, alpha = 4.975649501294727e-08, km = None\n",
      "here\n",
      "here\n"
     ]
    },
    {
     "name": "stderr",
     "output_type": "stream",
     "text": [
      " 96%|█████████▋| 193/200 [31:28<01:18, 11.26s/it]"
     ]
    },
    {
     "name": "stdout",
     "output_type": "stream",
     "text": [
      "results: [-3991.6164470613685, -3997.116380838322, 5.49993377695364]\n",
      "here\n",
      "model 1 log likelihood = -3960.550565200022, alpha = 1.6299844652405572e-12, km = None\n",
      "here\n"
     ]
    },
    {
     "name": "stderr",
     "output_type": "stream",
     "text": [
      " 97%|█████████▋| 194/200 [31:35<00:58,  9.80s/it]"
     ]
    },
    {
     "name": "stdout",
     "output_type": "stream",
     "text": [
      "results: [-3960.550565200022, -3966.57334160544, 6.0227764054179715]\n",
      "here\n",
      "model 1 log likelihood = -3980.2425979182863, alpha = 3.566124760752246e-08, km = None\n",
      "here\n"
     ]
    },
    {
     "name": "stderr",
     "output_type": "stream",
     "text": [
      " 98%|█████████▊| 195/200 [31:42<00:44,  8.98s/it]"
     ]
    },
    {
     "name": "stdout",
     "output_type": "stream",
     "text": [
      "results: [-3980.2425979182863, 2785.7402162031944, -6765.98281412148]\n",
      "here\n",
      "model 1 log likelihood = -3985.464683493231, alpha = 6.512471851716402e-08, km = None\n",
      "here\n"
     ]
    },
    {
     "name": "stderr",
     "output_type": "stream",
     "text": [
      " 98%|█████████▊| 196/200 [31:48<00:32,  8.13s/it]"
     ]
    },
    {
     "name": "stdout",
     "output_type": "stream",
     "text": [
      "results: [-3985.464683493231, -3989.6203832515057, 4.15569975827475]\n",
      "here\n",
      "model 1 log likelihood = -3979.39057995289, alpha = 1.5032105753868803e-07, km = None\n",
      "here\n",
      "here\n"
     ]
    },
    {
     "name": "stderr",
     "output_type": "stream",
     "text": [
      " 98%|█████████▊| 197/200 [31:57<00:25,  8.43s/it]"
     ]
    },
    {
     "name": "stdout",
     "output_type": "stream",
     "text": [
      "results: [-3979.39057995289, -3984.8879105625665, 5.497330609676283]\n",
      "here\n",
      "here\n",
      "here\n",
      "here\n",
      "here\n",
      "here\n",
      "here\n",
      "model 1 log likelihood = -3979.1839564598645, alpha = 7.236053442784522e-10, km = None\n",
      "here\n"
     ]
    },
    {
     "name": "stderr",
     "output_type": "stream",
     "text": [
      " 99%|█████████▉| 198/200 [32:32<00:32, 16.42s/it]"
     ]
    },
    {
     "name": "stdout",
     "output_type": "stream",
     "text": [
      "results: [-3979.1839564598645, -3983.6574107508573, 4.473454290992777]\n",
      "here\n",
      "model 1 log likelihood = -3980.4732625099477, alpha = 7.006584043794968e-08, km = None\n",
      "here\n"
     ]
    },
    {
     "name": "stderr",
     "output_type": "stream",
     "text": [
      "100%|█████████▉| 199/200 [32:38<00:13, 13.35s/it]"
     ]
    },
    {
     "name": "stdout",
     "output_type": "stream",
     "text": [
      "results: [-3980.4732625099477, -3982.5821249088262, 2.1088623988785002]\n",
      "here\n",
      "model 1 log likelihood = -3977.0999204968666, alpha = 9.007614229629182e-08, km = None\n",
      "here\n"
     ]
    },
    {
     "name": "stderr",
     "output_type": "stream",
     "text": [
      "100%|██████████| 200/200 [32:45<00:00,  9.83s/it]"
     ]
    },
    {
     "name": "stdout",
     "output_type": "stream",
     "text": [
      "results: [-3977.0999204968666, -3980.7891296029907, 3.6892091061240535]\n"
     ]
    },
    {
     "name": "stderr",
     "output_type": "stream",
     "text": [
      "\n",
      "c:\\Users\\User\\GPcounts\\.venv\\lib\\site-packages\\GPcounts\\RNA_seq_GP.py:418: FutureWarning: Series.ravel is deprecated. The underlying array is already 1D, so ravel is not necessary.  Use `to_numpy()` for conversion to a numpy array instead.\n",
      "  pv = pv.ravel()  # flattens the array in place, more efficient than flatten()\n"
     ]
    },
    {
     "ename": "AttributeError",
     "evalue": "Module 'scipy' has no attribute 'arange'",
     "output_type": "error",
     "traceback": [
      "\u001b[1;31m---------------------------------------------------------------------------\u001b[0m",
      "\u001b[1;31mKeyError\u001b[0m                                  Traceback (most recent call last)",
      "File \u001b[1;32mc:\\Users\\User\\GPcounts\\.venv\\lib\\site-packages\\scipy\\__init__.py:165\u001b[0m, in \u001b[0;36m__getattr__\u001b[1;34m(name)\u001b[0m\n\u001b[0;32m    164\u001b[0m \u001b[38;5;28;01mtry\u001b[39;00m:\n\u001b[1;32m--> 165\u001b[0m     \u001b[38;5;28;01mreturn\u001b[39;00m \u001b[38;5;28;43mglobals\u001b[39;49m\u001b[43m(\u001b[49m\u001b[43m)\u001b[49m\u001b[43m[\u001b[49m\u001b[43mname\u001b[49m\u001b[43m]\u001b[49m\n\u001b[0;32m    166\u001b[0m \u001b[38;5;28;01mexcept\u001b[39;00m \u001b[38;5;167;01mKeyError\u001b[39;00m:\n",
      "\u001b[1;31mKeyError\u001b[0m: 'arange'",
      "\nDuring handling of the above exception, another exception occurred:\n",
      "\u001b[1;31mAttributeError\u001b[0m                            Traceback (most recent call last)",
      "Cell \u001b[1;32mIn[4], line 7\u001b[0m\n\u001b[0;32m      5\u001b[0m gpc1 \u001b[38;5;241m=\u001b[39m rna_seq_gp(X, Y_run\u001b[38;5;241m.\u001b[39mloc[gene_name], sparse\u001b[38;5;241m=\u001b[39m\u001b[38;5;28;01mTrue\u001b[39;00m,scale\u001b[38;5;241m=\u001b[39mscalesdf)\n\u001b[0;32m      6\u001b[0m llr1 \u001b[38;5;241m=\u001b[39m gpc1\u001b[38;5;241m.\u001b[39mOne_sample_test()\n\u001b[1;32m----> 7\u001b[0m r1 \u001b[38;5;241m=\u001b[39m \u001b[43mgpc1\u001b[49m\u001b[38;5;241;43m.\u001b[39;49m\u001b[43mcalculate_FDR\u001b[49m\u001b[43m(\u001b[49m\u001b[43mllr1\u001b[49m\u001b[43m)\u001b[49m\n",
      "File \u001b[1;32mc:\\Users\\User\\GPcounts\\.venv\\lib\\site-packages\\GPcounts\\RNA_seq_GP.py:402\u001b[0m, in \u001b[0;36mrna_seq_gp.calculate_FDR\u001b[1;34m(self, genes_results)\u001b[0m\n\u001b[0;32m    398\u001b[0m \u001b[38;5;28;01mdef\u001b[39;00m \u001b[38;5;21mcalculate_FDR\u001b[39m(\u001b[38;5;28mself\u001b[39m, genes_results):\n\u001b[0;32m    399\u001b[0m     genes_results[\u001b[38;5;124m\"\u001b[39m\u001b[38;5;124mp_value\u001b[39m\u001b[38;5;124m\"\u001b[39m] \u001b[38;5;241m=\u001b[39m \u001b[38;5;241m1\u001b[39m \u001b[38;5;241m-\u001b[39m ss\u001b[38;5;241m.\u001b[39mchi2\u001b[38;5;241m.\u001b[39mcdf(\n\u001b[0;32m    400\u001b[0m         \u001b[38;5;241m2\u001b[39m \u001b[38;5;241m*\u001b[39m genes_results[\u001b[38;5;124m\"\u001b[39m\u001b[38;5;124mlog_likelihood_ratio\u001b[39m\u001b[38;5;124m\"\u001b[39m], df\u001b[38;5;241m=\u001b[39m\u001b[38;5;241m1\u001b[39m\n\u001b[0;32m    401\u001b[0m     )\n\u001b[1;32m--> 402\u001b[0m     genes_results[\u001b[38;5;124m\"\u001b[39m\u001b[38;5;124mq_value\u001b[39m\u001b[38;5;124m\"\u001b[39m] \u001b[38;5;241m=\u001b[39m \u001b[38;5;28;43mself\u001b[39;49m\u001b[38;5;241;43m.\u001b[39;49m\u001b[43mqvalue\u001b[49m\u001b[43m(\u001b[49m\u001b[43mgenes_results\u001b[49m\u001b[43m[\u001b[49m\u001b[38;5;124;43m\"\u001b[39;49m\u001b[38;5;124;43mp_value\u001b[39;49m\u001b[38;5;124;43m\"\u001b[39;49m\u001b[43m]\u001b[49m\u001b[43m)\u001b[49m\n\u001b[0;32m    404\u001b[0m     \u001b[38;5;28;01mreturn\u001b[39;00m genes_results\n",
      "File \u001b[1;32mc:\\Users\\User\\GPcounts\\.venv\\lib\\site-packages\\GPcounts\\RNA_seq_GP.py:430\u001b[0m, in \u001b[0;36mrna_seq_gp.qvalue\u001b[1;34m(self, pv, pi0)\u001b[0m\n\u001b[0;32m    427\u001b[0m \u001b[38;5;28;01melse\u001b[39;00m:\n\u001b[0;32m    428\u001b[0m     \u001b[38;5;66;03m# evaluate pi0 for different lambdas\u001b[39;00m\n\u001b[0;32m    429\u001b[0m     pi0 \u001b[38;5;241m=\u001b[39m []\n\u001b[1;32m--> 430\u001b[0m     lam \u001b[38;5;241m=\u001b[39m \u001b[43msp\u001b[49m\u001b[38;5;241;43m.\u001b[39;49m\u001b[43marange\u001b[49m(\u001b[38;5;241m0\u001b[39m, \u001b[38;5;241m0.90\u001b[39m, \u001b[38;5;241m0.01\u001b[39m)\n\u001b[0;32m    431\u001b[0m     counts \u001b[38;5;241m=\u001b[39m sp\u001b[38;5;241m.\u001b[39marray([(pv \u001b[38;5;241m>\u001b[39m i)\u001b[38;5;241m.\u001b[39msum() \u001b[38;5;28;01mfor\u001b[39;00m i \u001b[38;5;129;01min\u001b[39;00m sp\u001b[38;5;241m.\u001b[39marange(\u001b[38;5;241m0\u001b[39m, \u001b[38;5;241m0.9\u001b[39m, \u001b[38;5;241m0.01\u001b[39m)])\n\u001b[0;32m    432\u001b[0m     \u001b[38;5;28;01mfor\u001b[39;00m l \u001b[38;5;129;01min\u001b[39;00m \u001b[38;5;28mrange\u001b[39m(\u001b[38;5;28mlen\u001b[39m(lam)):\n",
      "File \u001b[1;32mc:\\Users\\User\\GPcounts\\.venv\\lib\\site-packages\\scipy\\__init__.py:167\u001b[0m, in \u001b[0;36m__getattr__\u001b[1;34m(name)\u001b[0m\n\u001b[0;32m    165\u001b[0m     \u001b[38;5;28;01mreturn\u001b[39;00m \u001b[38;5;28mglobals\u001b[39m()[name]\n\u001b[0;32m    166\u001b[0m \u001b[38;5;28;01mexcept\u001b[39;00m \u001b[38;5;167;01mKeyError\u001b[39;00m:\n\u001b[1;32m--> 167\u001b[0m     \u001b[38;5;28;01mraise\u001b[39;00m \u001b[38;5;167;01mAttributeError\u001b[39;00m(\n\u001b[0;32m    168\u001b[0m         \u001b[38;5;124mf\u001b[39m\u001b[38;5;124m\"\u001b[39m\u001b[38;5;124mModule \u001b[39m\u001b[38;5;124m'\u001b[39m\u001b[38;5;124mscipy\u001b[39m\u001b[38;5;124m'\u001b[39m\u001b[38;5;124m has no attribute \u001b[39m\u001b[38;5;124m'\u001b[39m\u001b[38;5;132;01m{\u001b[39;00mname\u001b[38;5;132;01m}\u001b[39;00m\u001b[38;5;124m'\u001b[39m\u001b[38;5;124m\"\u001b[39m\n\u001b[0;32m    169\u001b[0m     )\n",
      "\u001b[1;31mAttributeError\u001b[0m: Module 'scipy' has no attribute 'arange'"
     ]
    }
   ],
   "source": [
    "from GPcounts.RNA_seq_GP import rna_seq_gp\n",
    "Y_run = Y\n",
    "gene_name = Y_run.index\n",
    "\n",
    "gpc1 = rna_seq_gp(X, Y_run.loc[gene_name], sparse=True,scale=scalesdf)\n",
    "llr1 = gpc1.One_sample_test()\n",
    "r1 = gpc1.calculate_FDR(llr1)"
   ]
  },
  {
   "cell_type": "code",
   "execution_count": null,
   "metadata": {},
   "outputs": [],
   "source": []
  }
 ],
 "metadata": {
  "kernelspec": {
   "display_name": ".venv",
   "language": "python",
   "name": "python3"
  },
  "language_info": {
   "codemirror_mode": {
    "name": "ipython",
    "version": 3
   },
   "file_extension": ".py",
   "mimetype": "text/x-python",
   "name": "python",
   "nbconvert_exporter": "python",
   "pygments_lexer": "ipython3",
   "version": "3.9.10"
  }
 },
 "nbformat": 4,
 "nbformat_minor": 2
}

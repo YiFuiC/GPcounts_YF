{
 "cells": [
  {
   "cell_type": "code",
   "execution_count": 1,
   "metadata": {},
   "outputs": [
    {
     "name": "stdout",
     "output_type": "stream",
     "text": [
      "WARNING:tensorflow:From c:\\Users\\User\\GPcounts\\.venv\\lib\\site-packages\\tf_keras\\src\\losses.py:2976: The name tf.losses.sparse_softmax_cross_entropy is deprecated. Please use tf.compat.v1.losses.sparse_softmax_cross_entropy instead.\n",
      "\n",
      "WARNING:tensorflow:From c:\\Users\\User\\GPcounts\\.venv\\lib\\site-packages\\tensorflow_probability\\python\\internal\\backend\\numpy\\_utils.py:48: The name tf.logging.TaskLevelStatusMessage is deprecated. Please use tf.compat.v1.logging.TaskLevelStatusMessage instead.\n",
      "\n",
      "WARNING:tensorflow:From c:\\Users\\User\\GPcounts\\.venv\\lib\\site-packages\\tensorflow_probability\\python\\internal\\backend\\numpy\\_utils.py:48: The name tf.control_flow_v2_enabled is deprecated. Please use tf.compat.v1.control_flow_v2_enabled instead.\n",
      "\n"
     ]
    }
   ],
   "source": [
    "import numpy as np\n",
    "import pandas as pd\n",
    "import scipy as sp\n",
    "import scanpy as sc\n",
    "import squidpy as sq\n",
    "import anndata as ad\n",
    "import seaborn as sns\n",
    "import simstpy as sim\n",
    "import matplotlib.pyplot as plt\n",
    "from GPcounts.RNA_seq_GP import rna_seq_gp\n",
    "import statsmodels.formula.api as smf \n",
    "import statsmodels.api as sm\n",
    "import time"
   ]
  },
  {
   "cell_type": "code",
   "execution_count": 13,
   "metadata": {},
   "outputs": [
    {
     "ename": "FloatingPointError",
     "evalue": "underflow encountered in exp",
     "output_type": "error",
     "traceback": [
      "\u001b[1;31m---------------------------------------------------------------------------\u001b[0m",
      "\u001b[1;31mFloatingPointError\u001b[0m                        Traceback (most recent call last)",
      "Cell \u001b[1;32mIn[13], line 1\u001b[0m\n\u001b[1;32m----> 1\u001b[0m adata \u001b[38;5;241m=\u001b[39m \u001b[43msim\u001b[49m\u001b[38;5;241;43m.\u001b[39;49m\u001b[43mrna\u001b[49m\u001b[38;5;241;43m.\u001b[39;49m\u001b[43msim_svgs\u001b[49m\u001b[43m(\u001b[49m\u001b[43mn_svgs\u001b[49m\u001b[38;5;241;43m=\u001b[39;49m\u001b[38;5;241;43m15\u001b[39;49m\u001b[43m,\u001b[49m\u001b[43m \u001b[49m\u001b[43mn_non_svgs\u001b[49m\u001b[38;5;241;43m=\u001b[39;49m\u001b[38;5;241;43m15\u001b[39;49m\u001b[43m,\u001b[49m\u001b[43m \u001b[49m\u001b[43malpha\u001b[49m\u001b[38;5;241;43m=\u001b[39;49m\u001b[38;5;241;43m0.6\u001b[39;49m\u001b[43m,\u001b[49m\u001b[43m \u001b[49m\u001b[43msigma\u001b[49m\u001b[38;5;241;43m=\u001b[39;49m\u001b[38;5;241;43m3\u001b[39;49m\u001b[43m,\u001b[49m\u001b[43m \u001b[49m\u001b[43mrandom_state\u001b[49m\u001b[38;5;241;43m=\u001b[39;49m\u001b[38;5;241;43m42\u001b[39;49m\u001b[43m)\u001b[49m\n\u001b[0;32m      2\u001b[0m adata\u001b[38;5;241m.\u001b[39mwrite_h5ad(\u001b[38;5;124mf\u001b[39m\u001b[38;5;124m\"\u001b[39m\u001b[38;5;124m`ip_benchmarks.h5ad\u001b[39m\u001b[38;5;124m\"\u001b[39m)\n",
      "File \u001b[1;32mc:\\Users\\User\\GPcounts\\.venv\\lib\\site-packages\\simstpy\\rna\\simulate_svgs.py:70\u001b[0m, in \u001b[0;36msim_svgs\u001b[1;34m(height, width, n_svgs, n_non_svgs, n_kernels, alpha, sigma, mean_expression, library_size, random_state)\u001b[0m\n\u001b[0;32m     68\u001b[0m cov \u001b[38;5;241m=\u001b[39m np\u001b[38;5;241m.\u001b[39mzeros((n_kernels, n_locations, n_locations))\n\u001b[0;32m     69\u001b[0m \u001b[38;5;28;01mfor\u001b[39;00m i, length_scale \u001b[38;5;129;01min\u001b[39;00m \u001b[38;5;28menumerate\u001b[39m(length_scales):\n\u001b[1;32m---> 70\u001b[0m     cov[i] \u001b[38;5;241m=\u001b[39m \u001b[43mget_cov_from_rbf\u001b[49m\u001b[43m(\u001b[49m\u001b[43mcoords\u001b[49m\u001b[38;5;241;43m=\u001b[39;49m\u001b[43mcoords\u001b[49m\u001b[43m,\u001b[49m\u001b[43m \u001b[49m\u001b[43mlength_scale\u001b[49m\u001b[38;5;241;43m=\u001b[39;49m\u001b[43mlength_scale\u001b[49m\u001b[43m)\u001b[49m\n\u001b[0;32m     72\u001b[0m \u001b[38;5;66;03m# get random proportion\u001b[39;00m\n\u001b[0;32m     73\u001b[0m svg_exp \u001b[38;5;241m=\u001b[39m np\u001b[38;5;241m.\u001b[39mzeros((n_locations, n_svgs))\n",
      "File \u001b[1;32mc:\\Users\\User\\GPcounts\\.venv\\lib\\site-packages\\simstpy\\rna\\simulate_svgs.py:170\u001b[0m, in \u001b[0;36mget_cov_from_rbf\u001b[1;34m(coords, length_scale)\u001b[0m\n\u001b[0;32m    153\u001b[0m \u001b[38;5;250m\u001b[39m\u001b[38;5;124;03m\"\"\"\u001b[39;00m\n\u001b[0;32m    154\u001b[0m \u001b[38;5;124;03mGenerate covariance matrix using RBF kernel\u001b[39;00m\n\u001b[0;32m    155\u001b[0m \n\u001b[1;32m   (...)\u001b[0m\n\u001b[0;32m    166\u001b[0m \u001b[38;5;124;03m    Covariance matrix\u001b[39;00m\n\u001b[0;32m    167\u001b[0m \u001b[38;5;124;03m\"\"\"\u001b[39;00m\n\u001b[0;32m    169\u001b[0m kernel \u001b[38;5;241m=\u001b[39m RBF(length_scale\u001b[38;5;241m=\u001b[39mlength_scale)\n\u001b[1;32m--> 170\u001b[0m cov \u001b[38;5;241m=\u001b[39m \u001b[43mkernel\u001b[49m\u001b[43m(\u001b[49m\u001b[43mcoords\u001b[49m\u001b[43m)\u001b[49m\n\u001b[0;32m    172\u001b[0m \u001b[38;5;28;01mreturn\u001b[39;00m cov\n",
      "File \u001b[1;32mc:\\Users\\User\\GPcounts\\.venv\\lib\\site-packages\\sklearn\\gaussian_process\\kernels.py:1562\u001b[0m, in \u001b[0;36mRBF.__call__\u001b[1;34m(self, X, Y, eval_gradient)\u001b[0m\n\u001b[0;32m   1560\u001b[0m \u001b[38;5;28;01mif\u001b[39;00m Y \u001b[38;5;129;01mis\u001b[39;00m \u001b[38;5;28;01mNone\u001b[39;00m:\n\u001b[0;32m   1561\u001b[0m     dists \u001b[38;5;241m=\u001b[39m pdist(X \u001b[38;5;241m/\u001b[39m length_scale, metric\u001b[38;5;241m=\u001b[39m\u001b[38;5;124m\"\u001b[39m\u001b[38;5;124msqeuclidean\u001b[39m\u001b[38;5;124m\"\u001b[39m)\n\u001b[1;32m-> 1562\u001b[0m     K \u001b[38;5;241m=\u001b[39m \u001b[43mnp\u001b[49m\u001b[38;5;241;43m.\u001b[39;49m\u001b[43mexp\u001b[49m\u001b[43m(\u001b[49m\u001b[38;5;241;43m-\u001b[39;49m\u001b[38;5;241;43m0.5\u001b[39;49m\u001b[43m \u001b[49m\u001b[38;5;241;43m*\u001b[39;49m\u001b[43m \u001b[49m\u001b[43mdists\u001b[49m\u001b[43m)\u001b[49m\n\u001b[0;32m   1563\u001b[0m     \u001b[38;5;66;03m# convert from upper-triangular matrix to square matrix\u001b[39;00m\n\u001b[0;32m   1564\u001b[0m     K \u001b[38;5;241m=\u001b[39m squareform(K)\n",
      "\u001b[1;31mFloatingPointError\u001b[0m: underflow encountered in exp"
     ]
    }
   ],
   "source": [
    "adata = sim.rna.sim_svgs(n_svgs=15, n_non_svgs=15, alpha=0.6, sigma=3, random_state=42)\n",
    "adata.write_h5ad(f\"`ip_benchmarks.h5ad\")"
   ]
  }
 ],
 "metadata": {
  "kernelspec": {
   "display_name": ".venv",
   "language": "python",
   "name": "python3"
  },
  "language_info": {
   "codemirror_mode": {
    "name": "ipython",
    "version": 3
   },
   "file_extension": ".py",
   "mimetype": "text/x-python",
   "name": "python",
   "nbconvert_exporter": "python",
   "pygments_lexer": "ipython3",
   "version": "3.9.10"
  }
 },
 "nbformat": 4,
 "nbformat_minor": 2
}

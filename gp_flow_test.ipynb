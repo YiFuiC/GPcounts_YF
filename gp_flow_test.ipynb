{
 "cells": [
  {
   "cell_type": "code",
   "execution_count": 11,
   "metadata": {},
   "outputs": [],
   "source": [
    "import numpy as np\n",
    "import pandas as pd\n",
    "import scipy as sp\n",
    "import scanpy as sc\n",
    "import squidpy as sq\n",
    "import anndata as ad\n",
    "import seaborn as sns\n",
    "import simstpy as sim\n",
    "import matplotlib.pyplot as plt\n",
    "import statsmodels.formula.api as smf \n",
    "import statsmodels.api as sm\n",
    "import time\n",
    "import os\n",
    "import gpflow\n",
    "os.chdir(os.path.expanduser('~/GPcounts/GPcounts'))\n",
    "from GPcounts.RNA_seq_GP import rna_seq_gp\n"
   ]
  },
  {
   "cell_type": "code",
   "execution_count": 12,
   "metadata": {},
   "outputs": [
    {
     "name": "stderr",
     "output_type": "stream",
     "text": [
      "c:\\Users\\User\\GPcounts\\.venv\\lib\\site-packages\\statsmodels\\genmod\\families\\links.py:13: FutureWarning: The identity link alias is deprecated. Use Identity instead. The identity link alias will be removed after the 0.15.0 release.\n",
      "  warnings.warn(\n",
      "c:\\Users\\User\\GPcounts\\.venv\\lib\\site-packages\\statsmodels\\genmod\\families\\family.py:1367: ValueWarning: Negative binomial dispersion parameter alpha not set. Using default value alpha=1.0.\n",
      "  warnings.warn(\"Negative binomial dispersion parameter alpha not \"\n",
      "c:\\Users\\User\\GPcounts\\.venv\\lib\\site-packages\\statsmodels\\genmod\\generalized_linear_model.py:308: DomainWarning: The identity link function does not respect the domain of the NegativeBinomial family.\n",
      "  warnings.warn((f\"The {type(family.link).__name__} link function \"\n",
      "c:\\Users\\User\\GPcounts\\.venv\\lib\\site-packages\\statsmodels\\genmod\\generalized_linear_model.py:1342: PerfectSeparationWarning: Perfect separation or prediction detected, parameter may not be identified\n",
      "  warnings.warn(msg, category=PerfectSeparationWarning)\n",
      "c:\\Users\\User\\GPcounts\\.venv\\lib\\site-packages\\statsmodels\\genmod\\generalized_linear_model.py:1342: PerfectSeparationWarning: Perfect separation or prediction detected, parameter may not be identified\n",
      "  warnings.warn(msg, category=PerfectSeparationWarning)\n",
      "C:\\Users\\User\\AppData\\Local\\Temp\\ipykernel_3172\\2290328068.py:18: FutureWarning: Series.__getitem__ treating keys as positions is deprecated. In a future version, integer keys will always be treated as labels (consistent with DataFrame behavior). To access a value by position, use `ser.iloc[pos]`\n",
      "  res = model.params[0]*spatial_locations['total_counts']\n"
     ]
    }
   ],
   "source": [
    "adata = sc.read_h5ad(r\"C:\\Users\\User\\GPcounts\\GPcounts\\demo_notebooks\\2000 spots inducing benchmark\")\n",
    "\n",
    "Y = pd.DataFrame(data=adata.X.todense().astype(int).copy(), \n",
    "                      index=adata.obs_names, \n",
    "                      columns=adata.var_names)\n",
    "\n",
    "spatial_locations = pd.DataFrame(data=adata.obsm['spatial'], \n",
    "                                     index=adata.obs_names, \n",
    "                                     columns=['x', 'y'])\n",
    "\n",
    "spatial_locations['total_counts'] = adata.X.sum(axis=1)\n",
    "\n",
    "scales = []\n",
    "for i in range(0, len(Y.columns)):\n",
    "    model=smf.glm(formula = \"Y.iloc[:, i]~0+spatial_locations['total_counts']\", \n",
    "                    data=Y, \n",
    "                    family=sm.families.NegativeBinomial(sm.families.links.identity())).fit()\n",
    "    res = model.params[0]*spatial_locations['total_counts']\n",
    "    scales.append(res)\n",
    "\n",
    "scalesdf=pd.DataFrame(scales)\n",
    "scalesdf=scalesdf.T\n",
    "\n",
    "Y = Y.T\n",
    "X = spatial_locations[['x', 'y']]"
   ]
  },
  {
   "cell_type": "code",
   "execution_count": 15,
   "metadata": {},
   "outputs": [
    {
     "name": "stderr",
     "output_type": "stream",
     "text": [
      "  0%|                                                                                                                                                                                                                         | 0/1 [00:00<?, ?it/s]"
     ]
    },
    {
     "name": "stdout",
     "output_type": "stream",
     "text": [
      "closure = <tensorflow.python.eager.polymorphic_function.polymorphic_function.Function object at 0x000001FA7FDC0AF0>\n",
      "  message: CONVERGENCE: REL_REDUCTION_OF_F_<=_FACTR*EPSMCH\n",
      "  success: True\n",
      "   status: 0\n",
      "      fun: 30911.751870400192\n",
      "        x: [ 1.113e+01  7.247e+00 ... -4.242e+01  4.031e+02]\n",
      "      nit: 17\n",
      "      jac: [ 1.113e+01  7.247e+00 ...  9.481e-19  4.895e+00]\n",
      "     nfev: 52\n",
      "     njev: 52\n",
      " hess_inv: <68x68 LbfgsInvHessProduct with dtype=float64>\n",
      "tf.Tensor(-30911.751870400192, shape=(), dtype=float64)\n",
      "lik_alpha = None\n",
      "alpha: <Parameter: name=softplus, dtype=float64, shape=[], fn=\"softplus\", numpy=403.0521820871244>\n",
      "lik_alpha = 403.0521820871244\n",
      "model 1 log likelihood = -30911.751870400192, alpha = 403.0521820871244, km = None\n",
      "closure = <tensorflow.python.eager.polymorphic_function.polymorphic_function.Function object at 0x000001FA03871DC0>\n",
      "  message: CONVERGENCE: REL_REDUCTION_OF_F_<=_FACTR*EPSMCH\n",
      "  success: True\n",
      "   status: 0\n",
      "      fun: 7.031264271417598e+16\n",
      "        x: [ 3.028e+07  2.327e+03 ... -1.106e+02  1.664e+10]\n",
      "      nit: 40\n",
      "      jac: [ 3.028e+07  2.327e+03 ...  1.293e-48  1.202e-07]\n",
      "     nfev: 104\n",
      "     njev: 104\n",
      " hess_inv: <67x67 LbfgsInvHessProduct with dtype=float64>\n",
      "tf.Tensor(-7.031264271417598e+16, shape=(), dtype=float64)\n"
     ]
    },
    {
     "name": "stderr",
     "output_type": "stream",
     "text": [
      "100%|█████████████████████████████████████████████████████████████████████████████████████████████████████████████████████████████████████████████████████████████████████████████████████████████████████████████████| 1/1 [00:04<00:00,  4.95s/it]"
     ]
    },
    {
     "name": "stdout",
     "output_type": "stream",
     "text": [
      "lik_alpha = None\n",
      "alpha: <Parameter: name=softplus, dtype=float64, shape=[], fn=\"softplus\", numpy=16642357108.941544>\n",
      "lik_alpha = 16642357108.941544\n",
      "model 1 log likelihood = -7.031264271417598e+16, alpha = 16642357108.941544, km = None\n"
     ]
    },
    {
     "name": "stderr",
     "output_type": "stream",
     "text": [
      "\n"
     ]
    }
   ],
   "source": [
    "# 0.5% len inducing points\n",
    "\n",
    "M = int(\n",
    "    (0.5 * (len(X))) / 100\n",
    ")\n",
    "\n",
    "gp_counts = rna_seq_gp(X, Y, sparse=True, M=M, scale=scalesdf, safe_mode=False)\n",
    "\n",
    "\n",
    "log_likelihood_ratio = gp_counts.One_sample_test(\"Negative_binomial\")\n",
    "\n"
   ]
  },
  {
   "cell_type": "code",
   "execution_count": null,
   "metadata": {},
   "outputs": [],
   "source": []
  }
 ],
 "metadata": {
  "kernelspec": {
   "display_name": ".venv",
   "language": "python",
   "name": "python3"
  },
  "language_info": {
   "codemirror_mode": {
    "name": "ipython",
    "version": 3
   },
   "file_extension": ".py",
   "mimetype": "text/x-python",
   "name": "python",
   "nbconvert_exporter": "python",
   "pygments_lexer": "ipython3",
   "version": "3.9.10"
  }
 },
 "nbformat": 4,
 "nbformat_minor": 4
}
